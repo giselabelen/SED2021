{
 "cells": [
  {
   "cell_type": "markdown",
   "id": "f4791d75-e264-4861-84b8-7533dde720fe",
   "metadata": {
    "slideshow": {
     "slide_type": "slide"
    },
    "tags": []
   },
   "source": [
    "  \n",
    "# Trabajo Práctico 1\n",
    "\n",
    "## Simulación de Eventos Discretos\n",
    "\n",
    "#### Departamento de Computación - Facultad de Ciencias Exactas y Naturales - Universidad de Buenos Aires\n",
    "\n",
    "20 de Septiembre de 2021\n",
    "\n",
    "**Grupo 04:** Confalonieri, Gisela - Lucero, Emiliano\n",
    "    \n",
    "\n",
    "----"
   ]
  },
  {
   "cell_type": "markdown",
   "id": "aa288c24-2938-4673-92ac-e927530afd6f",
   "metadata": {
    "slideshow": {
     "slide_type": "slide"
    },
    "tags": []
   },
   "source": [
    "# Modelo conceptual\n",
    "\n",
    "En el presente trabajo modelaremos un **sistema de evaluación de un centro de atención telefónica de una entidad bancaria**. \n",
    "\n",
    "Una **simplificación** de este tipo de sistemas podría ser la siguiente:\n",
    "\n",
    "* Una persona llama a la central telefónica de la entidad bancaria.\n",
    "* Una contestadora automática solicita datos a la persona para derivarla al área correspondiente a su solicitud.\n",
    "* El llamado es colocado en espera para ser atendido por un agente del área correspondiente.\n",
    "* El agente atiende la llamada y resuelve la solicitud.\n",
    "* Durante el recorrido de la llamada a través del sistema, se recopilan datos que serán utilizados en la generación de métricas de calidad de servicio.\n",
    "\n",
    "El objetivo de nuestro modelo es responder a la pregunta de **cuánto tiempo se demora en resolver una solicitud** a través de este centro de atención telefónica. Las posteriores simulaciones permitirían **analizar distintos escenarios en los que se observen mejoras en el servicio.**"
   ]
  },
  {
   "cell_type": "markdown",
   "id": "0f7e79a6-8199-4fd7-926a-58c947cb31d1",
   "metadata": {
    "slideshow": {
     "slide_type": "slide"
    },
    "tags": []
   },
   "source": [
    "## Estructura del modelo\n",
    "\n",
    "Nuestro modelo comprenderá:\n",
    "\n",
    "* Un **generador de las llamadas** que ingresan al centro de atención\n",
    "* Una **mesa de entrada** que redirigirá las llamadas al área correspondiente\n",
    "* Dos **áreas de atención específicas**, una para clientes y otra para no clientes\n",
    "* Un **medidor de métricas de calidad**\n",
    "\n",
    "Por lo tanto, un primer bosquejo de la estructura de nuestro modelo comprende los siguientes componentes:"
   ]
  },
  {
   "cell_type": "markdown",
   "id": "4c6741fa-be85-4758-8047-acdc0b743fe8",
   "metadata": {
    "slideshow": {
     "slide_type": "subslide"
    },
    "tags": []
   },
   "source": [
    "*Esquema general del modelo*\n",
    "\n",
    "![esquema general](./imgs/SED2021-TP1-General.png)"
   ]
  },
  {
   "cell_type": "markdown",
   "id": "c9642a3e-9604-499e-924f-266924adf348",
   "metadata": {
    "slideshow": {
     "slide_type": "slide"
    },
    "tags": []
   },
   "source": [
    "### Generador de llamadas\n",
    "\n",
    "* Representa las llamadas que recibe el centro de atención.\n",
    "* Su único input corresponde a un evento que indica cuándo dejar de generar llamados.\n",
    "* Periódicamente genera llamadas según alguna distribución.\n",
    "* Cada llamada generada corresponde a un cliente o a una persona que aún no es cliente."
   ]
  },
  {
   "cell_type": "markdown",
   "id": "629fbb64-f8d8-466d-a2d2-ab47b838bbd8",
   "metadata": {
    "slideshow": {
     "slide_type": "subslide"
    },
    "tags": []
   },
   "source": [
    "*Esquema del generador de llamadas*\n",
    "  \n",
    "![esquema general](./imgs/SED2021-TP1-Generador.png)"
   ]
  },
  {
   "cell_type": "markdown",
   "id": "24eb3427-8b42-4516-b915-fd039cab825f",
   "metadata": {
    "slideshow": {
     "slide_type": "slide"
    },
    "tags": []
   },
   "source": [
    "### Mesa de entrada\n",
    "\n",
    "* Recibe las llamadas como input, y las redirige al área correspondiente.\n",
    "  * Las llamadas ingresan a una cola de espera.\n",
    "  * Un subcomponente va desencolando las llamadas y enviándolas al área correspondiente."
   ]
  },
  {
   "cell_type": "markdown",
   "id": "09fee31a-cdbb-4e34-b543-2da713eec9c3",
   "metadata": {
    "slideshow": {
     "slide_type": "subslide"
    },
    "tags": []
   },
   "source": [
    "*Esquema de la mesa de entrada*\n",
    "  \n",
    "![esquema general](./imgs/SED2021-TP1-mesa_de_entrada.png)"
   ]
  },
  {
   "cell_type": "markdown",
   "id": "d5238c0d-4c00-4504-9774-248e7e619f27",
   "metadata": {
    "slideshow": {
     "slide_type": "slide"
    },
    "tags": []
   },
   "source": [
    "### Áreas de atención específica\n",
    "\n",
    "* Cada una de las áreas recibe como input las llamadas que llegan desde la mesa de entrada.\n",
    "* Estas llamadas ingresan a una cola de espera.\n",
    "* Un distrbuidor va desencolando las llamadas y asignándolas a los agentes que se encuentren disponibles.\n",
    "* Cada agente atiende una llamada y resuelve la solicitud. \n",
    "* Cada área comunica, a través de sus outputs, el momento en que cada llamada es atendida por un agente y el momento en que cada agente resuelve la solicitud de una llamada y la misma finaliza."
   ]
  },
  {
   "cell_type": "markdown",
   "id": "ba61c647-880b-487b-b5d3-35aae2e57f67",
   "metadata": {
    "slideshow": {
     "slide_type": "subslide"
    },
    "tags": []
   },
   "source": [
    "*Esquema de las áreas de atención específica*\n",
    "  \n",
    "![esquema general](./imgs/SED2021-TP1-areas_especificas.png)"
   ]
  },
  {
   "cell_type": "markdown",
   "id": "5ec755ec-729b-42ce-97f6-50237d748371",
   "metadata": {
    "slideshow": {
     "slide_type": "slide"
    },
    "tags": []
   },
   "source": [
    "### Medidor de métricas\n",
    "\n",
    "* Comprende diversos subcomponentes que evaluarán distintas métricas de calidad cada uno, a partir de los datos recibidos a lo largo del recorrido de la llamada por el centro de atención telefónica, a saber:\n",
    "  * Momento en que arriba una llamada al servicio\n",
    "  * Momento en que la llamada es atendida por un agente\n",
    "  * Momento en que la solicitud es resuelta por un agente\n",
    "* Nuestro primer bosquejo comprende las siguientes métricas:\n",
    "  * Tiempo promedio que una llamada está aguardando ser atendida (es decir, desde que llega hasta que es atendida por un agente)\n",
    "  * Tiempo máximo que una llamada estuvo aguardando ser atendida (es decir, desde que llega hasta que es atendida por un agente)\n",
    "  * Tiempo promedio que una llamada consume dentro del centro de atención (es decir, desde que llega hasta que su solicitud se resuelve)\n",
    "  * Tiempo máximo que una llamada consumió dentro del centro de atención (es decir, desde que llega hasta que su solicitud se resuelve)"
   ]
  },
  {
   "cell_type": "markdown",
   "id": "d23d13ce-135f-4671-8211-c41ae06c3135",
   "metadata": {
    "slideshow": {
     "slide_type": "subslide"
    },
    "tags": []
   },
   "source": [
    "*Esquema de los medidores de métricas*\n",
    "  \n",
    "![esquema general](./imgs/SED2021-TP1-Medidor.png)"
   ]
  },
  {
   "cell_type": "code",
   "execution_count": null,
   "id": "427626ef-d40c-4e34-b692-6c15e8a9d46a",
   "metadata": {},
   "outputs": [],
   "source": []
  }
 ],
 "metadata": {
  "kernelspec": {
   "display_name": "Python 3 (ipykernel)",
   "language": "python",
   "name": "python3"
  },
  "language_info": {
   "codemirror_mode": {
    "name": "ipython",
    "version": 3
   },
   "file_extension": ".py",
   "mimetype": "text/x-python",
   "name": "python",
   "nbconvert_exporter": "python",
   "pygments_lexer": "ipython3",
   "version": "3.9.5"
  }
 },
 "nbformat": 4,
 "nbformat_minor": 5
}
