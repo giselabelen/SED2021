{
 "cells": [
  {
   "cell_type": "markdown",
   "id": "06f0e538-a981-4057-b147-cc56685a2103",
   "metadata": {},
   "source": [
    "# Entrega Final \n",
    "\n",
    "## Simulación de Eventos Discretos\n",
    "\n",
    "#### Departamento de Computación - Facultad de Ciencias Exactas y Naturales - Universidad de Buenos Aires\n",
    "\n",
    "Cursada 2021\n",
    "\n",
    "_Confalonieri, Gisela - Lucero, Emiliano_\n",
    "\n",
    "----"
   ]
  },
  {
   "cell_type": "markdown",
   "id": "c4dd061a-4cbc-4105-94f9-fd0c6b8efb7c",
   "metadata": {},
   "source": [
    "# Resumen\n",
    "En este notebook presentamos un conjunto de herramientas desarrolladas con el fin de facilitar la utilización del simulador CD++ y el análisis de los resultados dentro del entorno de JupyterLab. El enfoque está puesto especialmente en el dictado del curso de Simulación de Eventos Discretos, buscando minimizar la cantidad de contenido no específico de DEVS y CellDEVS, de manera que quienes tomen el curso puedan enfocarse en la forma de modelado más que en el código que permite correr las simulaciones desde un Jupyter Notebook y observar los resultados obtenidos.\n",
    "\n",
    "Para el manejo del simulador CD++ hemos desarrollado un conjunto de comandos tipo magic[1] que pueden ser invocados desde una linea de una celda de código de un Jupyter Notebook. También presentamos comandos magic a la par de un conjunto de métodos específicos para el procesamiento de los resultados de las simulaciones ejecutadas."
   ]
  },
  {
   "cell_type": "markdown",
   "id": "acb4d97a-3bd5-446c-bd32-d195998cd68c",
   "metadata": {},
   "source": [
    "# Herramientas desarrolladas\n",
    "\n",
    "El conjunto de comandos magics y métodos que hemos desarrollado se encuentran en los archivos `00-cdpp_parsing_plotting.py` y `01-cdpp_magics.py` que acompañan esta entrega. Los mismos deben ubicarse en la carpeta `~/.ipython/profile_{NAME}/startup/` donde `{NAME}` es el nombre del perfil de IPython sobre el cual se va a trabajar. Por defecto es _default_(`profile_default`). De esta manera, cada vez que se inicie Jupyter Lab se podrán utilizar los comandos y métodos definidos. \n",
    "\n",
    "Proveemos de un script `install.sh` que se ocupa de copiar los archivos en el directorio mencionado, basta con correr `./install.sh` desde una terminal. Es posible que se requiera asignar permisos de ejecución al script, lo cual se logra corriendo `chmod +x install.sh` desde la terminal. \n",
    "\n",
    "En caso de haber iniciado JupyterLab antes de hacer esta copia, deberá reiniciarse.\n",
    "\n",
    "## Comandos magic\n",
    "\n",
    "Hemos desarrollado una colección de funciones magics para facilitar el uso del simulador CD++ en JupyterLab. \n",
    "\n",
    "Todos los magics definidos son magics de línea. Esto quiere decir que considera sólo una línea de una celda de código, permitiendo continuar con código Python (u otros magics de línea) en el resto de la celda.\n",
    "\n",
    "Para consultar los comandos disponibles, ofrecemos el magic `%lscdpp`:"
   ]
  },
  {
   "cell_type": "code",
   "execution_count": null,
   "id": "fa741086-efd7-4bd1-a083-8bfd833950c8",
   "metadata": {},
   "outputs": [],
   "source": [
    "%lscdpp"
   ]
  },
  {
   "cell_type": "markdown",
   "id": "0e4d3833-2b2c-453e-a25d-a8b5b9b06a77",
   "metadata": {},
   "source": [
    "A su vez, se puede consultar la definición de cada comando utilizando el símbolo `?` luego del comando en cuestión. Por ejemplo, veamos la definición del comando `%cdpp_run`:"
   ]
  },
  {
   "cell_type": "code",
   "execution_count": null,
   "id": "7eee2071-3a9e-4a1e-a730-4b6c471da1d6",
   "metadata": {},
   "outputs": [],
   "source": [
    "%cdpp_run?"
   ]
  },
  {
   "cell_type": "markdown",
   "id": "ecc605cb-59cd-491e-8708-68bbefa681a3",
   "metadata": {},
   "source": [
    "## Magics y métodos para el procesamiento de resultados\n",
    "\n",
    "Para procsear los archivos resultantes de las simulaciones se proveen algunos comandos magics y otros métodos. Los comandos magics desarrollados a estos efectos reciben el path a los archivos de salida o de log que se producen al ejecutar una simulación y parsean su contenido en un dataframe de pandas. Estos dataframes quedan disponibles para ser consultados y utilizados en el resto del notebook. También desarrollamos algunos métodos para graficar estos dataframes. "
   ]
  },
  {
   "cell_type": "markdown",
   "id": "d013c4dd-88e8-4b62-8d59-93128d6652ac",
   "metadata": {},
   "source": [
    "# Ejemplos de uso\n",
    "\n",
    "A continuación mostraremos la utilización de las nuevas herramientas, tomando como base algunos ejemplos dados en clase."
   ]
  },
  {
   "cell_type": "markdown",
   "id": "77f85361-0231-4751-bfc5-289659e3aab8",
   "metadata": {
    "tags": []
   },
   "source": [
    "## Inicialización\n",
    "\n",
    "Comenzamos inicializando algunas variables de entorno que aprovecha CD++ (esto puede tardar unos segundos)."
   ]
  },
  {
   "cell_type": "code",
   "execution_count": null,
   "id": "47e24837-ceea-4cbf-990d-4daf0907b3b2",
   "metadata": {},
   "outputs": [],
   "source": [
    "# inicializamos variables\n",
    "%cdpp_init /home/gisela"
   ]
  },
  {
   "cell_type": "markdown",
   "id": "538d2ae8-f2e6-415b-bf02-68548632819b",
   "metadata": {},
   "source": [
    "Podemos notar que el magic `%cdpp_init` recibe como parámetro el path a la carpeta que contiene la carpeta `SED`, la cual contiene el simulador CD++. Como salida de este comando, se observa un diccionario de variables de entorno que pueden ser utilizadas en cualquier celda de código del notebook actual. Para acceder a estas variables, basta con escribir `CDPP_PATHS[VAR]` siendo `VAR` la variable de entorno a la que se quiere acceder."
   ]
  },
  {
   "cell_type": "markdown",
   "id": "15e5d050-12d6-460a-9521-bff82f74aaa5",
   "metadata": {
    "tags": []
   },
   "source": [
    "## Ejemplo 1: Generador de pulsos\n",
    "\n",
    "Tomaremos el ejemplo **Pulse** en `examples/pulse/` dado en clase. \n",
    "\n",
    "Primero establecemos el path al proyecto sobre el cual trabajar, de la siguiente manera:"
   ]
  },
  {
   "cell_type": "code",
   "execution_count": null,
   "id": "0067797c-8b07-438a-b08f-58d3ebd2a80c",
   "metadata": {},
   "outputs": [],
   "source": [
    "%cdpp_set_project -c examples/pulse"
   ]
  },
  {
   "cell_type": "markdown",
   "id": "b08478fa-b139-48c0-9ba5-907d1bd60b58",
   "metadata": {},
   "source": [
    "Una vez hecho esto, podemos, por ejemplo, revisar el archivo `pulse.ma` en `examples/pulse/model/` que incluye el atómico `pulse`:"
   ]
  },
  {
   "cell_type": "code",
   "execution_count": null,
   "id": "45367b33-983f-4a3d-823f-eb6d22e22971",
   "metadata": {},
   "outputs": [],
   "source": [
    "%cdpp_show model/pulse.ma"
   ]
  },
  {
   "cell_type": "markdown",
   "id": "ee5812ce-5dc0-4e59-a128-297a402473cf",
   "metadata": {},
   "source": [
    "Podemos ver también el contenido del archivo `reg.cpp`, donde se ve cómo se registra el modelo en el kernel del simulador:"
   ]
  },
  {
   "cell_type": "code",
   "execution_count": null,
   "id": "ea602b7c-8951-43d8-9b0b-e29accd757b6",
   "metadata": {},
   "outputs": [],
   "source": [
    "%cdpp_show src/reg.cpp"
   ]
  },
  {
   "cell_type": "markdown",
   "id": "89b5ccb5-4aca-4160-8eb8-0f0d8bc7b60f",
   "metadata": {},
   "source": [
    "Así, con el magic `%cdpp_show` podemos mostrar en el notebook cualquier archivo de texto."
   ]
  },
  {
   "cell_type": "markdown",
   "id": "2d9e1b31-042a-4858-9b72-1f849e401127",
   "metadata": {
    "tags": []
   },
   "source": [
    "### Simulación con CD++\n",
    "\n",
    "Teniendo listo nuestro modelo, vamos a compilar el simulador (esto puede tardar unos segundos):"
   ]
  },
  {
   "cell_type": "code",
   "execution_count": null,
   "id": "d2da16d9-3b98-48f6-8251-8870f3b04f4f",
   "metadata": {
    "scrolled": true,
    "tags": []
   },
   "outputs": [],
   "source": [
    "%cdpp_compile"
   ]
  },
  {
   "cell_type": "markdown",
   "id": "3a224351-c337-481e-a750-974e5e62c6ce",
   "metadata": {},
   "source": [
    "Si nos interesa, podemos observar el archivo de eventos de entrada `pulse.ev`:"
   ]
  },
  {
   "cell_type": "code",
   "execution_count": null,
   "id": "253723f9-e1d3-40cb-b7d4-4354b31d103d",
   "metadata": {},
   "outputs": [],
   "source": [
    "%cdpp_show model/pulse.ev"
   ]
  },
  {
   "cell_type": "markdown",
   "id": "b877b384-49a9-4fab-be7f-272a76ac126c",
   "metadata": {},
   "source": [
    "Ahora ejecutemos el ejemplo y veamos los resultados. Para ejecutar la simulación utilizamos el comando `%cdpp_run` seguido de los mismos parámetros que se proveen a cd++ en un entorno bash:"
   ]
  },
  {
   "cell_type": "code",
   "execution_count": null,
   "id": "b405c4e7-e37e-4262-8ac6-04bd9bf3cf0f",
   "metadata": {
    "scrolled": true,
    "tags": []
   },
   "outputs": [],
   "source": [
    "%cdpp_run -m model/pulse.ma \\\n",
    "          -e model/pulse.ev \\\n",
    "          -l pulse.log \\\n",
    "          -o pulse.out"
   ]
  },
  {
   "cell_type": "markdown",
   "id": "fc54b2ea-c377-4ceb-96c2-a574fc827790",
   "metadata": {},
   "source": [
    "### Análisis de los resultados\n",
    "\n",
    "Graficamos los resultados que obtuvimos en el archivo `pulse.out`. Para esto utilizamos el magic `%parse_out_ev` para generar el dataframe, y el método `do_chart()` para generar un gráfico:"
   ]
  },
  {
   "cell_type": "code",
   "execution_count": null,
   "id": "85fa0479-3749-4578-a2a3-6cc4d3ce8fa1",
   "metadata": {},
   "outputs": [],
   "source": [
    "# generamos el dataframe\n",
    "salida_pulse = %parse_out_ev pulse.out\n",
    "\n",
    "# generamos un gráfico\n",
    "do_chart(salida_pulse)"
   ]
  },
  {
   "cell_type": "markdown",
   "id": "e9579fe5-a6bc-4676-a621-685d9e8656d0",
   "metadata": {},
   "source": [
    "Como se puede ver, el magic `%parse_out_ev` recibe el nombre del archivo a parsear, y su salida puede asignarse a una variable para poder trabajarlo luego. Veamos cómo luce el dataframe:"
   ]
  },
  {
   "cell_type": "code",
   "execution_count": null,
   "id": "2528cced-0814-4435-b847-b28c5fb61489",
   "metadata": {},
   "outputs": [],
   "source": [
    "salida_pulse"
   ]
  },
  {
   "cell_type": "markdown",
   "id": "017ecbe9-a010-4f37-a75d-e21805af6fe7",
   "metadata": {},
   "source": [
    "El método `do_chart()` por defecto realiza un gráfico de línea del campo valor en función del campo tiempo. También se pueden realizar otros tipos de gráficos con `do_chart()`, los veremos en los siguientes ejemplos, pero si se necesitase hacer otro gráfico u otros tratamientos sobre el dataframe obtenido de la salida de la simulación, se puede utilizar el resultado de `%parse_out_ev`. También puede extenderse `do_chart()` para que soporte otros tipos de gráfico."
   ]
  },
  {
   "cell_type": "markdown",
   "id": "474796eb-2fba-4dcf-b82f-014f8254a3cc",
   "metadata": {},
   "source": [
    "## Ejemplo 2: Semáforo (autómata temporizado)\n",
    "\n",
    "Este ejemplo también fue dado durante las clases. El modelo fue descargado y ubicado en la carpeta `examples`.\n",
    "\n",
    "Comenzamos estableciendo el directorio:"
   ]
  },
  {
   "cell_type": "code",
   "execution_count": null,
   "id": "1f3da933-00b4-4ed6-bf83-9c8837d8ea8c",
   "metadata": {},
   "outputs": [],
   "source": [
    "%cdpp_set_project -c examples/semaforo"
   ]
  },
  {
   "cell_type": "markdown",
   "id": "df1ecb0c-28f7-4a64-9d38-7fbf1296195b",
   "metadata": {
    "tags": []
   },
   "source": [
    "Y de la misma manera que en el ejemplo anterior, podemos ver el contenido de los archivos de ese directorio. Por ejemplo, veamos los archivos `trafficlights.ma`, `trafficlights.cpp` y `trafficlights.h`:"
   ]
  },
  {
   "cell_type": "markdown",
   "id": "e97af5b2-2af6-4324-ab21-9802a5761df5",
   "metadata": {
    "tags": []
   },
   "source": [
    "### Simulación con CD++\n",
    "\n",
    "Vamos a compilar el simulador:"
   ]
  },
  {
   "cell_type": "code",
   "execution_count": null,
   "id": "539f4dfb-a07d-4532-a63b-cadc1e064c52",
   "metadata": {
    "scrolled": true,
    "tags": []
   },
   "outputs": [],
   "source": [
    "%cdpp_compile"
   ]
  },
  {
   "cell_type": "markdown",
   "id": "ef998319-9755-4f84-829b-9db925b91cfe",
   "metadata": {},
   "source": [
    "Y ya podemos ejecutar la simulación:"
   ]
  },
  {
   "cell_type": "code",
   "execution_count": null,
   "id": "8cd2d932-cc18-4061-a742-afd6a4267d23",
   "metadata": {
    "scrolled": true,
    "tags": []
   },
   "outputs": [],
   "source": [
    "%cdpp_run -m model/trafficlights.ma \\\n",
    "          -l trafficlights.log \\\n",
    "          -o trafficlights.out \\\n",
    "          -t 00:03:00:00"
   ]
  },
  {
   "cell_type": "markdown",
   "id": "4c30dd38-291d-4841-a7d7-cf8601fb9674",
   "metadata": {},
   "source": [
    "### Análisis de los resultados:\n",
    "\n",
    "Vamos a parsear el contenido del archivo `trafficlights.out` y a graficar los eventos. En este caso, especificaremos que queremos obtener un gráfico de tipo _step_:"
   ]
  },
  {
   "cell_type": "code",
   "execution_count": null,
   "id": "98d9bb34-88f6-4b46-97f9-6e9b97010603",
   "metadata": {},
   "outputs": [],
   "source": [
    "salida_sem = %parse_out_ev trafficlights.out\n",
    "\n",
    "do_chart(salida_sem,\"step\")"
   ]
  },
  {
   "cell_type": "markdown",
   "id": "d520d95d-5230-427e-8b10-319c5abf5dbf",
   "metadata": {},
   "source": [
    "Nuevamente, el dataframe queda disponible para ser consultado y utilizado en el notebook:"
   ]
  },
  {
   "cell_type": "code",
   "execution_count": null,
   "id": "a5fa0447-d94e-4518-a4db-5066c343e14a",
   "metadata": {},
   "outputs": [],
   "source": [
    "salida_sem"
   ]
  },
  {
   "cell_type": "markdown",
   "id": "404ec976-63da-4302-8201-8c3d035f8cd3",
   "metadata": {},
   "source": [
    "## Ejemplo 3: Modelo _Simple Network_\n",
    "\n",
    "Comenzamos estableciendo el directorio:"
   ]
  },
  {
   "cell_type": "code",
   "execution_count": null,
   "id": "6b6aa339-fc62-458a-9141-8aff6fc89fb7",
   "metadata": {},
   "outputs": [],
   "source": [
    "%cdpp_set_project -c examples/SimpleNetwork"
   ]
  },
  {
   "cell_type": "markdown",
   "id": "eccf9a07-1a95-489a-bba5-9fb400fd1676",
   "metadata": {},
   "source": [
    "A partir de este momento pueden consultarse los archivos del modelo que se precisen utilizando el magic `%cdpp_show`, tal como lo hicimos anteriormente."
   ]
  },
  {
   "cell_type": "markdown",
   "id": "33a50066-1ca9-48dd-a604-55d6fdda8a97",
   "metadata": {},
   "source": [
    "### Simulador CD++\n",
    "\n",
    "Compilemos el simulador para este modelo:"
   ]
  },
  {
   "cell_type": "code",
   "execution_count": null,
   "id": "d5b08bf0-b6e2-4301-bd9f-4c98742ea2a7",
   "metadata": {
    "scrolled": true,
    "tags": []
   },
   "outputs": [],
   "source": [
    "%cdpp_compile"
   ]
  },
  {
   "cell_type": "markdown",
   "id": "0e859ccf-cfda-4ae8-a771-0d139e541193",
   "metadata": {},
   "source": [
    "Ahora nos paramos en donde se encuentra el ejecutable del simulador y corremos $20~\\text{s}$ de la simulación:"
   ]
  },
  {
   "cell_type": "code",
   "execution_count": null,
   "id": "ce7adc64-7d7c-4bb6-9b1a-9d05b01ac74b",
   "metadata": {
    "scrolled": true,
    "tags": []
   },
   "outputs": [],
   "source": [
    "%cdpp_run -m model/simpleNetwork.ma \\\n",
    "         -l simpleNetwork.log \\\n",
    "         -o simpleNetwork.out \\\n",
    "         -t 00:02:00:00"
   ]
  },
  {
   "cell_type": "markdown",
   "id": "919e82ce-430a-42ad-b815-9543d690f637",
   "metadata": {},
   "source": [
    "## Análisis de los resultados\n",
    "\n",
    "Ahora veamos los resultados:"
   ]
  },
  {
   "cell_type": "code",
   "execution_count": null,
   "id": "5ae1f6c2-b5da-49a5-8cb2-f62ab4c0e243",
   "metadata": {},
   "outputs": [],
   "source": [
    "salida_sn = %parse_out_ev simpleNetwork.out\n",
    "do_chart(salida_sn,\"stem\",['out','generator_out'])"
   ]
  },
  {
   "cell_type": "markdown",
   "id": "94fd7de9-ac5d-4571-98ae-95dfdc1ee37c",
   "metadata": {},
   "source": [
    "Como podemos observar, graficamos los eventos de salida del generador y los eventos de salida de la red, diferenciándolos por color. Esto fue posible indicando el tipo de gráfico _stem_ junto con una lista de los puertos presentes en el archivo `simpleNetwork.out` que nos interesaba distinguir. Veamos cómo luce el dataframe:"
   ]
  },
  {
   "cell_type": "code",
   "execution_count": null,
   "id": "c2276068-f08e-48e9-941d-e8cd9e31b4c7",
   "metadata": {},
   "outputs": [],
   "source": [
    "salida_sn"
   ]
  },
  {
   "cell_type": "markdown",
   "id": "484d829d-1f5c-4d81-86f6-7387ed8b516f",
   "metadata": {},
   "source": [
    "# Cell-DEVS\n",
    "\n",
    "Veamos ahora algunos ejemplos con Cell-DEVS. Ya que se utiliza el mismo simulador CD++, la inicialización de variables que se hace con `%cdpp_init` también contempla este caso. El resto de magics que estuvimos utilizando también sirven para Cell-DEVS, permitiendo utilizar los parámetros específicos del simulador.\n",
    "\n",
    "Como ya inicializamos las variables necesarias, podemos consultar la ayuda de CD++ de esta manera:"
   ]
  },
  {
   "cell_type": "code",
   "execution_count": null,
   "id": "387be6bd-eeff-4865-94c7-05cb59789bc5",
   "metadata": {},
   "outputs": [],
   "source": [
    "%cdpp_help"
   ]
  },
  {
   "cell_type": "markdown",
   "id": "5727bb23-44b0-4e2d-a32c-5e5db2c6c50d",
   "metadata": {},
   "source": [
    "Para compilar las herramientas auxiliares de CD++, como _Drawlog_, utilizamos el comando `%cdpp_compile_tools` (esto puede tardar unos segundos). "
   ]
  },
  {
   "cell_type": "code",
   "execution_count": null,
   "id": "50ce6fbb-d04f-44eb-9f6f-ef11c279735e",
   "metadata": {
    "scrolled": true,
    "tags": []
   },
   "outputs": [],
   "source": [
    "%cdpp_compile_tools"
   ]
  },
  {
   "cell_type": "markdown",
   "id": "4ecb5325-0433-466a-a35a-922f979b8968",
   "metadata": {},
   "source": [
    "También podemos acceder a la ayuda de _Drawlog_ con `%drawlog_help`:"
   ]
  },
  {
   "cell_type": "code",
   "execution_count": null,
   "id": "a39d41ac-6be3-4a38-a9db-234fe071a805",
   "metadata": {},
   "outputs": [],
   "source": [
    "%drawlog_help"
   ]
  },
  {
   "cell_type": "markdown",
   "id": "eb09412c-ea2d-46bb-ac6e-33f2b282a3b2",
   "metadata": {},
   "source": [
    "## Ejemplo 4: Fire\n",
    "\n",
    "Este es un ejemplo de propagación de fuego, visto en clase.\n",
    "\n",
    "Primero establecemos el path al proyecto sobre el cual trabajar y compilamos el simulador:"
   ]
  },
  {
   "cell_type": "code",
   "execution_count": null,
   "id": "6a2e131e-a4a5-485a-880f-5dc4b4fe6a57",
   "metadata": {
    "scrolled": true,
    "tags": []
   },
   "outputs": [],
   "source": [
    "%cdpp_set_project examples/cell-devs/fire/\n",
    "%cdpp_compile"
   ]
  },
  {
   "cell_type": "markdown",
   "id": "b4a4fac7-68f6-452b-80a2-a2f8843f1ba8",
   "metadata": {},
   "source": [
    "Ahora veamos cómo descargar el modelo del repositorio de modelos y guardarlo con en el path relativo a la carpeta del proyecto indicado:"
   ]
  },
  {
   "cell_type": "code",
   "execution_count": null,
   "id": "9c01534b-7bc1-43b7-a5f8-0d4c30be413d",
   "metadata": {},
   "outputs": [],
   "source": [
    "%cdpp_download_carleton fire.zip"
   ]
  },
  {
   "cell_type": "markdown",
   "id": "2cb2f2e6-96ea-4aed-bf7e-fda783488e3a",
   "metadata": {},
   "source": [
    "Y ahora vamos a descomprimir el .zip que contiene el modelo:"
   ]
  },
  {
   "cell_type": "code",
   "execution_count": null,
   "id": "53b446aa-0a3c-4dd1-85b0-7d4a0d53e58e",
   "metadata": {},
   "outputs": [],
   "source": [
    "%cdpp_unzip fire.zip"
   ]
  },
  {
   "cell_type": "markdown",
   "id": "84c2f2e6-dc8e-45d1-a0df-e3afe19e422b",
   "metadata": {},
   "source": [
    "Tal como mostramos más arriba, podemos ver el contenido de los archivos del modelo y los valores iniciales de las celdas:"
   ]
  },
  {
   "cell_type": "code",
   "execution_count": null,
   "id": "65a86347-3cb3-45e1-837d-3e756488e151",
   "metadata": {
    "scrolled": true,
    "tags": []
   },
   "outputs": [],
   "source": [
    "%cdpp_show FireMA.ma"
   ]
  },
  {
   "cell_type": "code",
   "execution_count": null,
   "id": "2de43e65-d593-4dbf-b74b-3e591c07494e",
   "metadata": {},
   "outputs": [],
   "source": [
    "%cdpp_show fire.val"
   ]
  },
  {
   "cell_type": "markdown",
   "id": "8c03b242-16dc-476c-96fb-d43ee1e555e9",
   "metadata": {},
   "source": [
    "### Simulación con CD++\n",
    "\n",
    "Vamos a simular 16 min de la propagación del fuego:"
   ]
  },
  {
   "cell_type": "code",
   "execution_count": null,
   "id": "bf802ef7-31d8-42c9-bf50-8d23765a8270",
   "metadata": {
    "scrolled": true,
    "tags": []
   },
   "outputs": [],
   "source": [
    "%cdpp_run -m FireMA.ma   \\\n",
    "        -l Fire.log \\\n",
    "        -t 00:16:00:000"
   ]
  },
  {
   "cell_type": "markdown",
   "id": "fef45581-ec60-4578-b9e3-051a3cc17c3b",
   "metadata": {},
   "source": [
    "### Análisis de los resultados\n",
    "\n",
    "Veamos el contenido de los archivos `.log`. Esto puede tardar algunos segundos en caso de tener un modelo muy complejo con muchos archivos de log."
   ]
  },
  {
   "cell_type": "code",
   "execution_count": null,
   "id": "326cbef5-72f7-4077-a41c-6b4ea36f9735",
   "metadata": {},
   "outputs": [],
   "source": [
    "log_fire = %parse_log Fire.log"
   ]
  },
  {
   "cell_type": "markdown",
   "id": "7d44e776-5cc1-4620-be47-529e80b899fa",
   "metadata": {},
   "source": [
    "Veamos cómo lucen los datos parseados por el magic `%parse_log`:"
   ]
  },
  {
   "cell_type": "code",
   "execution_count": null,
   "id": "cf4c0257-a2c3-4c69-8ae2-6549b1dde6a7",
   "metadata": {
    "scrolled": true,
    "tags": []
   },
   "outputs": [],
   "source": [
    "log_fire"
   ]
  },
  {
   "cell_type": "markdown",
   "id": "d2f9608b-bc8f-406c-b54c-e94f2d6a04fe",
   "metadata": {},
   "source": [
    "Como se puede observar, se trata de un diccionario cuyas claves son los componentes y celdas del modelo, y donde el valor de una clave es el parseo en un dataframe de su respectivo archivo de log:"
   ]
  },
  {
   "cell_type": "code",
   "execution_count": null,
   "id": "cfc1ed78-0b27-4bdf-936d-c288d37dc442",
   "metadata": {
    "scrolled": true,
    "tags": []
   },
   "outputs": [],
   "source": [
    "# veo las claves del diccionario\n",
    "log_fire.keys()"
   ]
  },
  {
   "cell_type": "code",
   "execution_count": null,
   "id": "59c90ac5-9312-424b-ac75-3997dcaf790c",
   "metadata": {},
   "outputs": [],
   "source": [
    "# veo el dataframe de una de las entradas del diccionario\n",
    "log_fire['ParallelRoot']"
   ]
  },
  {
   "cell_type": "code",
   "execution_count": null,
   "id": "ae291b2d-e361-4ea0-b7c7-64dae4e963f5",
   "metadata": {},
   "outputs": [],
   "source": [
    "# veo el dataframe de una de las entradas del diccionario\n",
    "log_fire['forestfire(0,0)']"
   ]
  },
  {
   "cell_type": "markdown",
   "id": "5f114756-f6d6-4d43-8e27-59e1246ee837",
   "metadata": {},
   "source": [
    "Podemos observar que las columnas de los dataframes no están nombradas, y que las filas contienen distinta cantidad de valores dependiendo del valor en la columna 3 (el tipo de mensaje). Para refinar el análisis de estos dataframes, proveemos el método `filter_and_name()` que dados un dataframe y un tipo de mensaje, filtra las filas correspondientes a dicho tipo y acota y renombra las columnas consecuentemente:"
   ]
  },
  {
   "cell_type": "code",
   "execution_count": null,
   "id": "8f0da3c5-f429-4a96-adba-4d3717c42ab8",
   "metadata": {},
   "outputs": [],
   "source": [
    "forestfire_tipo_Y = filter_and_name(log_fire[\"forestfire\"],'Y')\n",
    "forestfire_tipo_Y"
   ]
  },
  {
   "cell_type": "markdown",
   "id": "95c719c1-02f6-422a-b1b5-c16b47c5bd29",
   "metadata": {},
   "source": [
    "### Visualización usando drawlog\n",
    "\n",
    "Utilicemos la herramienta `drawlog` para visualizar los resultados. Para esto proveemos el magic `%drawlog_run`, al que le debemos pasar los mismos parámetros que al ejecutar `drawlog` desde consola:"
   ]
  },
  {
   "cell_type": "code",
   "execution_count": null,
   "id": "60ea03d0-f300-4e61-b9d3-462a797033ef",
   "metadata": {},
   "outputs": [],
   "source": [
    "%drawlog_run mFireMA.ma   \\\n",
    "             -lFire.log \\\n",
    "             -cforestfire \\\n",
    "             -i00:00:30:000 \\\n",
    "             -0 \\\n",
    "             -w3\\\n",
    "             -p0"
   ]
  },
  {
   "cell_type": "markdown",
   "id": "20a1ec3d-8409-4c92-ab6c-bf81516382b9",
   "metadata": {},
   "source": [
    "## Ejemplo 5: Difusión del calor 2D\n",
    "\n",
    "Este ejemplo visto en clase modela la difusión de calor en una barra de material en 2D usando un autómata celular.\n",
    "\n",
    "Primero establecemos el path al proyecto sobre el cual trabajar y compilamos el simulador:"
   ]
  },
  {
   "cell_type": "code",
   "execution_count": null,
   "id": "c1ea05d2-f546-4639-820a-58d49c6cf3b7",
   "metadata": {
    "scrolled": true,
    "tags": []
   },
   "outputs": [],
   "source": [
    "%cdpp_set_project examples/cell-devs/2dheat_diffusion/\n",
    "%cdpp_compile"
   ]
  },
  {
   "cell_type": "markdown",
   "id": "ed757758-3747-4977-afbf-47ebca5c2b46",
   "metadata": {},
   "source": [
    "Ahora descarguemos el modelo a la carpeta indicada y descomprimamos el .zip:"
   ]
  },
  {
   "cell_type": "code",
   "execution_count": null,
   "id": "f6adadea-b738-40b2-a11f-689557421617",
   "metadata": {},
   "outputs": [],
   "source": [
    "%cdpp_download_carleton 2dheat_diffusion.zip\n",
    "%cdpp_unzip 2dheat_diffusion.zip"
   ]
  },
  {
   "cell_type": "markdown",
   "id": "383c7246-b6a3-4fae-bdc1-deb822670200",
   "metadata": {},
   "source": [
    "De precisarlo, podemos visualizar los achivos del modelo tal como fue mostrado más arriba."
   ]
  },
  {
   "cell_type": "markdown",
   "id": "24670e85-1919-4517-932c-6088c02a0953",
   "metadata": {},
   "source": [
    "### Simulación con CD++\n",
    "\n",
    "Vamos a simular 2 min de la difusión:"
   ]
  },
  {
   "cell_type": "code",
   "execution_count": null,
   "id": "8001a912-c449-4466-b051-94f7cd1960a6",
   "metadata": {
    "scrolled": true,
    "tags": []
   },
   "outputs": [],
   "source": [
    "%cdpp_run -m HeatMA.ma   \\\n",
    "          -l Heat.log \\\n",
    "          -t 00:02:00:000"
   ]
  },
  {
   "cell_type": "markdown",
   "id": "ae2f949c-0de5-4f4a-9a03-68122b71393a",
   "metadata": {
    "tags": []
   },
   "source": [
    "### Análisis de los resultados\n",
    "\n",
    "Veamos el contenido de los archivos `.log`."
   ]
  },
  {
   "cell_type": "code",
   "execution_count": null,
   "id": "e5ef6c43-9f7d-4902-8474-e53614015c26",
   "metadata": {},
   "outputs": [],
   "source": [
    "log_heat = %parse_log Heat.log"
   ]
  },
  {
   "cell_type": "markdown",
   "id": "3660fdf0-0f18-4312-aadf-b43ed06d1b25",
   "metadata": {},
   "source": [
    "Veamos el log de la celda (5,5) que está conectada a la fuente de calor:"
   ]
  },
  {
   "cell_type": "code",
   "execution_count": null,
   "id": "127ed487-0588-4030-87d1-e1143d036347",
   "metadata": {},
   "outputs": [],
   "source": [
    "df_cell55 = log_heat['superficie(5,5)']\n",
    "df_cell55"
   ]
  },
  {
   "cell_type": "markdown",
   "id": "aa000fb3-7f1e-4a22-b7a0-da696823e53b",
   "metadata": {},
   "source": [
    "Veamos el achivo de log de la celda (8,8) que está conectada a la fuente de frío:"
   ]
  },
  {
   "cell_type": "code",
   "execution_count": null,
   "id": "8316238a-2f0c-4e5c-b3bc-1c310e07cdc9",
   "metadata": {},
   "outputs": [],
   "source": [
    "df_cell88 = log_heat['superficie(8,8)']\n",
    "df_cell88"
   ]
  },
  {
   "cell_type": "markdown",
   "id": "e8efa5c5-eb85-49a4-a227-c1b1e0f88f2e",
   "metadata": {},
   "source": [
    "Veamos los eventos de calor y frío. Nos interesa mirar los valores de los puertos `in` de ambos componentes, y como nuestro graficador sabe distinguir por puerto, podemos modificar los valores de puerto en los dataframes. Luego concatenamos ambos dataframes y lo graficamos:"
   ]
  },
  {
   "cell_type": "code",
   "execution_count": null,
   "id": "9f35c2fe-4ebb-46b4-a3b9-5e1c7443cfb5",
   "metadata": {},
   "outputs": [],
   "source": [
    "# me quedo con los eventos de entrada\n",
    "ev88 = filter_and_name(df_cell88,'X')\n",
    "ev55 = filter_and_name(df_cell55,'X')\n",
    "\n",
    "# modifico el valor del puerto \n",
    "ev88[PORT_COL] = ev88[PORT_COL].apply(lambda x: x + \"Frio\")\n",
    "ev55[PORT_COL] = ev55[PORT_COL].apply(lambda x: x + \"Calor\")\n",
    "\n",
    "# concateno dataframes\n",
    "frio_y_calor = pd.concat([ev88,ev55])\n",
    "\n",
    "# grafico los valores de los puertos in\n",
    "do_chart(frio_y_calor,\"stem\",['inFrio','inCalor'])"
   ]
  },
  {
   "cell_type": "markdown",
   "id": "32f93d46-6e2a-4835-88b3-3f59bbcc6d0f",
   "metadata": {},
   "source": [
    "Veamos el log del acoplado del modelo CellDEVS:"
   ]
  },
  {
   "cell_type": "code",
   "execution_count": null,
   "id": "b950df61-f357-4406-8199-6eab5cc05a36",
   "metadata": {},
   "outputs": [],
   "source": [
    "df_cells= log_heat['superficie']\n",
    "df_cells"
   ]
  },
  {
   "cell_type": "markdown",
   "id": "1ac9edb8-37f3-47b8-9b74-9422da940a4e",
   "metadata": {},
   "source": [
    "Por último, queremos graficar los mensajes Y de las celdas (0,0), (5,5) y (8,8)."
   ]
  },
  {
   "cell_type": "code",
   "execution_count": null,
   "id": "c65859eb-69ff-41b1-bac1-a826c1d20b2b",
   "metadata": {},
   "outputs": [],
   "source": [
    "# filtro por mensajes Y\n",
    "superficie = filter_and_name(df_cells,'Y')\n",
    "\n",
    "# separo por el componente que me interesa\n",
    "data00 = superficie.loc[superficie[MODEL_ORIGIN_COL] == \"superficie(0,0)(02)\"]\n",
    "data55 = superficie.loc[superficie[MODEL_ORIGIN_COL] == \"superficie(5,5)(57)\"]\n",
    "data88 = superficie.loc[superficie[MODEL_ORIGIN_COL] == \"superficie(8,8)(90)\"]\n",
    "\n",
    "# grafico\n",
    "do_chart(data00)\n",
    "do_chart(data55)\n",
    "do_chart(data88)"
   ]
  },
  {
   "cell_type": "markdown",
   "id": "bda91c0b-cd57-46b1-8937-463468aa1388",
   "metadata": {},
   "source": [
    "### Visualización usando drawlog\n",
    "\n",
    "Utilicemos la herramienta `drawlog` para visualizar los resultados. "
   ]
  },
  {
   "cell_type": "code",
   "execution_count": null,
   "id": "1f239ced-8c44-4628-b760-e8e68f3bb648",
   "metadata": {},
   "outputs": [],
   "source": [
    "%drawlog_run -mHeatMA.ma   \\\n",
    "             -llog.log \\\n",
    "             -csuperficie \\\n",
    "             -w6 \\\n",
    "             -p1 \\\n",
    "             -i00:00:05:000"
   ]
  },
  {
   "cell_type": "markdown",
   "id": "022da255-e262-44b6-af58-e34d35e72f5c",
   "metadata": {},
   "source": [
    "## Otros magics\n",
    "\n",
    "Además de los comandos y métodos que hemos presentado hasta ahora, también ofrecemos los siguientes:\n",
    "\n",
    "\n",
    "* `%cdpp_recompile`: Este magic limpia la compilación y la ejecuta de nuevo (como hacer make clean y luego make desde una terminal).\n",
    "* `%cdpp_download`: Este magic recibe como parámetro una url de un archivo y lo descarga con el nombre indicado. Funciona como `%cdpp_download_carleton`, con la diferencia que este último ya tiene preseteada la url.\n",
    "* `%cdpp_copy_to_project`: Este magic recibe como parámetro un path a un directorio, y copia su contenido al directorio establecido previamente con `%cdpp_set_project`.  Esto es útil cuando estamos desarrollando un modelo fuera del directorio `examples` del simulador. Con esto, un posible workflow podría ser el siguiente:"
   ]
  },
  {
   "cell_type": "raw",
   "id": "8e2ae850-8a80-4fed-ba2f-426ac2fa37fc",
   "metadata": {},
   "source": [
    "# inicializamos variables de entorno\n",
    "%cdpp_init /path/a/carpeta/del/simulador\n",
    "\n",
    "# establecemos el path al proyecto\n",
    "%cdpp_set_project -c examples/nombreProyecto\n",
    "\n",
    "# copiamos el contenido de nuestro modelo al path del proyecto\n",
    "%cdpp_copy_to_project ./nombreProyecto/\n",
    "\n",
    "# compilamos el simulador\n",
    "%cdpp_compile\n",
    "\n",
    "# ejecutamos la simulación\n",
    "%cdpp_run -params"
   ]
  },
  {
   "cell_type": "markdown",
   "id": "fc574528-6358-4d5d-a82d-4240eace34b7",
   "metadata": {},
   "source": [
    "# Conclusiones\n",
    "\n",
    "En este trabajo hemos desarrollado un conjunto de métodos y funciones magic para simplificar la utilización de CD++ en JupyterLab. Como se puede observar en este notebook, estos nuevos comandos permiten una mejor legibilidad y comprensión del proceso mediante el cual se construye un modelo, se corre una simulación, y se analizan los resultados obtenidos. De esta manera, una persona que tome el curso SED podrá enfocarse en los conceptos principales, sin tener que invertir mayor tiempo en el manejo de bash desde celdas del Jupyter Notebook, o en el procesamiento de dataframes. Además, el código presente en el notebook queda mucho más limpio y permite un mejor seguimiento de la clase."
   ]
  },
  {
   "cell_type": "markdown",
   "id": "ec7910ce-4e36-4669-9043-10960ac60128",
   "metadata": {},
   "source": [
    "# Referencias\n",
    "[1] https://ipython.readthedocs.io/en/stable/interactive/magics.html"
   ]
  }
 ],
 "metadata": {
  "kernelspec": {
   "display_name": "Python 3",
   "language": "python",
   "name": "python3"
  },
  "language_info": {
   "codemirror_mode": {
    "name": "ipython",
    "version": 3
   },
   "file_extension": ".py",
   "mimetype": "text/x-python",
   "name": "python",
   "nbconvert_exporter": "python",
   "pygments_lexer": "ipython3",
   "version": "3.7.13"
  }
 },
 "nbformat": 4,
 "nbformat_minor": 5
}
