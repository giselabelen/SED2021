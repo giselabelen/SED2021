{
 "cells": [
  {
   "cell_type": "markdown",
   "id": "f4791d75-e264-4861-84b8-7533dde720fe",
   "metadata": {
    "slideshow": {
     "slide_type": "slide"
    },
    "tags": []
   },
   "source": [
    "  \n",
    "# Trabajo Práctico 2\n",
    "\n",
    "## Simulación de Eventos Discretos\n",
    "\n",
    "#### Departamento de Computación - Facultad de Ciencias Exactas y Naturales - Universidad de Buenos Aires\n",
    "\n",
    "25 de Octubre de 2021\n",
    "\n",
    "**Grupo 04:** Confalonieri, Gisela - Lucero, Emiliano\n",
    "    \n",
    "\n",
    "----"
   ]
  },
  {
   "cell_type": "markdown",
   "id": "aa288c24-2938-4673-92ac-e927530afd6f",
   "metadata": {
    "slideshow": {
     "slide_type": "slide"
    },
    "tags": []
   },
   "source": [
    "# Modelo conceptual\n",
    "Nos interesa modelar el funcionamiento de la toma de radiografías. La idea básica, es que existe un cañón que emite rayos, los cuales viajan en distintas direcciones a través del espacio. Cuando la radiación se encuentra con un material, cuanto más denso sea (y más \"vivo\", no es lo mismo un ladrillo, que un hueso, que un tumor) más radiación va a absorber, y lo que finalmente es la \"placa de radiografía\" es la marca de los rayos que han logrado atravesar las partes más blandas y llegar al chasis con la placa (por eso los huesos salen blancos y los pulmones, que tienen aire, negros). \n",
    "\n",
    "Además, los rayos se atenúan con la distancia, por lo que cambia la cantidad de radiación necesaria según la distancia del cañón al objetivo, y la calidad de imagen que se desea obtener.\n",
    "\n",
    "Nos interesa, entonces, modelar una vista \"transversal\" de este proceso: de un lado entran los rayos con una determinada potencia de penetración, y a su paso se van atenuando y \"chocando\" con obstáculos que pueden absorberlos o dejarlos pasar con igual o menor potencia."
   ]
  },
  {
   "cell_type": "markdown",
   "id": "0f7e79a6-8199-4fd7-926a-58c947cb31d1",
   "metadata": {
    "slideshow": {
     "slide_type": "slide"
    },
    "tags": []
   },
   "source": [
    "## Estructura del modelo\n"
   ]
  },
  {
   "cell_type": "markdown",
   "id": "4c6741fa-be85-4758-8047-acdc0b743fe8",
   "metadata": {
    "slideshow": {
     "slide_type": "subslide"
    },
    "tags": []
   },
   "source": [
    "### **Esquema conceptual general del modelo**\n",
    "\n"
   ]
  }
 ],
 "metadata": {
  "interpreter": {
   "hash": "e7370f93d1d0cde622a1f8e1c04877d8463912d04d973331ad4851f04de6915a"
  },
  "kernelspec": {
   "display_name": "Python 3.9.5 64-bit",
   "name": "python3"
  },
  "language_info": {
   "codemirror_mode": {
    "name": "ipython",
    "version": 3
   },
   "file_extension": ".py",
   "mimetype": "text/x-python",
   "name": "python",
   "nbconvert_exporter": "python",
   "pygments_lexer": "ipython3",
   "version": "3.9.5"
  }
 },
 "nbformat": 4,
 "nbformat_minor": 5
}
