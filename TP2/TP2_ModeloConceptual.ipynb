{
 "cells": [
  {
   "cell_type": "markdown",
   "id": "f4791d75-e264-4861-84b8-7533dde720fe",
   "metadata": {
    "slideshow": {
     "slide_type": "slide"
    },
    "tags": []
   },
   "source": [
    "  \n",
    "# Trabajo Práctico 2\n",
    "\n",
    "## Simulación de Eventos Discretos\n",
    "\n",
    "#### Departamento de Computación - Facultad de Ciencias Exactas y Naturales - Universidad de Buenos Aires\n",
    "\n",
    "24 de Noviembre de 2021\n",
    "\n",
    "**Grupo 04:** Confalonieri, Gisela - Lucero, Emiliano\n",
    "    \n",
    "\n",
    "----"
   ]
  },
  {
   "cell_type": "markdown",
   "id": "04da05c9-acbd-402e-9637-7ab312f30ee5",
   "metadata": {},
   "source": [
    "# Inicialización"
   ]
  },
  {
   "cell_type": "markdown",
   "id": "466da6d4-9a5a-4dc5-9d7b-27467e9a6b2e",
   "metadata": {},
   "source": [
    "Inicializamos variables de entorno"
   ]
  },
  {
   "cell_type": "code",
   "execution_count": 1,
   "id": "bfd6bb9d-9a7a-4204-a60b-ba8ffb829ae0",
   "metadata": {},
   "outputs": [],
   "source": [
    "from pathlib import Path\n",
    "\n",
    "SED_HOME = Path.home().joinpath('SED')\n",
    "\n",
    "#Directorio base donde está instalado el siumulador\n",
    "CDPP_DIR = SED_HOME.joinpath('CDPP_ExtendedStates-codename-Santi')\n",
    "\n",
    "CDPP_SRC = CDPP_DIR.joinpath('src')\n",
    "CDPP_EXAMPLES = CDPP_DIR.joinpath('examples')\n",
    "CDPP_SCRIPTS = CDPP_DIR.joinpath('scripts')\n",
    "BASE_BIN = CDPP_SRC.joinpath('bin')\n",
    "CDPP_ATOMICS = CDPP_SRC.joinpath('cd++/atomics')\n",
    "\n",
    "CDPP_EXAMPLES_CELL = CDPP_EXAMPLES.joinpath('cell-devs')\n",
    "CDPP_BIN = BASE_BIN.joinpath('cd++')\n",
    "DRAWLOG_BIN = BASE_BIN.joinpath('drawlog')"
   ]
  },
  {
   "cell_type": "markdown",
   "id": "aa288c24-2938-4673-92ac-e927530afd6f",
   "metadata": {
    "slideshow": {
     "slide_type": "slide"
    },
    "tags": []
   },
   "source": [
    "# Modelo conceptual\n",
    "\n",
    "En el presente trabajo modelaremos una simplificación del funcionamiento de la toma de radiografías.\n",
    "\n",
    "Una radiografía es una técnica diagnóstica radiológica, en la que la imagen se obtiene al exponer al receptor de imagen radiográfica a una fuente de radiación de alta energía, comúnmente rayos X o radiación gamma procedente de isótopos radiactivos. Al interponer un objeto entre la fuente de radiación y el receptor, las partes más densas aparecen con diferentes tonos dentro de una escala de grises [1]. \n",
    "\n",
    "Los rayos X y los rayos gamma comprenden la porción de las altas energías y cortas longitudes de onda del espectro electromagnético. Los rayos gamma y los rayos X de igual longitud de onda tienen idénticas propiedades. Características de la radiación ionizante se basan en las siguientes características de los rayos X y de los rayos gamma:\n",
    "\n",
    "* Tienen una longitud de onda inversamente proporcional a su energía\n",
    "* No tienen carga eléctrica ni tienen masa.\n",
    "* En el espacio, ambos **viajan en línea recta a la velocidad de la luz.**\n",
    "* **Pueden penetrar la materia; la profundidad de la penetración depende de la longitud de onda de la radiación y de la naturaleza del material que es penetrado.**\n",
    "* **Son absorbidos por la materia; el porcentaje de absorción es función de la densidad y el espesor del material y de la longitud de onda de la radiación.**\n",
    "* Son dispersados por la materia; la cantidad de dispersión es función de la densidad de la materia y de la longitud de onda de la radiación.\n",
    "* Pueden ionizar la materia.\n",
    "* Pueden exponer un film/detector por ionización.\n",
    "* Pueden producir fluorescencia en ciertos materiales.\n",
    "* No pueden detectarse por medio de los sentidos humanos.\n",
    "[1]\n",
    "\n",
    "\n",
    "<!---Los rayos X, como los rayos de la luz visible, divergen desde su fuente de emisión y cubren mayores áreas en la medida que aumenta la distancia desde la fuente. NO VAMOS A CONSIDERAR ESTO EN PRINCIPIO--->\n",
    "\n",
    "\n",
    "En la medida que los fotones de alta energía pasan a través de un material, su energía decrece. Esto se conoce como **atenuación**. La teoría de atenuación dice que fotones de mayores energías viajan a través de los tejidos más fácilmente que los fotones de bajas energías (esto se relaciona mucho con el efecto fotoeléctrico)[2]. <!---La probabilidad de absorción fotoeléctrica es aproximadamente proporcional a $$(Z/E)^3$$, donde Z es el número atómico del átomo de tejido y E es la energía del fotón. A medida que E es más grande, la probabilidad de interacción cae rápidamente .--->\n",
    "\n",
    "<!--- lo que finalmente es la \"placa de radiografía\" es la marca de los rayos que han logrado atravesar las partes más blandas y llegar al chasis con la placa (por eso los huesos salen blancos y los pulmones, que tienen aire, negros). \n",
    "\n",
    "Además, los rayos se atenúan con la distancia, por lo que cambia la cantidad de radiación necesaria según la distancia del cañón al objetivo, y la calidad de imagen que se desea obtener.--->\n",
    "\n",
    "Entonces, en este trabajo nos interesa modelar una vista \"transversal\" de este proceso: simulando el disparo de fotones desde ciertos puntos en un extremo de un plano y con cierta energía inicial, su avance en el espacio en línea recta, la atenuación de su energía en la medida que recorre el aire y/o se encuentra con materiales que puedan absorber parte de la energía, y la energía con la que llegan los fotones al extremo receptor del plano, representando la imagen radiológica resultante.\n",
    "\n",
    "Por simplicidad, no consideraremos en nuestro primer modelo los aspectos de dispersión de radiación ni divergencia desde la fuente de emisión (es decir, que los rayos cubren mayores áreas en la medida que aumenta la distancia desde la fuente). Por lo tanto, nuestro modelo sólo considerará rayos que se disparan en línea recta desde la fuente emisora hacia el extremo receptor."
   ]
  },
  {
   "cell_type": "markdown",
   "id": "67d4fe1d",
   "metadata": {},
   "source": [
    "![](./imgs/idea_radiografia.png)"
   ]
  },
  {
   "cell_type": "markdown",
   "id": "0f7e79a6-8199-4fd7-926a-58c947cb31d1",
   "metadata": {
    "slideshow": {
     "slide_type": "slide"
    },
    "tags": []
   },
   "source": [
    "## Estructura del modelo\n"
   ]
  },
  {
   "cell_type": "markdown",
   "id": "4c6741fa-be85-4758-8047-acdc0b743fe8",
   "metadata": {
    "slideshow": {
     "slide_type": "subslide"
    },
    "tags": []
   },
   "source": [
    "* La dinámica de los fotones se modela en una grilla de celdas, comenzando en el extremo izquierdo y trasladándose hasta el extremo derecho en ángulo recto. Cada celda representa la carga energética de un haz de múltiples fotones que se comportan de manera idéntica.\n",
    "* El extremo izquierdo de la grilla representa la fuente de radiación. Al comenzar la simulación, se establecen las cargas iniciales de los fotones en la primer celda de cada fila (no hay puertos de entrada).\n",
    "* El extremo derecho de la grilla representa el receptor. Al llegar un haz de fotones a la última celda de cada fila, se almacena el valor correspondiente a la carga de los fotones en ese momento.\n",
    "* Otra grilla modela los obstáculos con los que se encuentran los fotones en su camino. En este caso, cada celda contiene el coeficiente de atenuación dependiendo del material del objeto y la densidad del mismo.\n",
    "* Mediante las reglas, se define el movimiento de los fotones en el tiempo y el cálculo de atenuación de cargas dependiendo del material que atraviesen los fotones.\n",
    "* Asumimos que no hay rebotes de fotones.\n",
    "* Interpretamos cada celda de ambas grillas como 1cm³ de espacio. Es decir, una grilla tendrá en sus celdas la representación de la energía de los fotones en ese cm³, y la otra grilla tendrá en sus celdas la representación del coeficiente de atenuación de un material en ese cm³."
   ]
  },
  {
   "cell_type": "markdown",
   "id": "ad160b83-83cc-488e-852a-f9c6eee05eb3",
   "metadata": {},
   "source": [
    "Las siguientes imágenes representan lo descrito arriba. El tamaño de las grillas en las imágenes es a modo orientativo, ya que trabajaremos con casos de diferentes tamaños.\n",
    "\n",
    "*Grilla de celdas con transmisión de fotones desde una fuente hasta un receptor:*\n",
    "\n",
    "![](./imgs/grillafotones.png)\n",
    "\n",
    "*Grilla de celdas con obstáculos que atenuarán la energía de los fotones:*\n",
    "\n",
    "![](./imgs/grillaobstaculos.png)"
   ]
  },
  {
   "cell_type": "markdown",
   "id": "7be84edb-9e9f-4160-a742-10de6d006499",
   "metadata": {},
   "source": [
    "## Coeficiente de atenuación lineal para rayos X\n",
    "\n",
    "La atenuación de rayos X puede describirse con la siguiente ecuación:\n",
    "\n",
    "$I (x) = I_0 e^{-\\mu x}$\n",
    "\n",
    "donde $I$ es la intensidad luego de la atenuación, $I_0$ es la intensidad entrante y $\\mu$ es el coeficiente de atenuación.[2]\n",
    "\n",
    "La celda que representa al obstáculo almacena el coeficiente de atenuación correspondiente a su material y espesor. A cada paso de simulación, se computará la atenuación correspondiente a la incidencia de los rayos y el coeficiente de atenuación del material representado en dicha celda."
   ]
  },
  {
   "cell_type": "markdown",
   "id": "640d2cb0-4105-4598-991c-f1fed2ca4895",
   "metadata": {},
   "source": [
    "# Modelo _CellDEVS_"
   ]
  },
  {
   "cell_type": "markdown",
   "id": "d785fef0-8321-4d81-86f0-545a1469b872",
   "metadata": {},
   "source": [
    "Este modelo no tiene puertos de entrada ni de salida, y consta sólo de un atómico Cell-DEVS para representar los haces de fotones y los materiales con los que interactúan.\n",
    "\n",
    "Los bordes del modelo son _nowrapped_ (no circular) y se utiliza retardo de transporte, en tiempo mínimo para poder observar los cambios (ya que los fotones se desplazan a la velocidad de la luz).\n",
    "\n",
    "## Vecindario\n",
    "\n",
    "El vecindario comprende a las celdas que se ubican a izquierda y a derecha (si existen) de la celda actual en ambas grillas del modelo:\n",
    "\n",
    "```\n",
    "neighbors : rayos(0,-1,0)  rayos(0,0,0)  rayos(0,1,0)\n",
    "neighbors : rayos(0,-1,1)  rayos(0,0,1)  rayos(0,1,1)\n",
    "```\n",
    "\n"
   ]
  },
  {
   "cell_type": "markdown",
   "id": "2a361432-f42c-4faa-ac6a-4b72e382d6ab",
   "metadata": {
    "tags": []
   },
   "source": [
    "## Reglas\n",
    "\n",
    "* **Regla avanzar sin obstcáulos**\n",
    "    * Si mi valor en intensidades (rayos) y en atenuaciones (material) es 0, y el valor de intensidad de mi vecino izquierdo es mayor a 0, tomo el valor de intensidad de mi vecino izquierdo.\n",
    "    \n",
    "```\n",
    "    rule : {(0,-1,0)} vel_propagacion {(0,0,0) = 0 and (0,0,1) = 0 and (0, -1, 0) > 0}  \n",
    "```\n",
    "\n",
    "* **Regla avanzar con obstáculos**\n",
    "    * Si mi valor en intensidades (rayos) es 0 y en atenuaciones (material) no es 0, y el valor de intensidad de mi vecino izquierdo es mayor a 0, calculo mi intensidad según la intensidad de mi vecino izquierdo y el coeficiente de atenuacion.\n",
    "    \n",
    "```\n",
    "    rule : {(0,-1,0) * exp(-1.0 * (0,0,1))} vel_propagacion {(0,0,0) = 0 and (0,0,1) > 0 and (0, -1, 0) > 0}  \n",
    "```\n",
    "\n",
    "* **Regla ya avancé**\n",
    "    * Si mi valor en intensidades (rayos) no es 0 y a mi derecha hay un valor mayor a 0, significa que el rayo ya pasó, me pongo en 0.\n",
    "\n",
    "```\n",
    "rule : {0.0} 100 {cellpos(2) = 0 and (0,0,0) > 0 and (0,1,0) > 0}\n",
    "```\n",
    "\n",
    "* **Regla borde derecho**\n",
    "    * En las celdas de la última columna, se mantiene el valor 0 mientras su vecino izquierdo no tenga valor distinto de 0.\n",
    "    \n",
    "```\n",
    "rule : {(0,0,0)} 100 {cellpos(2) = 0 and cellpos(1) = {{lastCol}} and (0, -1, 0) = 0 and (0,0,0) = 0}\n",
    "```\n",
    "\n",
    "* **Regla output**\n",
    "    * En las celdas de la última columna, si su vecino izquierdo tiene un valor de intensidad mayor a 0, se toma ese valor.\n",
    "    \n",
    "```\n",
    "rule : {(0,-1,0)} 100 {cellpos(2) = 0 and cellpos(1) = {{lastCol}} and (0, -1, 0) > 0 }\n",
    "```\n",
    "\n",
    "* **Regla default**\n",
    "    * Es siempre verdadera. Mantiene el valor actual de la celda.\n",
    "    \n",
    "```\n",
    "   rule : {(0,0,0)} 0 { t }\n",
    "```"
   ]
  },
  {
   "cell_type": "markdown",
   "id": "8934422a-3a87-474d-bfb9-30313a43d662",
   "metadata": {},
   "source": [
    "## Valores iniciales\n",
    "\n",
    "A partir de un modelo genérico, se generan modelos particulares que varían en su dimensión, la intensidad inicial de los fotones, y los objetos que se encuentren en el camino. \n",
    "\n",
    "El modelo genérico es el siguiente:"
   ]
  },
  {
   "cell_type": "code",
   "execution_count": 3,
   "id": "ac8d1191-4013-4728-acab-059226cb57fc",
   "metadata": {
    "scrolled": true,
    "tags": []
   },
   "outputs": [
    {
     "name": "stdout",
     "output_type": "stream",
     "text": [
      "[Top]\n",
      "components : rayos\n",
      "\n",
      "[rayos]\n",
      "type : cell\n",
      "dim : ({{n}}, {{m}}, 2)\n",
      "delay : transport\n",
      "border : nowrapped\n",
      "neighbors : rayos(0,-1,0)  rayos(0,0,0)  rayos(0,1,0)\n",
      "neighbors : rayos(0,-1,1)  rayos(0,0,1)  rayos(0,1,1)\n",
      "initialValue : 0.0\n",
      "initialCellsValue: {{initialCellsValues}}\n",
      "localtransition : rayos-rule\n",
      "defaultDelayTime : 0.0\n",
      "\n",
      "[rayos-rule]\n",
      "% Regla avanzar sin obstaculos\n",
      "% Si mi valor en intensidades y en atenuaciones es 0, y el valor de intensidad de mi vecino izquierdo es mayor a 0, tomo el % valor de intensidad de mi vecino izquierdo.\n",
      "\n",
      "rule : {(0,-1,0)} 100 {cellpos(2) = 0 and (0,0,0) = 0 and (0,0,1) = 0 and (0, -1, 0) > 0}  \n",
      "\n",
      "% Regla avanzar con obstaculos\n",
      "% Si mi valor en intensidades es 0 y en atenuaciones no es 0, y el valor de intensidad de mi vecino izquierdo es mayor a 0, % tomo el valor de intensidad de mi vecino izquierdo menos la atenuacion. (TODO: Hacer bien el calculo de atenuacion)\n",
      "\n",
      "rule : {(0,-1,0) * exp(-1.0 * (0,0,1))} 100 {cellpos(2) = 0 and (0,0,0) = 0 and (0,0,1) > 0 and (0, -1, 0) > 0}  \n",
      "\n",
      "% Regla ya avance\n",
      "% Si mi valor en intensidades no es 0 y a mi derecha hay un valor mayor a 0, significa que el rayo ya paso, me pongo en 0.\n",
      "\n",
      "rule : {0.0} 0 {cellpos(2) = 0 and (0,0,0) > 0 and (0,1,0) > 0}\n",
      "\n",
      "% Regla borde derecho\n",
      "% En las celdas de la última columna, se mantiene el valor 0 mientras su vecino izquierdo no tenga valor distinto de 0.\n",
      "\n",
      "rule : {(0,0,0)} 100 {cellpos(2) = 0 and cellpos(1) = {{lastCol}} and (0, -1, 0) = 0 and (0,0,0) = 0}\n",
      "\n",
      "% Regla output\n",
      "% En las celdas de la última columna, si su vecino izquierdo tiene un valor de intensidad mayor a 0, se toma ese valor.\n",
      "\n",
      "rule : {(0,-1,0)} 100 {cellpos(2) = 0 and cellpos(1) = {{lastCol}} and (0, -1, 0) > 0 }\n",
      "\n",
      "% Regla default\n",
      "% Es siempre verdadera. Mantiene el valor actual de la celda.\n",
      "\n",
      "rule : {(0,0,0)} 0 { t }"
     ]
    }
   ],
   "source": [
    "%%bash -s \"$CDPP_EXAMPLES\"\n",
    "\n",
    "cd $1/rayos/\n",
    "\n",
    "cat rayos_generico.ma  "
   ]
  },
  {
   "cell_type": "markdown",
   "id": "9da001d4",
   "metadata": {},
   "source": [
    "# Simulación del modelo con CD++"
   ]
  },
  {
   "cell_type": "markdown",
   "id": "410e9802-19b5-4884-bd28-a16a92620684",
   "metadata": {},
   "source": [
    "## Funciones auxiliares"
   ]
  },
  {
   "cell_type": "markdown",
   "id": "71a48248-1b1b-47a4-a4c2-27d1ea688aef",
   "metadata": {},
   "source": [
    "Para la generación de estados iniciales de los casos."
   ]
  },
  {
   "cell_type": "code",
   "execution_count": 22,
   "id": "b94c703c-8b22-43e4-a410-b6a297ee8e8f",
   "metadata": {},
   "outputs": [],
   "source": [
    "# Coeficientes atenuacion lineal x Material\n",
    "tabla_coefs = {\n",
    "    \"COEF_AIRE\": 0.000195\n",
    "}\n",
    "COEF_AIRE = tabla_coefs[\"COEF_AIRE\"]\n",
    "\n",
    "# Crear un archivo .val con los estados iniciales de las celdas para el caso mxn\n",
    "def generar_estado_inicial(n, m, path, obstaculos=None, coef_default=0.1, val_default=1.0):\n",
    "    # n = Valor de cantidad de columnas\n",
    "    # m = Valor de cantidad de filas\n",
    "    # path = filename del .val resultante\n",
    "    # obstaculos = matriz que contiene obstaculos y sus coeficientes de atenuacion\n",
    "    # coef_default = valor por defecto de los coeficientes no definidos en obstaculos\n",
    "    # val_default = valor intensidad por defecto, aplica sobre la primer columna nomas\n",
    "    valoresmapainicial = []\n",
    "    with open(\"rayos/\"+path+\".val\", 'w') as f:\n",
    "        for i in range(0,m):\n",
    "            for j in range(0,n):\n",
    "                if len(valoresmapainicial) <= j:\n",
    "                    valoresmapainicial.append([])\n",
    "                for c in range(0,2):\n",
    "                    if c == 0:\n",
    "                        if i == 0:\n",
    "                            # Los de la primer columna de rayos valen val_default\n",
    "                            val = val_default\n",
    "                        else:\n",
    "                            # El resto de las celdas de rayos vale 0.0\n",
    "                            val = 0.0\n",
    "                        valoresmapainicial[j].append(val)\n",
    "                    else:\n",
    "                        if obstaculos is None:\n",
    "                            # En todos los obstaculos pongo coef_default de atenuacion\n",
    "                            val = coef_default\n",
    "                        else:\n",
    "                            try:\n",
    "                                val = obstaculos[j][i]\n",
    "                            except KeyError:\n",
    "                                val = coef_default\n",
    "                            except IndexError:\n",
    "                                val = coef_default\n",
    "                    f.write(f\"({j},{i},{c}) = {val}\\n\")\n",
    "    return valoresmapainicial\n",
    "                        \n",
    "\n",
    "# Instancia rayos_generico.ma con los valores provistos\n",
    "def generar_ma(n, m, nombre_caso, initialCellsValues):\n",
    "    # n = Valor de cantidad de columnas\n",
    "    # m = Valor de cantidad de filas\n",
    "    # nombre_caso = filename del ma resultante\n",
    "    # initialCellsValues = Archivo de donde cargar los valores iniciales\n",
    "    with open(\"rayos/rayos_generico.ma\", 'r') as f:\n",
    "        data = f.read()\n",
    "        data = data.replace(\"{{n}}\", str(n))\n",
    "        data = data.replace(\"{{m}}\", str(m))\n",
    "        data = data.replace(\"{{lastCol}}\", str(n-1))\n",
    "        data = data.replace(\"{{initialCellsValues}}\", initialCellsValues+\".val\")\n",
    "\n",
    "    with open(f\"rayos/\"+nombre_caso+\".ma\", 'w') as f:\n",
    "        f.write(data)\n",
    "\n",
    "# generar_estado_inicial(10, 10, \"estado_10_10\", obstaculos_10_10, COEF_AIRE)\n",
    "# CASO_10_10 = \"rayos_10_10\"\n",
    "# generar_ma(10, 10, CASO_10_10, \"estado_10_10\")\n",
    "\n",
    "#generar_estado_inicial(100, 100, \"estado_100_100\", coef_default=COEF_AIRE)\n",
    "#CASO_100_100 = \"rayos_100_100\"\n",
    "#generar_ma(100, 100, CASO_100_100, \"estado_100_100\")\n",
    "\n",
    "#generar_estado_inicial(50, 50, \"estado_50_50\", coef_default=COEF_AIRE)\n",
    "#CASO_50_50 = \"rayos_50_50\"\n",
    "#generar_ma(50, 50, CASO_50_50, \"estado_50_50\")\n",
    "\n",
    "#generar_estado_inicial(5, 50, \"estado_5_50\", coef_default=COEF_AIRE)\n",
    "#CASO_5_50 = \"rayos_5_50\"\n",
    "#generar_ma(5, 50, CASO_5_50, \"estado_5_50\")"
   ]
  },
  {
   "cell_type": "markdown",
   "id": "f3128bb3-92cb-438a-b171-8c30e31884cd",
   "metadata": {},
   "source": [
    "Para graficar la evolución del modelo"
   ]
  },
  {
   "cell_type": "code",
   "execution_count": 62,
   "id": "3950cdc7-f6cd-4738-bb8f-e02a9d610eb5",
   "metadata": {
    "scrolled": true,
    "tags": []
   },
   "outputs": [],
   "source": [
    "import matplotlib.pyplot as plt\n",
    "import matplotlib.animation as anim\n",
    "from matplotlib import colors\n",
    "import numpy as np\n",
    "import os\n",
    "import pandas as pd\n",
    "import imageio\n",
    "\n",
    "# definimos los nombres de las columnas en los dataframes de pandas\n",
    "TIME_COL = 'time'\n",
    "PORT_COL = 'port'\n",
    "VALUE_COL = 'value'\n",
    "MESSAGE_TYPE_COL = 'message_type'\n",
    "MODEL_ORIGIN_COL = 'model_origin'\n",
    "MODEL_DEST_COL = 'model_dest'\n",
    "ani = None\n",
    "\n",
    "def parse_logs():\n",
    "    # valores iniciales\n",
    "    # data = valoresmapainicial\n",
    "\n",
    "    # valores que arroja cada paso de simulacion\n",
    "    LOG_FILENAME = str(CDPP_EXAMPLES)+\"/rayos/log.log01\"\n",
    "\n",
    "    parsed_logs = pd.read_csv(LOG_FILENAME,\n",
    "                               delimiter=r' /\\s+',\n",
    "                               engine='python',  # C engine doesnt work for regex\n",
    "                               #converters=df_converters,\n",
    "                               names=[0, 1,  # Not sure what first two cols are\n",
    "                                      MESSAGE_TYPE_COL,\n",
    "                                      TIME_COL,\n",
    "                                      MODEL_ORIGIN_COL,\n",
    "                                      PORT_COL,\n",
    "                                      VALUE_COL,\n",
    "                                      MODEL_DEST_COL]\n",
    "                              )\n",
    "\n",
    "    # me quedo con los tiempos en un arreglo\n",
    "    ats = parsed_logs.loc[parsed_logs[MESSAGE_TYPE_COL] == \"@\",TIME_COL]\n",
    "    tiempos = np.unique(ats.to_numpy())[1:]\n",
    "    \n",
    "    return parsed_logs, tiempos\n",
    "\n",
    "def draw_each_state(parsed_logs, tiempos, estado_inicial):\n",
    "    def transformar_a_coordenadas(s):\n",
    "        return s.split('(')[1][:-1]\n",
    "\n",
    "    estado = estado_inicial\n",
    "    \n",
    "    # dibujamos el estado inicial\n",
    "    cmap = colors.ListedColormap(['white','red'])\n",
    "    # frames.append((plt.imshow(estado, cmap=cmap, interpolation='nearest'),))\n",
    "    plt.imshow(estado, cmap=cmap, interpolation='nearest')\n",
    "    plt.savefig('inicial.png')\n",
    "    plt.close()\n",
    "   # plt.show()\n",
    "    \n",
    "    # frames = []\n",
    "    # fig = plt.figure()\n",
    "    # para cada tiempo en el que hubo cambios en las celdas, levanto los dataframes asociados a esos cambios\n",
    "    filenames = ['inicial.png']\n",
    "    for t in tiempos:\n",
    "        salidas = parsed_logs.loc[parsed_logs[MESSAGE_TYPE_COL] == \"Y\"]\n",
    "        datos_t = salidas.loc[salidas[TIME_COL] == t]\n",
    "        datos_grafico = pd.DataFrame({\"celda\": datos_t[\"model_origin\"].apply(transformar_a_coordenadas), \"valores\": datos_t[\"value\"]});\n",
    "        for t in datos_grafico.itertuples():\n",
    "            fil, col = [int(i) for i in t[1][:-2].split(',')]\n",
    "            estado[fil][col] = float(t[2])\n",
    "\n",
    "        # dibujamos el estado luego de los cambios efectuados\n",
    "        cmap = colors.ListedColormap(['white','red'])\n",
    "        # frames.append((plt.imshow(estado, cmap=cmap, interpolation='nearest'),))\n",
    "        plt.imshow(estado, cmap=cmap, interpolation='nearest')\n",
    "            \n",
    "        # create file name and append it to a list\n",
    "        filename = str(t)+'.png'\n",
    "        filenames.append(filename)\n",
    "        \n",
    "        # save frame\n",
    "        plt.savefig(filename)\n",
    "        plt.close()\n",
    "      #  plt.show()\n",
    "        # ani = anim.ArtistAnimation(fig, frames, blit=True, interval=200, repeat=True, repeat_delay=1000)\n",
    "    \n",
    "    # build gif\n",
    "    with imageio.get_writer('rayos10x10.gif', mode='I') as writer:\n",
    "        for filename in filenames:\n",
    "            image = imageio.imread(filename)\n",
    "            writer.append_data(image)\n",
    "        plt.show()\n",
    "    # Remove files\n",
    "    for filename in set(filenames):\n",
    "        os.remove(filename)\n",
    "\n",
    "    \n",
    "    # HTML(ani.to_html5_video())\n",
    "    # plt.show(block=True)\n",
    "    # ani.save(\"derp.mp4\")"
   ]
  },
  {
   "cell_type": "markdown",
   "id": "9b198a34-3ab9-477a-91ac-e0573bcd1f4c",
   "metadata": {},
   "source": [
    "## Caso de prueba 10x10 \n",
    "\n",
    "Instanciamos rayos_generico.ma:\n",
    "\n",
    "* Dimensión de la grilla: 10x10\n",
    "* Valor inicial de los fotones: 1 (ESTO DEBERÍA SER UN VALOR MÁS REAL)\n",
    "* Valor inicial de los obstáculos: ???"
   ]
  },
  {
   "cell_type": "code",
   "execution_count": 63,
   "id": "252bf002-1937-4f81-87dc-482463c387ee",
   "metadata": {},
   "outputs": [],
   "source": [
    "# Coeficientes de obstaculos seteados por nosotros\n",
    "# por ejemplo pongo en (0,1) un obstaculo de coef 5.0 (0 fila, 5 col)\n",
    "obstaculos_10_10 = {0:{4: 5.0}}\n",
    "\n",
    "valoresmapainicial = generar_estado_inicial(10, 10, \"estado_10_10\", obstaculos_10_10, COEF_AIRE)\n",
    "CASO_10_10 = \"rayos_10_10\"\n",
    "generar_ma(10, 10, CASO_10_10, \"estado_10_10\")\n",
    "\n",
    "#generar_estado_inicial(100, 100, \"estado_100_100\", coef_default=COEF_AIRE)\n",
    "#CASO_100_100 = \"rayos_100_100\"\n",
    "#generar_ma(100, 100, CASO_100_100, \"estado_100_100\")\n",
    "\n",
    "#generar_estado_inicial(50, 50, \"estado_50_50\", coef_default=COEF_AIRE)\n",
    "#CASO_50_50 = \"rayos_50_50\"\n",
    "#generar_ma(50, 50, CASO_50_50, \"estado_50_50\")\n",
    "\n",
    "#generar_estado_inicial(10, 50, \"estado_10_50\", coef_default=COEF_AIRE)\n",
    "#CASO_10_50 = \"rayos_10_50\"\n",
    "#generar_ma(10, 50, CASO_10_50, \"estado_10_50\")\n",
    "\n",
    "#generar_estado_inicial(5, 50, \"estado_5_50\", coef_default=COEF_AIRE)\n",
    "#CASO_5_50 = \"rayos_5_50\"\n",
    "#generar_ma(5, 50, CASO_5_50, \"estado_5_50\")"
   ]
  },
  {
   "cell_type": "markdown",
   "id": "3a42d276-ec71-4774-bb5f-49169d906ddc",
   "metadata": {},
   "source": [
    "Creamos la carpeta de nuestro proyecto en SED y copiamos los archivos correspondientes"
   ]
  },
  {
   "cell_type": "code",
   "execution_count": 64,
   "id": "f2ebcd8b-172f-42a1-96d4-8785c2bfb402",
   "metadata": {},
   "outputs": [],
   "source": [
    "%%bash -s \"$CDPP_EXAMPLES\"\n",
    "\n",
    "cp -r rayos $1/"
   ]
  },
  {
   "cell_type": "markdown",
   "id": "5d269a8f-c70c-48d9-9fa7-c0049ccd177e",
   "metadata": {},
   "source": [
    "Corremos la simulación usando el modelo instanciado previamente"
   ]
  },
  {
   "cell_type": "code",
   "execution_count": 65,
   "id": "053667b4-8b0c-4860-8475-cf7cde10f1c2",
   "metadata": {
    "scrolled": true,
    "tags": []
   },
   "outputs": [
    {
     "name": "stdout",
     "output_type": "stream",
     "text": [
      "PCD++: A Tool to Implement n-Dimensional Cell-DEVS models\n",
      "Version 3.0 - March 2003\n",
      "Troccoli A., Rodriguez D., Wainer G., Barylko A., Beyoglonian J., Lopez A.\n",
      "-----------------------------------------------------------------------------\n",
      "PCD++ Extended States: An extended and improved version of CD++ for Cell-DEVS\n",
      "Version 4.1.2 - December 2018\n",
      "Santi L., Castro, R., Pimás, J.\n",
      "-----------------------------------------------------------------------------\n",
      "Discrete Event Simulation Lab\n",
      "Departamento de Computación\n",
      "Facultad de Ciencias Exactas y Naturales\n",
      "Universidad de Buenos Aires, Argentina\n",
      "-----------------------------------------------------------------------------\n",
      "Compiled for standalone simulation\n",
      "\n",
      "\n",
      "Loading models from rayos_10_10.ma\n",
      "Loading events from \n",
      "Running parallel simulation. Reading models partition from \n",
      "Model partition details output to: /dev/null*\n",
      "Message log: log.log\n",
      "Output to: /dev/null\n",
      "Tolerance set to: 1e-08\n",
      "Configuration to show real numbers: Width = 12 - Precision = 5\n",
      "Quantum: Not used\n",
      "Evaluate Debug Mode = OFF\n",
      "Flat Cell Debug Mode = OFF\n",
      "Debug Cell Rules Mode = OFF\n",
      "Temporary File created by Preprocessor = /tmp/fileMVlSJI\n",
      "Printing parser information = OFF\n",
      "\n",
      "Stop at time: 00:05:00:000:0\n",
      "LP 0: initializing simulation objects\n",
      "LP 0: starting simulation (NoTime).\n",
      "Simulation complete!\n",
      "Simulation ended!\n",
      "LP 0 has finished simulation \n"
     ]
    },
    {
     "name": "stderr",
     "output_type": "stream",
     "text": [
      "At 00:00:01:000:0\r"
     ]
    }
   ],
   "source": [
    "%%bash -s \"$CDPP_EXAMPLES\" \"$CASO_10_10\"\n",
    "\n",
    "cd $1/rayos/\n",
    "\n",
    "# Corre el modelo\n",
    "../../src/bin/cd++ -m $2.ma \\\n",
    "                   -l log.log \\\n",
    "                   -t 00:05:00:000"
   ]
  },
  {
   "cell_type": "markdown",
   "id": "44d05561-aa8c-43e3-814f-aeacda94f689",
   "metadata": {},
   "source": [
    "A partir de los valores iniciales y de los archivos de log arrojados por la simulación, graficamos el desplazamiento de los rayos en cada paso."
   ]
  },
  {
   "cell_type": "markdown",
   "id": "a0c9e156-2555-4d15-b417-e117ab33399c",
   "metadata": {},
   "source": [
    "Parseo los logs para graficar los estados siguientes de la simulación."
   ]
  },
  {
   "cell_type": "code",
   "execution_count": 66,
   "id": "5980c4bd-014e-436b-81b4-f2b2e38e68e6",
   "metadata": {},
   "outputs": [],
   "source": [
    "parsed_logs, tiempos = parse_logs()\n",
    "draw_each_state(parsed_logs, tiempos, valoresmapainicial)"
   ]
  },
  {
   "cell_type": "markdown",
   "id": "fd7c08b5-de05-4c80-a174-e0b321725a0d",
   "metadata": {},
   "source": [
    "Mostramos la animación producida por la ejecución de la celda anterior (REVISAR LA HARDCODEADA DEL NOMBRE, DEBERÍAMOS PARAMETRIZARLO?)\n",
    "\n",
    "![](rayos10x10.gif)"
   ]
  },
  {
   "cell_type": "markdown",
   "id": "adca110b-a3e7-40b1-b05b-68201a829e15",
   "metadata": {},
   "source": [
    "# Caso 10x50"
   ]
  },
  {
   "cell_type": "code",
   "execution_count": 10,
   "id": "6076032c-207a-4931-bf51-a074a5d5103a",
   "metadata": {},
   "outputs": [],
   "source": [
    "valoresmapainicial = generar_estado_inicial(10, 50, \"estado_10_50\", coef_default=COEF_AIRE)\n",
    "CASO_10_50 = \"rayos_10_50\"\n",
    "generar_ma(10, 50, CASO_10_50, \"estado_10_50\")"
   ]
  },
  {
   "cell_type": "code",
   "execution_count": 11,
   "id": "88389cc7-24f9-443c-91c3-e296e0d1e7ce",
   "metadata": {},
   "outputs": [],
   "source": [
    "%%bash -s \"$CDPP_EXAMPLES\"\n",
    "\n",
    "cp -r rayos $1/"
   ]
  },
  {
   "cell_type": "code",
   "execution_count": 12,
   "id": "0f107bab-2937-48a5-be4f-ace47a529350",
   "metadata": {},
   "outputs": [
    {
     "name": "stdout",
     "output_type": "stream",
     "text": [
      "PCD++: A Tool to Implement n-Dimensional Cell-DEVS models\n",
      "Version 3.0 - March 2003\n",
      "Troccoli A., Rodriguez D., Wainer G., Barylko A., Beyoglonian J., Lopez A.\n",
      "-----------------------------------------------------------------------------\n",
      "PCD++ Extended States: An extended and improved version of CD++ for Cell-DEVS\n",
      "Version 4.1.2 - December 2018\n",
      "Santi L., Castro, R., Pimás, J.\n",
      "-----------------------------------------------------------------------------\n",
      "Discrete Event Simulation Lab\n",
      "Departamento de Computación\n",
      "Facultad de Ciencias Exactas y Naturales\n",
      "Universidad de Buenos Aires, Argentina\n",
      "-----------------------------------------------------------------------------\n",
      "Compiled for standalone simulation\n",
      "\n",
      "\n",
      "Loading models from rayos_10_50.ma\n",
      "Loading events from \n",
      "Running parallel simulation. Reading models partition from \n",
      "Model partition details output to: /dev/null*\n",
      "Message log: log.log\n",
      "Output to: /dev/null\n",
      "Tolerance set to: 1e-08\n",
      "Configuration to show real numbers: Width = 12 - Precision = 5\n",
      "Quantum: Not used\n",
      "Evaluate Debug Mode = OFF\n",
      "Flat Cell Debug Mode = OFF\n",
      "Debug Cell Rules Mode = OFF\n",
      "Temporary File created by Preprocessor = /tmp/fileHSw55f\n",
      "Printing parser information = OFF\n",
      "\n",
      "Stop at time: 00:05:00:000:0\n",
      "LP 0: initializing simulation objects\n",
      "LP 0: starting simulation (NoTime).\n",
      "Simulation complete!\n",
      "Simulation ended!\n",
      "LP 0 has finished simulation \n"
     ]
    },
    {
     "name": "stderr",
     "output_type": "stream",
     "text": [
      "At 00:00:04:900:0\r"
     ]
    }
   ],
   "source": [
    "%%bash -s \"$CDPP_EXAMPLES\" \"$CASO_10_50\"\n",
    "\n",
    "cd $1/rayos/\n",
    "\n",
    "# Corre el modelo\n",
    "../../src/bin/cd++ -m $2.ma \\\n",
    "                   -l log.log \\\n",
    "                   -t 00:05:00:000"
   ]
  },
  {
   "cell_type": "code",
   "execution_count": 13,
   "id": "d94632d2-7a24-42b5-b55f-1f5dd5274a0f",
   "metadata": {},
   "outputs": [
    {
     "data": {
      "image/png": "[encoded data removed]",
      "text/plain": [
       "<Figure size 432x288 with 1 Axes>"
      ]
     },
     "metadata": {
      "needs_background": "light"
     },
     "output_type": "display_data"
    },
    {
     "data": {
      "image/png": "[encoded data removed]",
      "text/plain": [
       "<Figure size 432x288 with 1 Axes>"
      ]
     },
     "metadata": {
      "needs_background": "light"
     },
     "output_type": "display_data"
    },
    {
     "data": {
      "image/png": "[encoded data removed]",
      "text/plain": [
       "<Figure size 432x288 with 1 Axes>"
      ]
     },
     "metadata": {
      "needs_background": "light"
     },
     "output_type": "display_data"
    },
    {
     "data": {
      "image/png": "[encoded data removed]",
      "text/plain": [
       "<Figure size 432x288 with 1 Axes>"
      ]
     },
     "metadata": {
      "needs_background": "light"
     },
     "output_type": "display_data"
    },
    {
     "data": {
      "image/png": "[encoded data removed]",
      "text/plain": [
       "<Figure size 432x288 with 1 Axes>"
      ]
     },
     "metadata": {
      "needs_background": "light"
     },
     "output_type": "display_data"
    },
    {
     "data": {
      "image/png": "[encoded data removed]",
      "text/plain": [
       "<Figure size 432x288 with 1 Axes>"
      ]
     },
     "metadata": {
      "needs_background": "light"
     },
     "output_type": "display_data"
    },
    {
     "data": {
      "image/png": "[encoded data removed]",
      "text/plain": [
       "<Figure size 432x288 with 1 Axes>"
      ]
     },
     "metadata": {
      "needs_background": "light"
     },
     "output_type": "display_data"
    },
    {
     "data": {
      "image/png": "[encoded data removed]",
      "text/plain": [
       "<Figure size 432x288 with 1 Axes>"
      ]
     },
     "metadata": {
      "needs_background": "light"
     },
     "output_type": "display_data"
    },
    {
     "data": {
      "image/png": "[encoded data removed]",
      "text/plain": [
       "<Figure size 432x288 with 1 Axes>"
      ]
     },
     "metadata": {
      "needs_background": "light"
     },
     "output_type": "display_data"
    },
    {
     "data": {
      "image/png": "[encoded data removed]",
      "text/plain": [
       "<Figure size 432x288 with 1 Axes>"
      ]
     },
     "metadata": {
      "needs_background": "light"
     },
     "output_type": "display_data"
    },
    {
     "data": {
      "image/png": "[encoded data removed]",
      "text/plain": [
       "<Figure size 432x288 with 1 Axes>"
      ]
     },
     "metadata": {
      "needs_background": "light"
     },
     "output_type": "display_data"
    },
    {
     "data": {
      "image/png": "[encoded data removed]",
      "text/plain": [
       "<Figure size 432x288 with 1 Axes>"
      ]
     },
     "metadata": {
      "needs_background": "light"
     },
     "output_type": "display_data"
    },
    {
     "data": {
      "image/png": "[encoded data removed]",
      "text/plain": [
       "<Figure size 432x288 with 1 Axes>"
      ]
     },
     "metadata": {
      "needs_background": "light"
     },
     "output_type": "display_data"
    },
    {
     "data": {
      "image/png": "[encoded data removed]",
      "text/plain": [
       "<Figure size 432x288 with 1 Axes>"
      ]
     },
     "metadata": {
      "needs_background": "light"
     },
     "output_type": "display_data"
    },
    {
     "data": {
      "image/png": "[encoded data removed]",
      "text/plain": [
       "<Figure size 432x288 with 1 Axes>"
      ]
     },
     "metadata": {
      "needs_background": "light"
     },
     "output_type": "display_data"
    },
    {
     "data": {
      "image/png": "[encoded data removed]",
      "text/plain": [
       "<Figure size 432x288 with 1 Axes>"
      ]
     },
     "metadata": {
      "needs_background": "light"
     },
     "output_type": "display_data"
    },
    {
     "data": {
      "image/png": "[encoded data removed]",
      "text/plain": [
       "<Figure size 432x288 with 1 Axes>"
      ]
     },
     "metadata": {
      "needs_background": "light"
     },
     "output_type": "display_data"
    },
    {
     "data": {
      "image/png": "[encoded data removed]",
      "text/plain": [
       "<Figure size 432x288 with 1 Axes>"
      ]
     },
     "metadata": {
      "needs_background": "light"
     },
     "output_type": "display_data"
    },
    {
     "data": {
      "image/png": "[encoded data removed]",
      "text/plain": [
       "<Figure size 432x288 with 1 Axes>"
      ]
     },
     "metadata": {
      "needs_background": "light"
     },
     "output_type": "display_data"
    },
    {
     "data": {
      "image/png": "[encoded data removed]",
      "text/plain": [
       "<Figure size 432x288 with 1 Axes>"
      ]
     },
     "metadata": {
      "needs_background": "light"
     },
     "output_type": "display_data"
    },
    {
     "data": {
      "image/png": "[encoded data removed]",
      "text/plain": [
       "<Figure size 432x288 with 1 Axes>"
      ]
     },
     "metadata": {
      "needs_background": "light"
     },
     "output_type": "display_data"
    },
    {
     "data": {
      "image/png": "[encoded data removed]",
      "text/plain": [
       "<Figure size 432x288 with 1 Axes>"
      ]
     },
     "metadata": {
      "needs_background": "light"
     },
     "output_type": "display_data"
    },
    {
     "data": {
      "image/png": "[encoded data removed]",
      "text/plain": [
       "<Figure size 432x288 with 1 Axes>"
      ]
     },
     "metadata": {
      "needs_background": "light"
     },
     "output_type": "display_data"
    },
    {
     "data": {
      "image/png": "[encoded data removed]",
      "text/plain": [
       "<Figure size 432x288 with 1 Axes>"
      ]
     },
     "metadata": {
      "needs_background": "light"
     },
     "output_type": "display_data"
    },
    {
     "data": {
      "image/png": "[encoded data removed]",
      "text/plain": [
       "<Figure size 432x288 with 1 Axes>"
      ]
     },
     "metadata": {
      "needs_background": "light"
     },
     "output_type": "display_data"
    },
    {
     "data": {
      "image/png": "[encoded data removed]",
      "text/plain": [
       "<Figure size 432x288 with 1 Axes>"
      ]
     },
     "metadata": {
      "needs_background": "light"
     },
     "output_type": "display_data"
    },
    {
     "data": {
      "image/png": "[encoded data removed]",
      "text/plain": [
       "<Figure size 432x288 with 1 Axes>"
      ]
     },
     "metadata": {
      "needs_background": "light"
     },
     "output_type": "display_data"
    },
    {
     "data": {
      "image/png": "[encoded data removed]",
      "text/plain": [
       "<Figure size 432x288 with 1 Axes>"
      ]
     },
     "metadata": {
      "needs_background": "light"
     },
     "output_type": "display_data"
    },
    {
     "data": {
      "image/png": "[encoded data removed]",
      "text/plain": [
       "<Figure size 432x288 with 1 Axes>"
      ]
     },
     "metadata": {
      "needs_background": "light"
     },
     "output_type": "display_data"
    },
    {
     "data": {
      "image/png": "[encoded data removed]",
      "text/plain": [
       "<Figure size 432x288 with 1 Axes>"
      ]
     },
     "metadata": {
      "needs_background": "light"
     },
     "output_type": "display_data"
    },
    {
     "data": {
      "image/png": "[encoded data removed]",
      "text/plain": [
       "<Figure size 432x288 with 1 Axes>"
      ]
     },
     "metadata": {
      "needs_background": "light"
     },
     "output_type": "display_data"
    },
    {
     "data": {
      "image/png": "[encoded data removed]",
      "text/plain": [
       "<Figure size 432x288 with 1 Axes>"
      ]
     },
     "metadata": {
      "needs_background": "light"
     },
     "output_type": "display_data"
    },
    {
     "data": {
      "image/png": "[encoded data removed]",
      "text/plain": [
       "<Figure size 432x288 with 1 Axes>"
      ]
     },
     "metadata": {
      "needs_background": "light"
     },
     "output_type": "display_data"
    },
    {
     "data": {
      "image/png": "[encoded data removed]",
      "text/plain": [
       "<Figure size 432x288 with 1 Axes>"
      ]
     },
     "metadata": {
      "needs_background": "light"
     },
     "output_type": "display_data"
    },
    {
     "data": {
      "image/png": "[encoded data removed]",
      "text/plain": [
       "<Figure size 432x288 with 1 Axes>"
      ]
     },
     "metadata": {
      "needs_background": "light"
     },
     "output_type": "display_data"
    },
    {
     "data": {
      "image/png": "[encoded data removed]",
      "text/plain": [
       "<Figure size 432x288 with 1 Axes>"
      ]
     },
     "metadata": {
      "needs_background": "light"
     },
     "output_type": "display_data"
    },
    {
     "data": {
      "image/png": "[encoded data removed]",
      "text/plain": [
       "<Figure size 432x288 with 1 Axes>"
      ]
     },
     "metadata": {
      "needs_background": "light"
     },
     "output_type": "display_data"
    },
    {
     "data": {
      "image/png": "[encoded data removed]",
      "text/plain": [
       "<Figure size 432x288 with 1 Axes>"
      ]
     },
     "metadata": {
      "needs_background": "light"
     },
     "output_type": "display_data"
    },
    {
     "data": {
      "image/png": "[encoded data removed]",
      "text/plain": [
       "<Figure size 432x288 with 1 Axes>"
      ]
     },
     "metadata": {
      "needs_background": "light"
     },
     "output_type": "display_data"
    },
    {
     "data": {
      "image/png": "[encoded data removed]",
      "text/plain": [
       "<Figure size 432x288 with 1 Axes>"
      ]
     },
     "metadata": {
      "needs_background": "light"
     },
     "output_type": "display_data"
    },
    {
     "data": {
      "image/png": "[encoded data removed]",
      "text/plain": [
       "<Figure size 432x288 with 1 Axes>"
      ]
     },
     "metadata": {
      "needs_background": "light"
     },
     "output_type": "display_data"
    },
    {
     "data": {
      "image/png": "[encoded data removed]",
      "text/plain": [
       "<Figure size 432x288 with 1 Axes>"
      ]
     },
     "metadata": {
      "needs_background": "light"
     },
     "output_type": "display_data"
    },
    {
     "data": {
      "image/png": "[encoded data removed]",
      "text/plain": [
       "<Figure size 432x288 with 1 Axes>"
      ]
     },
     "metadata": {
      "needs_background": "light"
     },
     "output_type": "display_data"
    },
    {
     "data": {
      "image/png": "[encoded data removed]",
      "text/plain": [
       "<Figure size 432x288 with 1 Axes>"
      ]
     },
     "metadata": {
      "needs_background": "light"
     },
     "output_type": "display_data"
    },
    {
     "data": {
      "image/png": "[encoded data removed]",
      "text/plain": [
       "<Figure size 432x288 with 1 Axes>"
      ]
     },
     "metadata": {
      "needs_background": "light"
     },
     "output_type": "display_data"
    },
    {
     "data": {
      "image/png": "[encoded data removed]",
      "text/plain": [
       "<Figure size 432x288 with 1 Axes>"
      ]
     },
     "metadata": {
      "needs_background": "light"
     },
     "output_type": "display_data"
    },
    {
     "data": {
      "image/png": "[encoded data removed]",
      "text/plain": [
       "<Figure size 432x288 with 1 Axes>"
      ]
     },
     "metadata": {
      "needs_background": "light"
     },
     "output_type": "display_data"
    },
    {
     "data": {
      "image/png": "[encoded data removed]",
      "text/plain": [
       "<Figure size 432x288 with 1 Axes>"
      ]
     },
     "metadata": {
      "needs_background": "light"
     },
     "output_type": "display_data"
    },
    {
     "data": {
      "image/png": "[encoded data removed]",
      "text/plain": [
       "<Figure size 432x288 with 1 Axes>"
      ]
     },
     "metadata": {
      "needs_background": "light"
     },
     "output_type": "display_data"
    },
    {
     "data": {
      "image/png": "[encoded data removed]",
      "text/plain": [
       "<Figure size 432x288 with 1 Axes>"
      ]
     },
     "metadata": {
      "needs_background": "light"
     },
     "output_type": "display_data"
    }
   ],
   "source": [
    "parsed_logs, tiempos = parse_logs()\n",
    "draw_each_state(parsed_logs, tiempos, valoresmapainicial)"
   ]
  },
  {
   "cell_type": "markdown",
   "id": "c80fc3cf-bdaa-44e8-a262-ed68a0a96d21",
   "metadata": {},
   "source": [
    "## Caso persona"
   ]
  },
  {
   "cell_type": "markdown",
   "id": "3731ece2-fc13-4bdb-b9ba-fae1b97ab738",
   "metadata": {},
   "source": [
    "En este caso, los obstaculos van a representar a una parte del cuerpo de una persona"
   ]
  },
  {
   "cell_type": "markdown",
   "id": "ba16cf07-0e74-4a36-95c1-2d8821a3fee0",
   "metadata": {},
   "source": [
    "# Viejo"
   ]
  },
  {
   "cell_type": "code",
   "execution_count": null,
   "id": "34979794-cc0f-449e-b226-879f7dab40df",
   "metadata": {
    "scrolled": true,
    "tags": []
   },
   "outputs": [],
   "source": [
    "import matplotlib.pyplot as plt\n",
    "from matplotlib import colors\n",
    "import numpy as np\n",
    "import os\n",
    "import re\n",
    "import pandas as pd\n",
    "\n",
    "\n",
    "#valores iniciales\n",
    "data = valoresmapainicial\n",
    "\n",
    "# create discrete colormap\n",
    "cmap = colors.ListedColormap(['white','red'])\n",
    "plt.imshow(data, cmap=cmap, interpolation='nearest')\n",
    "plt.show()\n",
    "\n",
    "# valores que arroja cada paso de simulacion\n",
    "LOG_FILENAME = str(CDPP_EXAMPLES)+\"/rayos/log.log01\"\n",
    "\n",
    "# definimos los nombres de las columnas en los dataframes de pandas\n",
    "TIME_COL = 'time'\n",
    "PORT_COL = 'port'\n",
    "VALUE_COL = 'value'\n",
    "MESSAGE_TYPE_COL = 'message_type'\n",
    "MODEL_ORIGIN_COL = 'model_origin'\n",
    "MODEL_DEST_COL = 'model_dest'\n",
    "\n",
    "parsed_logs = pd.read_csv(LOG_FILENAME,\n",
    "                           delimiter=r' /\\s+',\n",
    "                           engine='python',  # C engine doesnt work for regex\n",
    "                           #converters=df_converters,\n",
    "                           names=[0, 1,  # Not sure what first two cols are\n",
    "                                  MESSAGE_TYPE_COL,\n",
    "                                  TIME_COL,\n",
    "                                  MODEL_ORIGIN_COL,\n",
    "                                  PORT_COL,\n",
    "                                  VALUE_COL,\n",
    "                                  MODEL_DEST_COL]\n",
    "                          )\n",
    "\n",
    "# me quedo con los tiempos en un arreglo\n",
    "ats = parsed_logs.loc[parsed_logs[MESSAGE_TYPE_COL] == \"@\",TIME_COL]\n",
    "tiempos = np.unique(ats.to_numpy())[1:]\n",
    "\n",
    "patron_coords = \".+\"\n",
    "\n",
    "def transformar_a_coordenadas(s):\n",
    "    return s.split('(')[1][:-1]\n",
    "    # re.match(patron_coords, s)\n",
    "    # return re.search(patron_coords, s)\n",
    "\n",
    "# para cada tiempo en el que hubo cambios en las celdas, levanto los dataframes asociados a esos cambios\n",
    "for t in tiempos:\n",
    "    salidas = parsed_logs.loc[parsed_logs[MESSAGE_TYPE_COL] == \"Y\"]\n",
    "    datos_t = salidas.loc[salidas[TIME_COL] == t]\n",
    "    datos_grafico = pd.DataFrame({\"celda\": datos_t[\"model_origin\"].apply(transformar_a_coordenadas), \"valores\": datos_t[\"value\"]});\n",
    "    for t in datos_grafico.itertuples():\n",
    "        fil, col = [int(i) for i in t[1][:-2].split(',')]\n",
    "        valoresmapainicial[fil][col] = float(t[2])\n",
    "        \n",
    "    cmap = colors.ListedColormap(['white','red'])\n",
    "\n",
    "    plt.imshow(valoresmapainicial, cmap=cmap, interpolation='nearest')\n",
    "\n",
    "    plt.show()\n",
    "    # la idea acá es parsear la columna model_origin \n",
    "    # (supongo que se puede tomar el substring que representa la celda)\n",
    "    # copiar los valores iniciales y modificar lo que cambió en las celdas\n",
    "    # (viendo la columna value), para luego graficar cada paso\n",
    "    # de la misma manera que hice con el estado inicial."
   ]
  },
  {
   "cell_type": "markdown",
   "id": "34b26ebe",
   "metadata": {
    "tags": []
   },
   "source": [
    "# Links - Referencias\n",
    "[1] [Radiography - Wikipedia](https://en.wikipedia.org/wiki/Radiography)\n",
    "\n",
    "[2] [What is X-Ray Attenuation](https://www.radiation-dosimetry.org/what-is-x-ray-attenuation-definition/)\n",
    "* [X-Ray Mass Attenuation](https://www.physics.nist.gov/PhysRefData/XrayMassCoef/chap2.html)\n",
    "* [X-Ray Mass Attenuation Coefficients](https://physics.nist.gov/PhysRefData/XrayMassCoef/tab2.html)\n",
    "* [Simulation of X-Ray NDT Imaging Techniques](https://www.ndt.net/article/wcndt00/papers/idn256/idn256.htm)"
   ]
  },
  {
   "cell_type": "code",
   "execution_count": null,
   "id": "85e7bd35-83d2-4f4c-ae4e-ba3b6862791d",
   "metadata": {},
   "outputs": [],
   "source": []
  },
  {
   "cell_type": "code",
   "execution_count": null,
   "id": "60ab4f65-02cc-45cf-888e-641eaec25799",
   "metadata": {},
   "outputs": [],
   "source": []
  },
  {
   "cell_type": "code",
   "execution_count": null,
   "id": "3bb223ee-6fca-410d-b499-245cebc542a3",
   "metadata": {},
   "outputs": [],
   "source": []
  },
  {
   "cell_type": "code",
   "execution_count": null,
   "id": "b0ef999d-b9a4-4801-8086-2cb92491b091",
   "metadata": {},
   "outputs": [],
   "source": []
  }
 ],
 "metadata": {
  "interpreter": {
   "hash": "e7370f93d1d0cde622a1f8e1c04877d8463912d04d973331ad4851f04de6915a"
  },
  "kernelspec": {
   "display_name": "Python 3",
   "language": "python",
   "name": "python3"
  },
  "language_info": {
   "codemirror_mode": {
    "name": "ipython",
    "version": 3
   },
   "file_extension": ".py",
   "mimetype": "text/x-python",
   "name": "python",
   "nbconvert_exporter": "python",
   "pygments_lexer": "ipython3",
   "version": "3.7.10"
  }
 },
 "nbformat": 4,
 "nbformat_minor": 5
}
