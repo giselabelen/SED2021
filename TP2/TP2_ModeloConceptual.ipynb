{
 "cells": [
  {
   "cell_type": "markdown",
   "id": "f4791d75-e264-4861-84b8-7533dde720fe",
   "metadata": {
    "slideshow": {
     "slide_type": "slide"
    },
    "tags": []
   },
   "source": [
    "  \n",
    "# Trabajo Práctico 2\n",
    "\n",
    "## Simulación de Eventos Discretos\n",
    "\n",
    "#### Departamento de Computación - Facultad de Ciencias Exactas y Naturales - Universidad de Buenos Aires\n",
    "\n",
    "25 de Octubre de 2021\n",
    "\n",
    "**Grupo 04:** Confalonieri, Gisela - Lucero, Emiliano\n",
    "    \n",
    "\n",
    "----"
   ]
  },
  {
   "cell_type": "markdown",
   "id": "aa288c24-2938-4673-92ac-e927530afd6f",
   "metadata": {
    "slideshow": {
     "slide_type": "slide"
    },
    "tags": []
   },
   "source": [
    "# Modelo conceptual\n",
    "\n",
    "En el presente trabajo modelaremos una simplificación del funcionamiento de la toma de radiografías.\n",
    "\n",
    "Una radiografía es una técnica diagnóstica radiológica, en la que la imagen se obtiene al exponer al receptor de imagen radiográfica a una fuente de radiación de alta energía, comúnmente rayos X o radiación gamma procedente de isótopos radiactivos. Al interponer un objeto entre la fuente de radiación y el receptor, las partes más densas aparecen con diferentes tonos dentro de una escala de grises [1]. \n",
    "\n",
    "Los rayos X y los rayos gamma comprenden la porción de las altas energías y cortas longitudes de onda del espectro electromagnético. Los rayos gamma y los rayos X de igual longitud de onda tienen idénticas propiedades. Características de la radiación ionizante se basan en las siguientes características de los rayos X y de los rayos gamma:\n",
    "\n",
    "* Tienen una longitud de onda inversamente proporcional a su energía\n",
    "* No tienen carga eléctrica ni tienen masa.\n",
    "* En el espacio, ambos **viajan en línea recta a la velocidad de la luz.**\n",
    "* **Pueden penetrar la materia; la profundidad de la penetración depende de la longitud de onda de la radiación y de la naturaleza del material que es penetrado.**\n",
    "* **Son absorbidos por la materia; el porcentaje de absorción es función de la densidad y el espesor del material y de la longitud de onda de la radiación.**\n",
    "* Son dispersados por la materia; la cantidad de dispersión es función de la densidad de la materia y de la longitud de onda de la radiación.\n",
    "* Pueden ionizar la materia.\n",
    "* Pueden exponer un film/detector por ionización.\n",
    "* Pueden producir fluorescencia en ciertos materiales.\n",
    "* No pueden detectarse por medio de los sentidos humanos.\n",
    "[1]\n",
    "\n",
    "\n",
    "<!---Los rayos X, como los rayos de la luz visible, divergen desde su fuente de emisión y cubren mayores áreas en la medida que aumenta la distancia desde la fuente. NO VAMOS A CONSIDERAR ESTO EN PRINCIPIO--->\n",
    "\n",
    "\n",
    "En la medida que los fotones de alta energía pasan a través de un material, su energía decrece. Esto se conoce como **atenuación**. La teoría de atenuación dice que fotones de mayores energías viajan a través de los tejidos más fácilmente que los fotones de bajas energías (esto se relaciona mucho con el efecto fotoeléctrico)[2]. <!---La probabilidad de absorción fotoeléctrica es aproximadamente proporcional a $$(Z/E)^3$$, donde Z es el número atómico del átomo de tejido y E es la energía del fotón. A medida que E es más grande, la probabilidad de interacción cae rápidamente .--->\n",
    "\n",
    "<!--- lo que finalmente es la \"placa de radiografía\" es la marca de los rayos que han logrado atravesar las partes más blandas y llegar al chasis con la placa (por eso los huesos salen blancos y los pulmones, que tienen aire, negros). \n",
    "\n",
    "Además, los rayos se atenúan con la distancia, por lo que cambia la cantidad de radiación necesaria según la distancia del cañón al objetivo, y la calidad de imagen que se desea obtener.--->\n",
    "\n",
    "Entonces, en este trabajo nos interesa modelar una vista \"transversal\" de este proceso: simulando el disparo de fotones desde ciertos puntos en un extremo de un plano y con cierta energía inicial, su avance en el espacio en línea recta, la atenuación de su energía en la medida que recorre el aire y/o se encuentra con materiales que puedan absorber parte de la energía, y la energía con la que llegan los fotones al extremo receptor del plano, representando la imagen radiológica resultante.\n",
    "\n",
    "Por simplicidad, no consideraremos en nuestro primer modelo los aspectos de dispersión de radiación ni divergencia desde la fuente de emisión (es decir, que los rayos cubren mayores áreas en la medida que aumenta la distancia desde la fuente). Por lo tanto, nuestro modelo sólo considerará rayos que se disparan en línea recta desde la fuente emisora hacia el extremo receptor."
   ]
  },
  {
   "cell_type": "markdown",
   "id": "67d4fe1d",
   "metadata": {},
   "source": [
    "![](./imgs/idea_radiografia.png)"
   ]
  },
  {
   "cell_type": "markdown",
   "id": "0f7e79a6-8199-4fd7-926a-58c947cb31d1",
   "metadata": {
    "slideshow": {
     "slide_type": "slide"
    },
    "tags": []
   },
   "source": [
    "## Estructura del modelo\n"
   ]
  },
  {
   "cell_type": "markdown",
   "id": "4c6741fa-be85-4758-8047-acdc0b743fe8",
   "metadata": {
    "slideshow": {
     "slide_type": "subslide"
    },
    "tags": []
   },
   "source": [
    "* Capa de transmisión.\n",
    "* Capa de obstáculos.\n",
    "* Ambas capas de la misma dimensión 2D.\n",
    "* Un rayo por fila, atraviesa el medio de izquierda a derecha.\n",
    "* Las celdas de la capa de obtáculos reprensentan el coeficiente de atenuación del obstaculo presente en ese lugar.\n",
    "* Las celdas de la capa de transmisión representan la carga de los fotones ubicado en esa posición.\n",
    "* Asumimos que los fotones se mueven con un ángulo recto.\n",
    "* Asumimos que no hay rebotes de fotones.\n",
    "* La primera columna de la capa de transmisión contiene las cargas iniciales de los fotones.\n",
    "* La última columna de la capa de transmisión contiene las cargas finales de los fotones que alcanzaron el receptor.\n",
    "* Las reglas definen el movimiento de los fotones a través del tiempo y la atenuación de las cargas a medida que se encuentran con obstaculos."
   ]
  },
  {
   "cell_type": "markdown",
   "id": "34b26ebe",
   "metadata": {},
   "source": [
    "# Links - Referencias\n",
    "[1] [Radiography - Wikipedia](https://en.wikipedia.org/wiki/Radiography)\n",
    "\n",
    "[2] [What is X-Ray Attenuation](https://www.radiation-dosimetry.org/what-is-x-ray-attenuation-definition/)\n",
    "* [X-Ray Mass Attenuation](https://www.physics.nist.gov/PhysRefData/XrayMassCoef/chap2.html)\n",
    "* [X-Ray Mass Attenuation Coefficients](https://physics.nist.gov/PhysRefData/XrayMassCoef/tab2.html)\n",
    "* [Simulation of X-Ray NDT Imaging Techniques](https://www.ndt.net/article/wcndt00/papers/idn256/idn256.htm)"
   ]
  },
  {
   "cell_type": "markdown",
   "id": "640d2cb0-4105-4598-991c-f1fed2ca4895",
   "metadata": {},
   "source": [
    "# Especificación"
   ]
  },
  {
   "cell_type": "markdown",
   "id": "d785fef0-8321-4d81-86f0-545a1469b872",
   "metadata": {},
   "source": [
    "## Celda"
   ]
  },
  {
   "cell_type": "markdown",
   "id": "c8c9d95a-b64c-4b13-9daf-1551a9df93b5",
   "metadata": {},
   "source": [
    "$C=<X,Y,S,N,type,d,\\tau, \\delta_{int}, \\delta_{ext},\\lambda,ta>$\n",
    "\n",
    "$X,Y,S = \\{0,1,2\\}$ 0 = Vacia, 1 = Ocupada por foton, 2 = Ocupada por Obstaculo\n",
    "\n",
    "$N = \\{(0, -1, 0), (0, 1, 0), (0, -1, 1), (0, 1, 1)\\}$\n",
    "\n",
    "$type = \\text{transport}$\n",
    "\n",
    "$d = vel_{propagacion}$\n",
    "\n",
    "$\\tau =$ definir las reglas primero"
   ]
  },
  {
   "cell_type": "markdown",
   "id": "eafde512-9fb8-4eaf-adf8-c13f203eb118",
   "metadata": {},
   "source": [
    "## Tablero"
   ]
  },
  {
   "cell_type": "markdown",
   "id": "3eb17b2c-56c7-4cf0-9434-15220aed885f",
   "metadata": {},
   "source": [
    "$GCTD=<X, Y, Xlist, Ylist, η, N, \\{m, n\\}, C, B, Z, select>$\n",
    "\n",
    "$η = 4$. El de la izquierda y el de la derecha, en ambas capas.\n",
    "\n",
    "$N = \\{ (i_p, j_p) / \\forall p \\in N, p \\in [1,η] \\rightarrow i_p, j_p \\in Z \\wedge i_p,j_p \\in \\{-1, 1\\} \\}$\n",
    "\n",
    "$B = \\{C_{ij} | \\forall (i = 1 \\lor i = m \\lor j = 1 \\lor j = n) \\wedge C_{ij} \\in C\\}$"
   ]
  },
  {
   "cell_type": "markdown",
   "id": "7be84edb-9e9f-4160-a742-10de6d006499",
   "metadata": {},
   "source": [
    "## Fórmula Atenuación\n",
    "\n",
    "La atenuación lineal esta dada por la fórmula:\n",
    "\n",
    "$I (x) = I_0 e^{-ux}$\n",
    "\n",
    "donde $I$ es la intensidad luego de la atenuación, $I_0$ es la intensidad entrante y $u$ es el coeficiente de atenuaciòn lineal.\n",
    "\n",
    "Esta fórmula se va a usar en cada vez que en una celda ocurra una colisión entre un rayo y un obstáculo. La celda que representa al obstáculo guarda su coeficiente de atenuación."
   ]
  },
  {
   "cell_type": "markdown",
   "id": "9da001d4",
   "metadata": {},
   "source": [
    "# Implementación"
   ]
  },
  {
   "cell_type": "markdown",
   "id": "66f92866-c856-432b-bf33-0742e4f9a460",
   "metadata": {},
   "source": [
    "## General\n",
    "\n",
    "Este modelo consta de 2 tableros, uno con las intensidades de los fotones que se mueven en el espacio y otro con las\n",
    "atenuaciones de los objetos que obstaculizan a los fotones\n",
    "\n",
    "Los tableros son de la forma n x m y tienen la misma dimension. Los bordes son nowrapped y el retado es inercial (TODO: VER SI ESTA BIEN LO DEL RETARDO).\n",
    "\n",
    "Los valores inciales del tablero de intensidades tiene la siguiente disposición:\n",
    "* Las celdas de la primer columna tiene un valor mayor a 0, se los puede cargar mediante un archivo de entrada o con un generador\n",
    "* Las celdas de la ultima columna tienen de valor -1, para señalizar que representan el output del modelo.\n",
    "* Las celdas de las columnas intermedia tienen de valor 0.\n",
    "\n",
    "Los valores iniciales del tablero de atenuaciones se determinan mediante la entrada provista.\n",
    "\n",
    "Las celdas representan espacio de X cm. TODO: Ver bien el valor.\n",
    "\n",
    "La velocidad de propagación de los fotones entre las celdas es constante y vale X. Si es muy bajo, lo normalizamos a una magnitud razonable para el simulador y luego lo corregimos. TODO: ver bien el valor.\n",
    "\n",
    "### Vecindario\n",
    "\n",
    "Utilizamos un vecindario simple, donde solo nos interesa los vecinos de la izquierda y de la derecha en ambos tableros.\n",
    "\n",
    "```\n",
    "neighbors : rayos(0, -1, 0) rayos(0, 0, 0) rayos(0, 1, 0)\n",
    "neighbors : rayos(0, -1, 1) rayos(0, 0, 1) rayos(0, 1, 1)\n",
    "```"
   ]
  },
  {
   "cell_type": "markdown",
   "id": "2a361432-f42c-4faa-ac6a-4b72e382d6ab",
   "metadata": {},
   "source": [
    "## Reglas\n",
    "* Regla avanzar sin obstaculos\n",
    "    * Si mi valor en intensidades y en atenuaciones es 0, y el valor de intensidad de mi vecino izquierdo es mayor a 0, tomo el valor de intensidad de mi vecino izquierdo.\n",
    "```\n",
    "    rule : {(0,-1,0)} vel_propagacion {(0,0,0) = 0 and (0,0,1) = 0 and (0, -1, 0) > 0}  \n",
    "```\n",
    "* Regla avanzar con obstaculos\n",
    "    * Si mi valor en intensidades es 0 y en atenuaciones no es 0, y el valor de intensidad de mi vecino izquierdo es mayor a 0, tomo el valor de intensidad de mi vecino izquierdo menos la atenuacion. (TODO: Hacer bien el calculo de atenuacion)\n",
    "```\n",
    "    rule : {(0,-1,0) * exp((0,0,1))} vel_propagacion {(0,0,0) = 0 and (0,0,1) > 0 and (0, -1, 0) > 0}  \n",
    "```\n",
    "* Regla borde derecho\n",
    "    * En las celdas de la última columna, se mantiene el valor -1 mientras su vecino izquierdo no tenga valor distinto de 0.\n",
    "```\n",
    "    rule: {(0,0,0)} 0 {cellpos(1) = m and (0, -1, 0) = 0 and (0,0,0) = -1}\n",
    "```\n",
    "* Regla output\n",
    "    * En las celdas de la última columna, si su vecino izquierdo tiene un valor de intensidad mayor a 0, se toma ese valor.\n",
    "```\n",
    "    rule: {(0,-1,0)} 0 {cellpos(1) = m and (0, -1, 0) > 0}\n",
    "```\n",
    "* Regla default\n",
    "    * Es siempre verdadera. Mantiene el valor actual de la celda.\n",
    "```\n",
    "   rule : {(0,0,0)} 0 { t }\n",
    "```"
   ]
  },
  {
   "cell_type": "code",
   "execution_count": 1,
   "id": "bfd6bb9d-9a7a-4204-a60b-ba8ffb829ae0",
   "metadata": {},
   "outputs": [],
   "source": [
    "from pathlib import Path\n",
    "\n",
    "SED_HOME = Path.home().joinpath('SED')\n",
    "\n",
    "#Directorio base donde está instalado el siumulador\n",
    "CDPP_DIR = SED_HOME.joinpath('CDPP_ExtendedStates-codename-Santi')\n",
    "\n",
    "CDPP_SRC = CDPP_DIR.joinpath('src')\n",
    "CDPP_EXAMPLES = CDPP_DIR.joinpath('examples')\n",
    "CDPP_SCRIPTS = CDPP_DIR.joinpath('scripts')\n",
    "BASE_BIN = CDPP_SRC.joinpath('bin')\n",
    "CDPP_ATOMICS = CDPP_SRC.joinpath('cd++/atomics')\n",
    "\n",
    "CDPP_EXAMPLES_CELL = CDPP_EXAMPLES.joinpath('cell-devs')\n",
    "CDPP_BIN = BASE_BIN.joinpath('cd++')\n",
    "DRAWLOG_BIN = BASE_BIN.joinpath('drawlog')"
   ]
  },
  {
   "cell_type": "code",
   "execution_count": null,
   "id": "f2ebcd8b-172f-42a1-96d4-8785c2bfb402",
   "metadata": {},
   "outputs": [],
   "source": []
  }
 ],
 "metadata": {
  "interpreter": {
   "hash": "e7370f93d1d0cde622a1f8e1c04877d8463912d04d973331ad4851f04de6915a"
  },
  "kernelspec": {
   "display_name": "Python 3 (ipykernel)",
   "language": "python",
   "name": "python3"
  },
  "language_info": {
   "codemirror_mode": {
    "name": "ipython",
    "version": 3
   },
   "file_extension": ".py",
   "mimetype": "text/x-python",
   "name": "python",
   "nbconvert_exporter": "python",
   "pygments_lexer": "ipython3",
   "version": "3.9.7"
  }
 },
 "nbformat": 4,
 "nbformat_minor": 5
}
