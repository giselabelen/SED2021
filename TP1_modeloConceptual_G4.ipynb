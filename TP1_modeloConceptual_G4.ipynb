{
 "cells": [
  {
   "cell_type": "markdown",
   "id": "f4791d75-e264-4861-84b8-7533dde720fe",
   "metadata": {
    "slideshow": {
     "slide_type": "slide"
    },
    "tags": []
   },
   "source": [
    "  \n",
    "# Trabajo Práctico 1\n",
    "\n",
    "## Simulación de Eventos Discretos\n",
    "\n",
    "#### Departamento de Computación - Facultad de Ciencias Exactas y Naturales - Universidad de Buenos Aires\n",
    "\n",
    "20 de Septiembre de 2021\n",
    "\n",
    "**Grupo 04:** Confalonieri, Gisela - Lucero, Emiliano\n",
    "    \n",
    "\n",
    "----"
   ]
  },
  {
   "cell_type": "markdown",
   "id": "aa288c24-2938-4673-92ac-e927530afd6f",
   "metadata": {
    "slideshow": {
     "slide_type": "slide"
    },
    "tags": []
   },
   "source": [
    "# Modelo conceptual\n",
    "\n",
    "En el presente trabajo modelaremos un **sistema de evaluación de un centro de atención telefónica de una entidad bancaria**. \n",
    "\n",
    "Una **simplificación** de este tipo de sistemas podría ser la siguiente:\n",
    "\n",
    "* Una persona llama a la central telefónica de la entidad bancaria.\n",
    "* Una contestadora automática solicita datos a la persona para derivarla al área correspondiente a su solicitud.\n",
    "* El llamado es colocado en espera para ser atendido por un agente del área correspondiente.\n",
    "* El agente atiende la llamada y resuelve la solicitud.\n",
    "* Durante el recorrido de la llamada a través del sistema, se recopilan datos que serán utilizados en la generación de métricas de calidad de servicio.\n",
    "\n",
    "El objetivo de nuestro modelo es **comparar posibles configuraciones en cuanto a la disposición de los agentes en cada una de las áreas de atención, para evaluar los cambios de performance (tiempo de demora en resolver una solicitud) según las métricas obtenidas**. Las posteriores simulaciones permitirían **analizar distintos escenarios en los que se observen mejoras en el servicio.**"
   ]
  },
  {
   "cell_type": "markdown",
   "id": "0f7e79a6-8199-4fd7-926a-58c947cb31d1",
   "metadata": {
    "slideshow": {
     "slide_type": "slide"
    },
    "tags": []
   },
   "source": [
    "## Estructura del modelo\n",
    "\n",
    "Nuestro modelo comprenderá:\n",
    "\n",
    "* Un **generador de las llamadas** que ingresan al centro de atención\n",
    "* Una **mesa de entrada** que redirigirá las llamadas al área correspondiente\n",
    "* Dos **áreas de atención específicas**, una para clientes y otra para no clientes\n",
    "* Un **medidor de métricas de calidad**\n",
    "\n",
    "Por lo tanto, un primer bosquejo de la estructura de nuestro modelo comprende los siguientes componentes:"
   ]
  },
  {
   "cell_type": "markdown",
   "id": "4c6741fa-be85-4758-8047-acdc0b743fe8",
   "metadata": {
    "slideshow": {
     "slide_type": "subslide"
    },
    "tags": []
   },
   "source": [
    "### **Esquema conceptual general del modelo**\n",
    "\n",
    "![esquema general](https://raw.githubusercontent.com/giselabelen/SED2021/master/imgs/SED2021-TP1-General.png)"
   ]
  },
  {
   "cell_type": "markdown",
   "id": "cf8a409e-6e68-436c-a669-f1ad66f150f6",
   "metadata": {},
   "source": [
    "A continuación presentaremos cada componente del sistema, con una descripción breve, un esquema conceptual, y su especificación formal DEVS."
   ]
  },
  {
   "cell_type": "markdown",
   "id": "c9642a3e-9604-499e-924f-266924adf348",
   "metadata": {
    "slideshow": {
     "slide_type": "slide"
    },
    "tags": []
   },
   "source": [
    "### Generador de llamadas\n",
    "\n",
    "* Representa las llamadas que recibe el centro de atención.\n",
    "* Su único input corresponde a un evento que indica cuándo dejar de generar llamados.\n",
    "* Periódicamente genera llamadas según alguna distribución.\n",
    "* Cada llamada generada corresponde a un cliente o a una persona que aún no es cliente."
   ]
  },
  {
   "cell_type": "markdown",
   "id": "629fbb64-f8d8-466d-a2d2-ab47b838bbd8",
   "metadata": {
    "slideshow": {
     "slide_type": "subslide"
    },
    "tags": []
   },
   "source": [
    "#### **Esquema conceptual del generador de llamadas**\n",
    "  \n",
    "![esquema generador](https://raw.githubusercontent.com/giselabelen/SED2021/master/imgs/SED2021-TP1-Generador.png)"
   ]
  },
  {
   "cell_type": "markdown",
   "id": "f9e3b2a2-891a-41e8-bab4-bae27488a9b1",
   "metadata": {},
   "source": [
    "#### **Especificación formal del generador de llamadas**\n",
    "\n",
    "$ generadorDeLlamadas = <X,Y,S,\\delta_{int},\\delta_{ext},\\lambda,ta> $\n",
    "\n",
    "$X = \\{parar\\}$\n",
    "\n",
    "$Y = \\{llamada\\}$\n",
    "\n",
    "$S = \\{generando,parado\\}$\n",
    "\n",
    "$\\delta_{int}(generando) = generando$\n",
    "\n",
    "$\\delta_{ext}(generando,e,parar) = parado$\n",
    "\n",
    "$\\lambda(generando) =$ \n",
    "```c++\n",
    "id <- número entero identificatorio //único para cada llamada generada en una simulación\n",
    "es_cliente <- booleano aleatorio //true si es llamada de cliente, false para no cliente\n",
    "enviar como output la tupla <id,es_cliente> //esta tupla representa la llamada\n",
    "```\n",
    "\n",
    "$ta(generando) = $ ```valor aleatorio según distirbuciónLlamada```\n",
    "\n",
    "$ta(parado) = inf$"
   ]
  },
  {
   "cell_type": "markdown",
   "id": "ec650196-c1f9-48e2-998b-c6731f7aee97",
   "metadata": {},
   "source": [
    "#### **Representación de estados y transiciones del generador de llamadas**\n",
    "  \n",
    "![estados_generador](./imgs/generador_estados.png)"
   ]
  },
  {
   "cell_type": "markdown",
   "id": "24eb3427-8b42-4516-b915-fd039cab825f",
   "metadata": {
    "slideshow": {
     "slide_type": "slide"
    },
    "tags": []
   },
   "source": [
    "### Mesa de entrada\n",
    "\n",
    "* Recibe las llamadas como input, y las redirige al área correspondiente.\n",
    "  * Las llamadas ingresan a una cola de espera.\n",
    "  * Un subcomponente va desencolando las llamadas y enviándolas al área correspondiente."
   ]
  },
  {
   "cell_type": "markdown",
   "id": "09fee31a-cdbb-4e34-b543-2da713eec9c3",
   "metadata": {
    "slideshow": {
     "slide_type": "subslide"
    },
    "tags": []
   },
   "source": [
    "#### **Esquema conceptual de la mesa de entrada**\n",
    "  \n",
    "![esquema mesa](https://raw.githubusercontent.com/giselabelen/SED2021/master/imgs/SED2021-TP1-mesa_de_entrada.png)"
   ]
  },
  {
   "cell_type": "markdown",
   "id": "948f6238-25fc-4dfe-8372-ecab4fb1fd83",
   "metadata": {},
   "source": [
    "#### **Especificación formal de la mesa de entrada y sus subcomponentes**"
   ]
  },
  {
   "cell_type": "markdown",
   "id": "7b96a91a-17f1-4a48-8de2-5542bd3d9462",
   "metadata": {},
   "source": [
    "##### **Cola**\n",
    "\n",
    "$Cola = <X,Y,S,\\delta_{int},\\delta_{ext},\\lambda,ta>$\n",
    "\n",
    "$X = \\{entrada, liberar\\}$\n",
    "\n",
    "$Y = \\{salida\\}$\n",
    "\n",
    "$S = \\{estado \\in \\{encolando,vacia,liberando\\},llamadasEncoladas,sigEstado,hayPedido\\}$\n",
    "\n",
    "$\\delta_{int}((liberando,llE,0,hayP)) = (vacia,llE,0,hayP)$\n",
    "\n",
    "$\\delta_{int}((liberando,llE,1,hayP)) = (encolando,llE,1,hayP)$\n",
    "\n",
    "$\\delta_{ext}(s,e,x) =$\n",
    "\n",
    "```c++\n",
    "case port:\n",
    "    entrada:\n",
    "        s.llamadasEncoladas.push(x) //agrego la nueva llamada a la cola\n",
    "        if s.hayPedido // si tengo un pedido esperando le doy esta llamada\n",
    "            pasar a (liberando,s.llamadasEncoladas,s.sigEstado,false)\n",
    "        else // si no me pidieron nada sigo encolando\n",
    "            pasar a (encolando,s.llamadasEncoladas,s.sigEstado,s.hayPedido)\n",
    "    liberar:\n",
    "        if s.estado == encolando\n",
    "            pasar a (liberando,s.llamadasEncoladas,s.sigEstado,s.hayPedido)\n",
    "        if s.estado == vacia //no tengo llamadas asi que anoto para cuando entre una\n",
    "            s.hayPedido <- true\n",
    "```\n",
    "\n",
    "$\\lambda((liberando,llE,sigE,hayP)) =$\n",
    "\n",
    "```c++\n",
    "llam = llE.pop\n",
    "if llE.empty\n",
    "    sigE <- 0 // si es la ultima llamada encolada, luego me voy a vacia\n",
    "else\n",
    "    sigE <- 1 // si todavia hay mas llamadas, luego me voy a encolando\n",
    "enviar llam por salida\n",
    "```\n",
    "\n",
    "$ta(encolando) = inf$\n",
    "\n",
    "$ta(vacia) = inf$\n",
    "\n",
    "$ta(liberando) = 0$\n",
    "\n",
    "#### **Representación de estados y transiciones del generador de llamadas**\n",
    "  \n",
    "![estados_cola](./imgs/Cola.png)"
   ]
  },
  {
   "cell_type": "markdown",
   "id": "a935c4b8-207e-4a47-8a47-6adb9847c546",
   "metadata": {
    "jp-MarkdownHeadingCollapsed": true,
    "tags": []
   },
   "source": [
    "##### **Distribuidor de llamadas**\n",
    "\n",
    "$ Distribuidor Llamadas = <X,Y,S,\\delta_{int},\\delta_{ext},\\lambda,ta> $\n",
    "\n",
    "$X = \\{entrante\\}$\n",
    "\n",
    "$Y = \\{pedirLlamada, clientes, noClientes\\}$\n",
    "\n",
    "$S = \\{pidiendo, esperando, enviando, llamada\\}$\n",
    "\n",
    "$\\delta_{int}(pidiendo) = esperando$\n",
    "\n",
    "$\\delta_{int}(enviando) = pidiendo$\n",
    "\n",
    "$\\delta_{ext}(esperando, e, entrante) = enviando$\n",
    "\n",
    "$\\lambda(s) =$ \n",
    "```c++\n",
    "case s:\n",
    "    pidiendo:\n",
    "        enviar 1 por pedirLlamada\n",
    "    enviando:\n",
    "        // Recibi una llamada de la cola\n",
    "        if es llamada de cliente\n",
    "            enviar llamada por clientes\n",
    "        else\n",
    "            enviar llamada por noClientes\n",
    "    otherwise:\n",
    "        error   \n",
    "```\n",
    "\n",
    "$ta(esperando) = inf$\n",
    "\n",
    "$ta(pidiendo) = 0$\n",
    "\n",
    "$ta(enviando) =$ ```valor de retardo aleatorio```\n",
    "\n",
    "**Representación de estados y transiciones del generador de llamadas**\n",
    "  \n",
    "![estados_generador](./imgs/mesadeentrada_estados.png)"
   ]
  },
  {
   "cell_type": "markdown",
   "id": "51790a5b-f8ff-4951-a0ca-59fda3957229",
   "metadata": {},
   "source": [
    "##### **Mesa de entrada**\n",
    "\n",
    "$ Mesa De Entrada = <X,Y, \\{Cola, DistribuidorLlamadas\\},EIC,EOC,IC,Select> $\n",
    "\n",
    "$X = \\{entrante\\}$\n",
    "\n",
    "$Y = \\{llamadaCliente, llamadaNoCliente\\}$\n",
    "\n",
    "$EIC = \\{(MesaDeEntrada.entrante, Cola.entrada)\\}$\n",
    "\n",
    "$EOC = \\{ \n",
    "         (DistribuidorLlamadas.clientes, MesaDeEntrada.llamadaCliente),\\\\\n",
    "         (DistribuidorLlamadas.noClientes, MesaDeEntrada.llamadaNoCliente)\\}$\n",
    "\n",
    "$IC = \\{\n",
    "        (Cola.salida, DistribuidorLlamadas.entrante),\\\\\n",
    "        (DistribuidorLlamadas.pedirLLamada, Cola.liberar)\\}$\n",
    "\n",
    "$Select = \\{ Cola, DistribuidorLlamadas \\}$"
   ]
  },
  {
   "cell_type": "markdown",
   "id": "d5238c0d-4c00-4504-9774-248e7e619f27",
   "metadata": {
    "slideshow": {
     "slide_type": "slide"
    },
    "tags": []
   },
   "source": [
    " ### Áreas de atención específica\n",
    "\n",
    "* Cada una de las áreas recibe como input las llamadas que llegan desde la mesa de entrada.\n",
    "* Estas llamadas ingresan a una cola de espera.\n",
    "* Un distrbuidor va desencolando las llamadas y asignándolas a los agentes que se encuentren disponibles.\n",
    "* Cada agente atiende una llamada y resuelve la solicitud. \n",
    "* Cada área comunica, a través de sus outputs, el momento en que cada llamada es atendida por un agente y el momento en que cada agente resuelve la solicitud de una llamada y la misma finaliza."
   ]
  },
  {
   "cell_type": "markdown",
   "id": "ba61c647-880b-487b-b5d3-35aae2e57f67",
   "metadata": {
    "slideshow": {
     "slide_type": "subslide"
    },
    "tags": []
   },
   "source": [
    "#### **Esquema conceptual de las áreas de atención específica**\n",
    "  \n",
    "![esquema areas](https://raw.githubusercontent.com/giselabelen/SED2021/master/imgs/SED2021-TP1-areas_especificas.png)"
   ]
  },
  {
   "cell_type": "markdown",
   "id": "d56ae54f-5c0a-40c4-b2b3-63784d02de3e",
   "metadata": {},
   "source": [
    "#### **Especificación formal del área de atención y sus subcomponentes**"
   ]
  },
  {
   "cell_type": "markdown",
   "id": "7eed34c2-f9de-4026-a709-ff36b8724eee",
   "metadata": {},
   "source": [
    "##### **Distribuidor agentes**\n",
    "\n",
    "$ Distribuidor Agentes = <X,Y,S,\\delta_{int},\\delta_{ext},\\lambda,ta> $\n",
    "\n",
    "$X = \\{pedido, entrante\\}$\n",
    "\n",
    "$Y = \\{pedirLlamada, agente1, agente2\\}$\n",
    "\n",
    "$S = \\{estado\\in\\{desocupado, pidiendo, esperando, enviando\\},pedidosEnEspera,luegoDeEnviar\\}$\n",
    "\n",
    "$\\delta_{int}((pidiendo,p,l))= (esperando,p,l)$\n",
    "\n",
    "$\\delta_{int}((enviando,p,0)) = (desocupado,p,0)$\n",
    "\n",
    "$\\delta_{int}((enviando,p,1)) = (pidiendo,p,1)$\n",
    "\n",
    "$\\delta_{ext}(s,e,x) =$\n",
    "\n",
    "```c++\n",
    "case s.estado:\n",
    "    desocupado:\n",
    "        if x == pedido\n",
    "            s.pedidosEnEspera.push(x) //agrego el pedido a los pedidos en espera\n",
    "            pasar a (pidiendo,s.pedidosEnEspera,s.luegoDeEnviar)\n",
    "    esperando:\n",
    "        if x == entrante\n",
    "            pasar a (pidiendo,s.pedidosEnEspera,s.luegoDeEnviar)\n",
    "```\n",
    "\n",
    "$\\lambda(s) =$ \n",
    "\n",
    "```c++\n",
    "case s.estado:\n",
    "    pidiendo:\n",
    "        enviar 1 por pedirLlamada\n",
    "    enviando:\n",
    "        // Recibi una llamada de la cola\n",
    "        desencolar s.pedidosEnEspera\n",
    "        enviar llamada por puerto correspondiente al pedido desencolado\n",
    "        if s.pedidosEnEspera.emtpy //si ya no hay pedidos encolados\n",
    "            luegoDeEnviar = 0 // proximo estado desocupado\n",
    "        else \n",
    "            luegoDeEnviar = 1 // proximo estado pidiendo\n",
    "    otherwise:\n",
    "        error\n",
    "```\n",
    "\n",
    "$ta(desocupado,p,l) = inf$\n",
    "\n",
    "$ta(pidiendo,p,l) = 0$\n",
    "\n",
    "$ta(esperando,p,l) = inf$\n",
    "\n",
    "$ta(enviando,p,l) = 0$\n",
    "\n",
    "**Representación de estados y transiciones del distribuidor a agentes**\n",
    "  \n",
    "![estados_distribuidoragentes](./imgs/distribuidoragentes_estados.png)"
   ]
  },
  {
   "cell_type": "markdown",
   "id": "dea5638b-a5f5-4ca2-a2b1-449839352693",
   "metadata": {},
   "source": [
    "##### **Agente**\n",
    "\n",
    "$ Agente = <X,Y,S,\\delta_{int},\\delta_{ext},\\lambda,ta> $\n",
    "\n",
    "$X = \\{entrante\\}$\n",
    "\n",
    "$Y = \\{pedido, finalizada\\}$\n",
    "\n",
    "$S = \\{estado \\in \\{atendiendo, pidiendo\\}, T, llamada,id\\}$\n",
    "\n",
    "$\\delta_{int}((atendiendo,t,l,i)) = (pidiendo,t,l,i)$\n",
    "\n",
    "$\\delta_{ext}((pidiendo,t,l,id), e, x) =$ \n",
    "\n",
    "``` C++\n",
    "T <- valor aleatorio dado por la distribución elegida\n",
    "pasar a (atendiendo,T,x,id) //x es la llamada entrante\n",
    "```\n",
    "\n",
    "$\\lambda((atendiendo,t,llam,id) =$ \n",
    "\n",
    "``` C++\n",
    "// Estaba atendiendo y ya transcurrió ta, por lo que terminé de atender la llamada\n",
    "// La libero y aviso que estoy libre, pidiendo que me pasen otra llamada\n",
    "enviar llam por finalizada\n",
    "enviar id por pedido\n",
    "```\n",
    "\n",
    "$ta((pidiendo,t,l,i)) = inf $\n",
    "\n",
    "$ta((atendiendo,t,l,i)) = t$\n",
    "\n",
    "\n",
    "**Representación de estados y transiciones del agente**\n",
    "\n",
    "![estados_agente](./imgs/agente_estados.png)"
   ]
  },
  {
   "cell_type": "markdown",
   "id": "2f031ee9-ab73-4ba3-8335-f8796a63abe0",
   "metadata": {},
   "source": [
    "##### **Area de atención**\n",
    "\n",
    "$ AreaAtencion = <X,Y, \\{Cola, DistribuidorAgentes, Agente1, Agente2\\},EIC,EOC,IC,Select> $\n",
    "\n",
    "$X = \\{entrante\\}$\n",
    "\n",
    "$Y = \\{llamadaAtendida, llamadaFinalizada\\}$\n",
    "\n",
    "$EIC = \\{(AreaAtencion.entrante, Cola.entrada)\\}$\n",
    "\n",
    "$EOC = \\{ \n",
    "        (DistribuidorAgentes.agente1, AreaAtencion.llamadaAtendida),\\\\\n",
    "        (DistribuidorAgentes.agente2, AreaAtencion.llamadaAtendida),\\\\\n",
    "        (Agente1.finalizada, AreaAtencion.llamadaFinalizada),\\\\\n",
    "        (Agente2.finalizada, AreaAtencion.llamadaFinalizada)\n",
    "        \\}$\n",
    "\n",
    "$IC = \\{\n",
    "        (Cola.salida, DistribuidorAgentes.entrante),\\\\\n",
    "        (DistribuidorAgentes.pedirLLamada, Cola.liberar),\\\\\n",
    "        (DistribuidorAgentes.agente1, Agente1.entrante),\\\\\n",
    "        (DistribuidorAgentes.agente2, Agente2.entrante),\\\\\n",
    "        (Agente1.pedido, DistribuidorAgentes.pedido),\\\\\n",
    "        (Agente2.pedido, DistribuidorAgentes.pedido)\n",
    "        \\}$\n",
    "\n",
    "$Select = \\{ Cola, DistribuidorAgentes, Agente1, Agente2 \\}$"
   ]
  },
  {
   "cell_type": "markdown",
   "id": "5ec755ec-729b-42ce-97f6-50237d748371",
   "metadata": {
    "slideshow": {
     "slide_type": "slide"
    },
    "tags": []
   },
   "source": [
    "### Medidor de métricas\n",
    "\n",
    "* Comprende diversos subcomponentes que evaluarán distintas métricas de calidad cada uno, a partir de los datos recibidos a lo largo del recorrido de la llamada por el centro de atención telefónica, a saber:\n",
    "  * Momento en que arriba una llamada al servicio\n",
    "  * Momento en que la llamada es atendida por un agente\n",
    "  * Momento en que la solicitud es resuelta por un agente\n",
    "* Nuestro primer bosquejo comprende las siguientes métricas:\n",
    "  * Tiempo promedio que una llamada está aguardando ser atendida (es decir, desde que llega hasta que es atendida por un agente)\n",
    "  * Tiempo máximo que una llamada estuvo aguardando ser atendida (es decir, desde que llega hasta que es atendida por un agente)\n",
    "  * Tiempo promedio que una llamada consume dentro del centro de atención (es decir, desde que llega hasta que su solicitud se resuelve)\n",
    "  * Tiempo máximo que una llamada consumió dentro del centro de atención (es decir, desde que llega hasta que su solicitud se resuelve)"
   ]
  },
  {
   "cell_type": "markdown",
   "id": "d23d13ce-135f-4671-8211-c41ae06c3135",
   "metadata": {
    "slideshow": {
     "slide_type": "subslide"
    },
    "tags": []
   },
   "source": [
    "#### **Esquema conceptual del medidor**\n",
    "  \n",
    "![esquema medidor](https://raw.githubusercontent.com/giselabelen/SED2021/master/imgs/SED2021-TP1-Medidor.png)"
   ]
  },
  {
   "cell_type": "markdown",
   "id": "08484030-99ad-4f0b-9e09-59bc810c7682",
   "metadata": {},
   "source": [
    "#### **Especificación formal del medidor**\n",
    "\n",
    "$ Medidor = <X,Y,S,\\delta_{int},\\delta_{ext},\\lambda,ta> $\n",
    "\n",
    "$X = \\{entrante, atendida, finalizada\\}$\n",
    "\n",
    "$Y = \\{mediciones\\}$\n",
    "\n",
    "$S = \\{midiendo, tiempoInicial, tiempoRestante, entrantesXTiempo, atendidasXTiempo, finalizadasXTiempo\\}$\n",
    "\n",
    "$\\delta_{int}((m,tI,tR,eXT,aXT,fXT)) = (m,tI,tI,[],[],[])$ ```reseteo las variables cada vez que vence ta```\n",
    "\n",
    "$\\delta_{ext}(s, e, x) =$ \n",
    "\n",
    "``` C++\n",
    "case port: //actualizo los diccionarios\n",
    "    entrante:\n",
    "        s.entrantesXTiempo[x.id] <- <timestamp, x.esCliente>\n",
    "    atendida:\n",
    "        s.atendidasXTiempo[x.id] <- <timestamp, x.esCliente>\n",
    "    finalizada:\n",
    "        s.finalizadasXTiempo[x.id] <- <timestamp, x.esCliente>\n",
    "    otherwise:\n",
    "        Error\n",
    "\n",
    "s.tiempoRestante <- s.tiempoRestante - e //actualizo tiempo para seguir con lo que restaba de ta inicial\n",
    "pasar a s\n",
    "```\n",
    "\n",
    "$\\lambda(s) =$ \n",
    "```c++\n",
    "//tiempo promedio y maximo en atender llamada\n",
    "tAtender <- 0\n",
    "maxAtender <- 0\n",
    "para cada id en s.atendidasXTiempo\n",
    "    t <- s.atendidasXTiempo[id][timestamp] - s.entrantesXTiempo[id][timestamp]\n",
    "    tAtender += t\n",
    "    if maxAtender < t\n",
    "        maxAtender <- t\n",
    "promAtender <- tAtender/s.atendidasXTiempo.length\n",
    "\n",
    "//tiempo promedio y maximo en resolver llamada\n",
    "tFin <- 0\n",
    "maxFin <- 0\n",
    "para cada id en s.finalizadasXTiempo\n",
    "    t <- s.finalizadasXTiempo[id][timestamp] - s.entrantesXTiempo[id][timestamp]\n",
    "    tFin += t\n",
    "    if maxFin < t\n",
    "        maxFin <- t\n",
    "promFin <- tFin/s.finalizadasXTiempo.length\n",
    "\n",
    "//armo la tupla para output\n",
    "m = <promAtender,maxAtender,promFin,maxFin>\n",
    "enviar m por mediciones\n",
    "```\n",
    "\n",
    "$ta(s) = s.tiempoRestante$"
   ]
  },
  {
   "cell_type": "markdown",
   "id": "b90ba549-6840-4413-b319-5469f51a8405",
   "metadata": {},
   "source": [
    "Luego de haber especificado detalladamente cada componente del sistema, presentamos a continuación la especificación DEVS del acoplado final."
   ]
  },
  {
   "cell_type": "markdown",
   "id": "e72fbc32-ae35-425c-b246-4df6bb8a8b7e",
   "metadata": {},
   "source": [
    "#### **Especificación formal del centro de atención telefónica**\n",
    "\n",
    "$ CentroAtencion$ = $<X,Y, \\{GeneradorLlamadas, MesaDeEntrada, AreaClientes, AreaNoClientes, Medidor\\},EIC,EOC,IC,Select>$\n",
    "\n",
    "$X = \\{parar\\}$\n",
    "\n",
    "$Y = \\{metricas\\}$\n",
    "\n",
    "$EIC = \\{ (CentroAtencion.parar, GeneradorLlamadas.parar) \\}$\n",
    "\n",
    "$EOC$ = $\\{ (Medidor.medicion, CentroAtencion.metricas)\\}$\n",
    "\n",
    "$IC$ = $\\{\n",
    "        (GeneradorLLamadas.llamada, MesaDeEntrada.entrante),\\\\\n",
    "        (GeneradorLLamadas.llamada, Medidor.entrante),\\\\\n",
    "        (MesaDeEntrada.clientes, AreaClientes.entrante),\\\\\n",
    "        (MesaDeEntrada.noClientes, AreaNoClientes.entrante),\\\\\n",
    "        (AreaClientes.atendida, Medidor.atendida),\\\\\n",
    "        (AreaClientes.finalizada, Medidor.finalizada),\\\\\n",
    "        (AreaNoClientes.atendida, Medidor.atendida),\\\\\n",
    "        (AreaNoClientes.finalizada, Medidor.finalizada),\\\\\n",
    "        \\}$\n",
    "\n",
    "$Select = \\{ GeneradorLlamadas, MesaDeEntrada, AreaClientes, AreaNoClientes, Medidor \\}$"
   ]
  },
  {
   "cell_type": "markdown",
   "id": "f95459e9-f7d6-4d66-a980-3c82c8e4a26d",
   "metadata": {},
   "source": [
    "# Simulación"
   ]
  },
  {
   "cell_type": "markdown",
   "id": "d94b497f-9aa4-43be-b464-d1500c4632b5",
   "metadata": {},
   "source": [
    "Preparamos el entorno"
   ]
  },
  {
   "cell_type": "code",
   "execution_count": 1,
   "id": "ea0e2dd9-6834-4ab3-9e3c-ceec1c8bb5cf",
   "metadata": {},
   "outputs": [],
   "source": [
    "from pathlib import Path\n",
    "\n",
    "SED_HOME = Path.home().joinpath('SED')\n",
    "\n",
    "#Directorio base donde está instalado el siumulador\n",
    "CDPP_DIR = SED_HOME.joinpath('CDPP_ExtendedStates-codename-Santi')\n",
    "\n",
    "CDPP_SRC = CDPP_DIR.joinpath('src')\n",
    "CDPP_EXAMPLES = CDPP_DIR.joinpath('examples')\n",
    "CDPP_SCRIPTS = CDPP_DIR.joinpath('scripts')\n",
    "BASE_BIN = CDPP_SRC.joinpath('bin')\n",
    "CDPP_ATOMICS = CDPP_SRC.joinpath('cd++/atomics')"
   ]
  },
  {
   "cell_type": "markdown",
   "id": "f8f83caa-c3c6-46ef-b8ae-c6cbdde9c236",
   "metadata": {},
   "source": [
    "Copiamos los archivos del modelo a la carpeta examples de CD++"
   ]
  },
  {
   "cell_type": "code",
   "execution_count": 79,
   "id": "21f7712b-b985-4a58-a5ee-35ee9fcab01b",
   "metadata": {},
   "outputs": [],
   "source": [
    "%%bash -s \"$CDPP_EXAMPLES\"\n",
    "\n",
    "cp -r TP1-CentroAtencion $1/"
   ]
  },
  {
   "cell_type": "markdown",
   "id": "9b2d5963-e7a0-4510-b0d2-66d6b9582931",
   "metadata": {},
   "source": [
    "Compilamos el simulador"
   ]
  },
  {
   "cell_type": "code",
   "execution_count": 4,
   "id": "ffd130f3-9f19-477d-a072-aad09a0ed6ad",
   "metadata": {
    "scrolled": true,
    "tags": []
   },
   "outputs": [
    {
     "name": "stdout",
     "output_type": "stream",
     "text": [
      "make -C ../../../src/cd++ cd++ OUT_DIR=/home/gisela/SED/CDPP_ExtendedStates-codename-Santi/examples/TP1-CentroAtencion/src/bin MODEL_FLAGS=-DREGISTER_ATOMICS\n",
      "make[1]: se entra en el directorio '/home/gisela/SED/CDPP_ExtendedStates-codename-Santi/src/cd++'\n",
      "make -C /home/gisela/SED/CDPP_ExtendedStates-codename-Santi/src/cd++/atomics OBJ_DIR=obj SRC_DIR=/home/gisela/SED/CDPP_ExtendedStates-codename-Santi/src/cd++ MODEL_FLAGS=-DREGISTER_ATOMICS\n",
      "make -C /home/gisela/SED/CDPP_ExtendedStates-codename-Santi/src/cd++/cell OBJ_DIR=obj SRC_DIR=/home/gisela/SED/CDPP_ExtendedStates-codename-Santi/src/cd++ MODEL_FLAGS=-DREGISTER_ATOMICS\n",
      "make[2]: se entra en el directorio '/home/gisela/SED/CDPP_ExtendedStates-codename-Santi/src/cd++/atomics'\n",
      "make -C cpu OBJ_DIR=obj SRC_DIR=/home/gisela/SED/CDPP_ExtendedStates-codename-Santi/src/cd++\n",
      "make -C queue OBJ_DIR=obj SRC_DIR=/home/gisela/SED/CDPP_ExtendedStates-codename-Santi/src/cd++\n",
      "make -C qss OBJ_DIR=obj SRC_DIR=/home/gisela/SED/CDPP_ExtendedStates-codename-Santi/src/cd++\n",
      "make[3]: se entra en el directorio '/home/gisela/SED/CDPP_ExtendedStates-codename-Santi/src/cd++/atomics/qss'\n",
      "make[3]: se entra en el directorio '/home/gisela/SED/CDPP_ExtendedStates-codename-Santi/src/cd++/atomics/queue'\n",
      "make[3]: se entra en el directorio '/home/gisela/SED/CDPP_ExtendedStates-codename-Santi/src/cd++/atomics/cpu'\n",
      "make[3]: No se hace nada para 'all'.\n",
      "make[3]: se sale del directorio '/home/gisela/SED/CDPP_ExtendedStates-codename-Santi/src/cd++/atomics/cpu'\n",
      "make[3]: No se hace nada para 'all'.\n",
      "make -C generator OBJ_DIR=obj SRC_DIR=/home/gisela/SED/CDPP_ExtendedStates-codename-Santi/src/cd++\n",
      "make[3]: se sale del directorio '/home/gisela/SED/CDPP_ExtendedStates-codename-Santi/src/cd++/atomics/queue'\n",
      "make -C /home/gisela/SED/CDPP_ExtendedStates-codename-Santi/src/cd++/evt OBJ_DIR=obj SRC_DIR=/home/gisela/SED/CDPP_ExtendedStates-codename-Santi/src/cd++ MODEL_FLAGS=-DREGISTER_ATOMICS\n",
      "make[2]: se entra en el directorio '/home/gisela/SED/CDPP_ExtendedStates-codename-Santi/src/cd++/cell'\n",
      "make[2]: No se hace nada para 'all'.\n",
      "make[2]: se sale del directorio '/home/gisela/SED/CDPP_ExtendedStates-codename-Santi/src/cd++/cell'\n",
      "make[3]: No se hace nada para 'all'.\n",
      "make[3]: se sale del directorio '/home/gisela/SED/CDPP_ExtendedStates-codename-Santi/src/cd++/atomics/qss'\n",
      "make -C transducer OBJ_DIR=obj SRC_DIR=/home/gisela/SED/CDPP_ExtendedStates-codename-Santi/src/cd++\n",
      "make[3]: se entra en el directorio '/home/gisela/SED/CDPP_ExtendedStates-codename-Santi/src/cd++/atomics/generator'\n",
      "make[3]: No se hace nada para 'all'.\n",
      "make[3]: se sale del directorio '/home/gisela/SED/CDPP_ExtendedStates-codename-Santi/src/cd++/atomics/generator'\n",
      "make[3]: se entra en el directorio '/home/gisela/SED/CDPP_ExtendedStates-codename-Santi/src/cd++/atomics/transducer'\n",
      "make[3]: No se hace nada para 'all'.\n",
      "make[3]: se sale del directorio '/home/gisela/SED/CDPP_ExtendedStates-codename-Santi/src/cd++/atomics/transducer'\n",
      "make[2]: se sale del directorio '/home/gisela/SED/CDPP_ExtendedStates-codename-Santi/src/cd++/atomics'\n",
      "make -C /home/gisela/SED/CDPP_ExtendedStates-codename-Santi/src/cd++/misc OBJ_DIR=obj SRC_DIR=/home/gisela/SED/CDPP_ExtendedStates-codename-Santi/src/cd++ MODEL_FLAGS=-DREGISTER_ATOMICS\n",
      "make -C /home/gisela/SED/CDPP_ExtendedStates-codename-Santi/src/cd++/model OBJ_DIR=obj SRC_DIR=/home/gisela/SED/CDPP_ExtendedStates-codename-Santi/src/cd++ MODEL_FLAGS=-DREGISTER_ATOMICS\n",
      "make[2]: se entra en el directorio '/home/gisela/SED/CDPP_ExtendedStates-codename-Santi/src/cd++/evt'\n",
      "make[2]: No se hace nada para 'all'.\n",
      "make[2]: se sale del directorio '/home/gisela/SED/CDPP_ExtendedStates-codename-Santi/src/cd++/evt'\n",
      "make[2]: se entra en el directorio '/home/gisela/SED/CDPP_ExtendedStates-codename-Santi/src/cd++/misc'\n",
      "make -C math OBJ_DIR=obj SRC_DIR=/home/gisela/SED/CDPP_ExtendedStates-codename-Santi/src/cd++\n",
      "make[3]: se entra en el directorio '/home/gisela/SED/CDPP_ExtendedStates-codename-Santi/src/cd++/misc/math'\n",
      "make[3]: No se hace nada para 'all'.\n",
      "make[3]: se sale del directorio '/home/gisela/SED/CDPP_ExtendedStates-codename-Santi/src/cd++/misc/math'\n",
      "make[2]: se sale del directorio '/home/gisela/SED/CDPP_ExtendedStates-codename-Santi/src/cd++/misc'\n",
      "make -C /home/gisela/SED/CDPP_ExtendedStates-codename-Santi/src/cd++/msg OBJ_DIR=obj SRC_DIR=/home/gisela/SED/CDPP_ExtendedStates-codename-Santi/src/cd++ MODEL_FLAGS=-DREGISTER_ATOMICS\n",
      "make -C /home/gisela/SED/CDPP_ExtendedStates-codename-Santi/src/cd++/parser OBJ_DIR=obj SRC_DIR=/home/gisela/SED/CDPP_ExtendedStates-codename-Santi/src/cd++ MODEL_FLAGS=-DREGISTER_ATOMICS\n",
      "make[2]: se entra en el directorio '/home/gisela/SED/CDPP_ExtendedStates-codename-Santi/src/cd++/model'\n",
      "make -C state OBJ_DIR=obj SRC_DIR=/home/gisela/SED/CDPP_ExtendedStates-codename-Santi/src/cd++\n",
      "make[2]: se entra en el directorio '/home/gisela/SED/CDPP_ExtendedStates-codename-Santi/src/cd++/msg'\n",
      "make[2]: No se hace nada para 'all'.\n",
      "make[2]: se sale del directorio '/home/gisela/SED/CDPP_ExtendedStates-codename-Santi/src/cd++/msg'\n",
      "make -C /home/gisela/SED/CDPP_ExtendedStates-codename-Santi/src/cd++/proc OBJ_DIR=obj SRC_DIR=/home/gisela/SED/CDPP_ExtendedStates-codename-Santi/src/cd++ MODEL_FLAGS=-DREGISTER_ATOMICS\n",
      "make[3]: se entra en el directorio '/home/gisela/SED/CDPP_ExtendedStates-codename-Santi/src/cd++/model/state'\n",
      "make[3]: No se hace nada para 'all'.\n",
      "make[3]: se sale del directorio '/home/gisela/SED/CDPP_ExtendedStates-codename-Santi/src/cd++/model/state'\n",
      "make[2]: se sale del directorio '/home/gisela/SED/CDPP_ExtendedStates-codename-Santi/src/cd++/model'\n",
      "make -C /home/gisela/SED/CDPP_ExtendedStates-codename-Santi/src/cd++/sim OBJ_DIR=obj SRC_DIR=/home/gisela/SED/CDPP_ExtendedStates-codename-Santi/src/cd++ MODEL_FLAGS=-DREGISTER_ATOMICS\n",
      "make[2]: se entra en el directorio '/home/gisela/SED/CDPP_ExtendedStates-codename-Santi/src/cd++/parser'\n",
      "make -C cdlang OBJ_DIR=obj SRC_DIR=/home/gisela/SED/CDPP_ExtendedStates-codename-Santi/src/cd++\n",
      "make -C /home/gisela/SED/CDPP_ExtendedStates-codename-Santi/src/cd++/utils OBJ_DIR=obj SRC_DIR=/home/gisela/SED/CDPP_ExtendedStates-codename-Santi/src/cd++ MODEL_FLAGS=-DREGISTER_ATOMICS\n",
      "make[2]: se entra en el directorio '/home/gisela/SED/CDPP_ExtendedStates-codename-Santi/src/cd++/proc'\n",
      "make -C state OBJ_DIR=obj SRC_DIR=/home/gisela/SED/CDPP_ExtendedStates-codename-Santi/src/cd++\n",
      "make[2]: se entra en el directorio '/home/gisela/SED/CDPP_ExtendedStates-codename-Santi/src/cd++/sim'\n",
      "make[3]: se entra en el directorio '/home/gisela/SED/CDPP_ExtendedStates-codename-Santi/src/cd++/parser/cdlang'\n",
      "make[3]: se entra en el directorio '/home/gisela/SED/CDPP_ExtendedStates-codename-Santi/src/cd++/proc/state'\n",
      "make[3]: No se hace nada para 'all'.\n",
      "make[3]: se sale del directorio '/home/gisela/SED/CDPP_ExtendedStates-codename-Santi/src/cd++/proc/state'\n",
      "make[2]: se sale del directorio '/home/gisela/SED/CDPP_ExtendedStates-codename-Santi/src/cd++/proc'\n",
      "make[2]: se entra en el directorio '/home/gisela/SED/CDPP_ExtendedStates-codename-Santi/src/cd++/utils'\n",
      "make -C log OBJ_DIR=obj SRC_DIR=/home/gisela/SED/CDPP_ExtendedStates-codename-Santi/src/cd++\n",
      "make[3]: se entra en el directorio '/home/gisela/SED/CDPP_ExtendedStates-codename-Santi/src/cd++/utils/log'\n",
      "make[3]: No se hace nada para 'all'.\n",
      "make[3]: se sale del directorio '/home/gisela/SED/CDPP_ExtendedStates-codename-Santi/src/cd++/utils/log'\n",
      "make[2]: se sale del directorio '/home/gisela/SED/CDPP_ExtendedStates-codename-Santi/src/cd++/utils'\n",
      "make -C /home/gisela/SED/CDPP_ExtendedStates-codename-Santi/src/cd++/val OBJ_DIR=obj SRC_DIR=/home/gisela/SED/CDPP_ExtendedStates-codename-Santi/src/cd++ MODEL_FLAGS=-DREGISTER_ATOMICS\n",
      "make[2]: se entra en el directorio '/home/gisela/SED/CDPP_ExtendedStates-codename-Santi/src/cd++/val'\n",
      "make[2]: No se hace nada para 'all'.\n",
      "make[2]: se sale del directorio '/home/gisela/SED/CDPP_ExtendedStates-codename-Santi/src/cd++/val'\n",
      "make -C /home/gisela/SED/CDPP_ExtendedStates-codename-Santi/src/cd++/main OBJ_DIR=obj SRC_DIR=/home/gisela/SED/CDPP_ExtendedStates-codename-Santi/src/cd++ MODEL_FLAGS=-DREGISTER_ATOMICS\n",
      "make[2]: se entra en el directorio '/home/gisela/SED/CDPP_ExtendedStates-codename-Santi/src/cd++/main'\n",
      "make[2]: No se hace nada para 'all'.\n",
      "make[2]: se sale del directorio '/home/gisela/SED/CDPP_ExtendedStates-codename-Santi/src/cd++/main'\n",
      "make -C /home/gisela/SED/CDPP_ExtendedStates-codename-Santi/src/cd++/warped OBJ_DIR=obj SRC_DIR=/home/gisela/SED/CDPP_ExtendedStates-codename-Santi/src/cd++ MODEL_FLAGS=-DREGISTER_ATOMICS\n",
      "make[2]: se entra en el directorio '/home/gisela/SED/CDPP_ExtendedStates-codename-Santi/src/cd++/warped'\n",
      "make -C common OBJ_DIR=obj SRC_DIR=/home/gisela/SED/CDPP_ExtendedStates-codename-Santi/src/cd++\n",
      "make[3]: se entra en el directorio '/home/gisela/SED/CDPP_ExtendedStates-codename-Santi/src/cd++/warped/common'\n",
      "make[3]: No se hace nada para 'all'.\n",
      "make[3]: se sale del directorio '/home/gisela/SED/CDPP_ExtendedStates-codename-Santi/src/cd++/warped/common'\n",
      "make -C notime OBJ_DIR=obj SRC_DIR=/home/gisela/SED/CDPP_ExtendedStates-codename-Santi/src/cd++\n",
      "make[3]: se entra en el directorio '/home/gisela/SED/CDPP_ExtendedStates-codename-Santi/src/cd++/warped/notime'\n",
      "make[3]: No se hace nada para 'all'.\n",
      "make[3]: se sale del directorio '/home/gisela/SED/CDPP_ExtendedStates-codename-Santi/src/cd++/warped/notime'\n",
      "make[2]: se sale del directorio '/home/gisela/SED/CDPP_ExtendedStates-codename-Santi/src/cd++/warped'\n",
      "g++ -c -I/home/gisela/SED/CDPP_ExtendedStates-codename-Santi/src/cd++/warped -I/home/gisela/SED/CDPP_ExtendedStates-codename-Santi/src/cd++/warped/notime -I/home/gisela/SED/CDPP_ExtendedStates-codename-Santi/src/cd++/warped/notime/obj -I/home/gisela/SED/CDPP_ExtendedStates-codename-Santi/src/cd++/warped/common -I/home/gisela/SED/CDPP_ExtendedStates-codename-Santi/src/cd++/warped/common/obj -I/home/gisela/SED/CDPP_ExtendedStates-codename-Santi/src/cd++/val -I/home/gisela/SED/CDPP_ExtendedStates-codename-Santi/src/cd++/val/obj -I/home/gisela/SED/CDPP_ExtendedStates-codename-Santi/src/cd++/atomics -I/home/gisela/SED/CDPP_ExtendedStates-codename-Santi/src/cd++/atomics/generator -I/home/gisela/SED/CDPP_ExtendedStates-codename-Santi/src/cd++/atomics/generator/obj -I/home/gisela/SED/CDPP_ExtendedStates-codename-Santi/src/cd++/atomics/generator/.ipynb_checkpoints -I/home/gisela/SED/CDPP_ExtendedStates-codename-Santi/src/cd++/atomics/qss -I/home/gisela/SED/CDPP_ExtendedStates-codename-Santi/src/cd++/atomics/qss/obj -I/home/gisela/SED/CDPP_ExtendedStates-codename-Santi/src/cd++/atomics/transducer -I/home/gisela/SED/CDPP_ExtendedStates-codename-Santi/src/cd++/atomics/transducer/obj -I/home/gisela/SED/CDPP_ExtendedStates-codename-Santi/src/cd++/atomics/cpu -I/home/gisela/SED/CDPP_ExtendedStates-codename-Santi/src/cd++/atomics/cpu/obj -I/home/gisela/SED/CDPP_ExtendedStates-codename-Santi/src/cd++/atomics/queue -I/home/gisela/SED/CDPP_ExtendedStates-codename-Santi/src/cd++/atomics/queue/obj -I/home/gisela/SED/CDPP_ExtendedStates-codename-Santi/src/cd++/atomics/queue/.ipynb_checkpoints -I/home/gisela/SED/CDPP_ExtendedStates-codename-Santi/src/cd++/model -I/home/gisela/SED/CDPP_ExtendedStates-codename-Santi/src/cd++/model/obj -I/home/gisela/SED/CDPP_ExtendedStates-codename-Santi/src/cd++/model/state -I/home/gisela/SED/CDPP_ExtendedStates-codename-Santi/src/cd++/model/state/obj -I/home/gisela/SED/CDPP_ExtendedStates-codename-Santi/src/cd++/proc -I/home/gisela/SED/CDPP_ExtendedStates-codename-Santi/src/cd++/proc/obj -I/home/gisela/SED/CDPP_ExtendedStates-codename-Santi/src/cd++/proc/state -I/home/gisela/SED/CDPP_ExtendedStates-codename-Santi/src/cd++/proc/state/obj -I/home/gisela/SED/CDPP_ExtendedStates-codename-Santi/src/cd++/msg -I/home/gisela/SED/CDPP_ExtendedStates-codename-Santi/src/cd++/msg/obj -I/home/gisela/SED/CDPP_ExtendedStates-codename-Santi/src/cd++/sim -I/home/gisela/SED/CDPP_ExtendedStates-codename-Santi/src/cd++/sim/loader -I/home/gisela/SED/CDPP_ExtendedStates-codename-Santi/src/cd++/sim/loader/obj -I/home/gisela/SED/CDPP_ExtendedStates-codename-Santi/src/cd++/main -I/home/gisela/SED/CDPP_ExtendedStates-codename-Santi/src/cd++/main/obj -I/home/gisela/SED/CDPP_ExtendedStates-codename-Santi/src/cd++/misc -I/home/gisela/SED/CDPP_ExtendedStates-codename-Santi/src/cd++/misc/obj -I/home/gisela/SED/CDPP_ExtendedStates-codename-Santi/src/cd++/misc/math -I/home/gisela/SED/CDPP_ExtendedStates-codename-Santi/src/cd++/misc/math/obj -I/home/gisela/SED/CDPP_ExtendedStates-codename-Santi/src/cd++/utils -I/home/gisela/SED/CDPP_ExtendedStates-codename-Santi/src/cd++/utils/obj -I/home/gisela/SED/CDPP_ExtendedStates-codename-Santi/src/cd++/utils/log -I/home/gisela/SED/CDPP_ExtendedStates-codename-Santi/src/cd++/utils/log/obj -I/home/gisela/SED/CDPP_ExtendedStates-codename-Santi/src/cd++/cell -I/home/gisela/SED/CDPP_ExtendedStates-codename-Santi/src/cd++/cell/obj -I/home/gisela/SED/CDPP_ExtendedStates-codename-Santi/src/cd++/evt -I/home/gisela/SED/CDPP_ExtendedStates-codename-Santi/src/cd++/evt/obj -I/home/gisela/SED/CDPP_ExtendedStates-codename-Santi/src/cd++/parser -I/home/gisela/SED/CDPP_ExtendedStates-codename-Santi/src/cd++/parser/obj -I/home/gisela/SED/CDPP_ExtendedStates-codename-Santi/src/cd++/parser/cdlang -I/home/gisela/SED/CDPP_ExtendedStates-codename-Santi/src/cd++/parser/cdlang/obj  -DREGISTER_ATOMICS -DKERNEL_NOTIME -DUSE_USER_VTIME -DHAS_BOOLEAN -g -O0 -Wall -Wno-deprecated -std=c++11  parser.cpp -o obj/parser.o\n",
      "make clean\n",
      "make[3]: se entra en el directorio '/home/gisela/SED/CDPP_ExtendedStates-codename-Santi/src/cd++/sim'\n",
      "make -C loader clean OBJ_DIR=obj SRC_DIR=/home/gisela/SED/CDPP_ExtendedStates-codename-Santi/src/cd++\n",
      "g++ -c -I/home/gisela/SED/CDPP_ExtendedStates-codename-Santi/src/cd++/warped -I/home/gisela/SED/CDPP_ExtendedStates-codename-Santi/src/cd++/warped/notime -I/home/gisela/SED/CDPP_ExtendedStates-codename-Santi/src/cd++/warped/notime/obj -I/home/gisela/SED/CDPP_ExtendedStates-codename-Santi/src/cd++/warped/common -I/home/gisela/SED/CDPP_ExtendedStates-codename-Santi/src/cd++/warped/common/obj -I/home/gisela/SED/CDPP_ExtendedStates-codename-Santi/src/cd++/val -I/home/gisela/SED/CDPP_ExtendedStates-codename-Santi/src/cd++/val/obj -I/home/gisela/SED/CDPP_ExtendedStates-codename-Santi/src/cd++/atomics -I/home/gisela/SED/CDPP_ExtendedStates-codename-Santi/src/cd++/atomics/generator -I/home/gisela/SED/CDPP_ExtendedStates-codename-Santi/src/cd++/atomics/generator/obj -I/home/gisela/SED/CDPP_ExtendedStates-codename-Santi/src/cd++/atomics/generator/.ipynb_checkpoints -I/home/gisela/SED/CDPP_ExtendedStates-codename-Santi/src/cd++/atomics/qss -I/home/gisela/SED/CDPP_ExtendedStates-codename-Santi/src/cd++/atomics/qss/obj -I/home/gisela/SED/CDPP_ExtendedStates-codename-Santi/src/cd++/atomics/transducer -I/home/gisela/SED/CDPP_ExtendedStates-codename-Santi/src/cd++/atomics/transducer/obj -I/home/gisela/SED/CDPP_ExtendedStates-codename-Santi/src/cd++/atomics/cpu -I/home/gisela/SED/CDPP_ExtendedStates-codename-Santi/src/cd++/atomics/cpu/obj -I/home/gisela/SED/CDPP_ExtendedStates-codename-Santi/src/cd++/atomics/queue -I/home/gisela/SED/CDPP_ExtendedStates-codename-Santi/src/cd++/atomics/queue/obj -I/home/gisela/SED/CDPP_ExtendedStates-codename-Santi/src/cd++/atomics/queue/.ipynb_checkpoints -I/home/gisela/SED/CDPP_ExtendedStates-codename-Santi/src/cd++/model -I/home/gisela/SED/CDPP_ExtendedStates-codename-Santi/src/cd++/model/obj -I/home/gisela/SED/CDPP_ExtendedStates-codename-Santi/src/cd++/model/state -I/home/gisela/SED/CDPP_ExtendedStates-codename-Santi/src/cd++/model/state/obj -I/home/gisela/SED/CDPP_ExtendedStates-codename-Santi/src/cd++/proc -I/home/gisela/SED/CDPP_ExtendedStates-codename-Santi/src/cd++/proc/obj -I/home/gisela/SED/CDPP_ExtendedStates-codename-Santi/src/cd++/proc/state -I/home/gisela/SED/CDPP_ExtendedStates-codename-Santi/src/cd++/proc/state/obj -I/home/gisela/SED/CDPP_ExtendedStates-codename-Santi/src/cd++/msg -I/home/gisela/SED/CDPP_ExtendedStates-codename-Santi/src/cd++/msg/obj -I/home/gisela/SED/CDPP_ExtendedStates-codename-Santi/src/cd++/sim -I/home/gisela/SED/CDPP_ExtendedStates-codename-Santi/src/cd++/sim/loader -I/home/gisela/SED/CDPP_ExtendedStates-codename-Santi/src/cd++/sim/loader/obj -I/home/gisela/SED/CDPP_ExtendedStates-codename-Santi/src/cd++/main -I/home/gisela/SED/CDPP_ExtendedStates-codename-Santi/src/cd++/main/obj -I/home/gisela/SED/CDPP_ExtendedStates-codename-Santi/src/cd++/misc -I/home/gisela/SED/CDPP_ExtendedStates-codename-Santi/src/cd++/misc/obj -I/home/gisela/SED/CDPP_ExtendedStates-codename-Santi/src/cd++/misc/math -I/home/gisela/SED/CDPP_ExtendedStates-codename-Santi/src/cd++/misc/math/obj -I/home/gisela/SED/CDPP_ExtendedStates-codename-Santi/src/cd++/utils -I/home/gisela/SED/CDPP_ExtendedStates-codename-Santi/src/cd++/utils/obj -I/home/gisela/SED/CDPP_ExtendedStates-codename-Santi/src/cd++/utils/log -I/home/gisela/SED/CDPP_ExtendedStates-codename-Santi/src/cd++/utils/log/obj -I/home/gisela/SED/CDPP_ExtendedStates-codename-Santi/src/cd++/cell -I/home/gisela/SED/CDPP_ExtendedStates-codename-Santi/src/cd++/cell/obj -I/home/gisela/SED/CDPP_ExtendedStates-codename-Santi/src/cd++/evt -I/home/gisela/SED/CDPP_ExtendedStates-codename-Santi/src/cd++/evt/obj -I/home/gisela/SED/CDPP_ExtendedStates-codename-Santi/src/cd++/parser -I/home/gisela/SED/CDPP_ExtendedStates-codename-Santi/src/cd++/parser/obj -I/home/gisela/SED/CDPP_ExtendedStates-codename-Santi/src/cd++/parser/cdlang -I/home/gisela/SED/CDPP_ExtendedStates-codename-Santi/src/cd++/parser/cdlang/obj  -DREGISTER_ATOMICS -DKERNEL_NOTIME -DUSE_USER_VTIME -DHAS_BOOLEAN -g -O0 -Wall -Wno-deprecated -std=c++11  register.cpp -o obj/register.o\n",
      "make[4]: se entra en el directorio '/home/gisela/SED/CDPP_ExtendedStates-codename-Santi/src/cd++/sim/loader'\n",
      "make[4]: se sale del directorio '/home/gisela/SED/CDPP_ExtendedStates-codename-Santi/src/cd++/sim/loader'\n",
      "make[3]: se sale del directorio '/home/gisela/SED/CDPP_ExtendedStates-codename-Santi/src/cd++/sim'\n",
      "make -C loader OBJ_DIR=obj SRC_DIR=/home/gisela/SED/CDPP_ExtendedStates-codename-Santi/src/cd++\n",
      "make[3]: se entra en el directorio '/home/gisela/SED/CDPP_ExtendedStates-codename-Santi/src/cd++/sim/loader'\n",
      "g++ -c -I/home/gisela/SED/CDPP_ExtendedStates-codename-Santi/src/cd++/warped -I/home/gisela/SED/CDPP_ExtendedStates-codename-Santi/src/cd++/warped/notime -I/home/gisela/SED/CDPP_ExtendedStates-codename-Santi/src/cd++/warped/notime/obj -I/home/gisela/SED/CDPP_ExtendedStates-codename-Santi/src/cd++/warped/common -I/home/gisela/SED/CDPP_ExtendedStates-codename-Santi/src/cd++/warped/common/obj -I/home/gisela/SED/CDPP_ExtendedStates-codename-Santi/src/cd++/val -I/home/gisela/SED/CDPP_ExtendedStates-codename-Santi/src/cd++/val/obj -I/home/gisela/SED/CDPP_ExtendedStates-codename-Santi/src/cd++/atomics -I/home/gisela/SED/CDPP_ExtendedStates-codename-Santi/src/cd++/atomics/generator -I/home/gisela/SED/CDPP_ExtendedStates-codename-Santi/src/cd++/atomics/generator/obj -I/home/gisela/SED/CDPP_ExtendedStates-codename-Santi/src/cd++/atomics/generator/.ipynb_checkpoints -I/home/gisela/SED/CDPP_ExtendedStates-codename-Santi/src/cd++/atomics/qss -I/home/gisela/SED/CDPP_ExtendedStates-codename-Santi/src/cd++/atomics/qss/obj -I/home/gisela/SED/CDPP_ExtendedStates-codename-Santi/src/cd++/atomics/transducer -I/home/gisela/SED/CDPP_ExtendedStates-codename-Santi/src/cd++/atomics/transducer/obj -I/home/gisela/SED/CDPP_ExtendedStates-codename-Santi/src/cd++/atomics/cpu -I/home/gisela/SED/CDPP_ExtendedStates-codename-Santi/src/cd++/atomics/cpu/obj -I/home/gisela/SED/CDPP_ExtendedStates-codename-Santi/src/cd++/atomics/queue -I/home/gisela/SED/CDPP_ExtendedStates-codename-Santi/src/cd++/atomics/queue/obj -I/home/gisela/SED/CDPP_ExtendedStates-codename-Santi/src/cd++/atomics/queue/.ipynb_checkpoints -I/home/gisela/SED/CDPP_ExtendedStates-codename-Santi/src/cd++/model -I/home/gisela/SED/CDPP_ExtendedStates-codename-Santi/src/cd++/model/obj -I/home/gisela/SED/CDPP_ExtendedStates-codename-Santi/src/cd++/model/state -I/home/gisela/SED/CDPP_ExtendedStates-codename-Santi/src/cd++/model/state/obj -I/home/gisela/SED/CDPP_ExtendedStates-codename-Santi/src/cd++/proc -I/home/gisela/SED/CDPP_ExtendedStates-codename-Santi/src/cd++/proc/obj -I/home/gisela/SED/CDPP_ExtendedStates-codename-Santi/src/cd++/proc/state -I/home/gisela/SED/CDPP_ExtendedStates-codename-Santi/src/cd++/proc/state/obj -I/home/gisela/SED/CDPP_ExtendedStates-codename-Santi/src/cd++/msg -I/home/gisela/SED/CDPP_ExtendedStates-codename-Santi/src/cd++/msg/obj -I/home/gisela/SED/CDPP_ExtendedStates-codename-Santi/src/cd++/sim -I/home/gisela/SED/CDPP_ExtendedStates-codename-Santi/src/cd++/sim/loader -I/home/gisela/SED/CDPP_ExtendedStates-codename-Santi/src/cd++/sim/loader/obj -I/home/gisela/SED/CDPP_ExtendedStates-codename-Santi/src/cd++/main -I/home/gisela/SED/CDPP_ExtendedStates-codename-Santi/src/cd++/main/obj -I/home/gisela/SED/CDPP_ExtendedStates-codename-Santi/src/cd++/misc -I/home/gisela/SED/CDPP_ExtendedStates-codename-Santi/src/cd++/misc/obj -I/home/gisela/SED/CDPP_ExtendedStates-codename-Santi/src/cd++/misc/math -I/home/gisela/SED/CDPP_ExtendedStates-codename-Santi/src/cd++/misc/math/obj -I/home/gisela/SED/CDPP_ExtendedStates-codename-Santi/src/cd++/utils -I/home/gisela/SED/CDPP_ExtendedStates-codename-Santi/src/cd++/utils/obj -I/home/gisela/SED/CDPP_ExtendedStates-codename-Santi/src/cd++/utils/log -I/home/gisela/SED/CDPP_ExtendedStates-codename-Santi/src/cd++/utils/log/obj -I/home/gisela/SED/CDPP_ExtendedStates-codename-Santi/src/cd++/cell -I/home/gisela/SED/CDPP_ExtendedStates-codename-Santi/src/cd++/cell/obj -I/home/gisela/SED/CDPP_ExtendedStates-codename-Santi/src/cd++/evt -I/home/gisela/SED/CDPP_ExtendedStates-codename-Santi/src/cd++/evt/obj -I/home/gisela/SED/CDPP_ExtendedStates-codename-Santi/src/cd++/parser -I/home/gisela/SED/CDPP_ExtendedStates-codename-Santi/src/cd++/parser/obj -I/home/gisela/SED/CDPP_ExtendedStates-codename-Santi/src/cd++/parser/cdlang -I/home/gisela/SED/CDPP_ExtendedStates-codename-Santi/src/cd++/parser/cdlang/obj  -DREGISTER_ATOMICS -DKERNEL_NOTIME -DUSE_USER_VTIME -DHAS_BOOLEAN -g -O0 -Wall -Wno-deprecated -std=c++11  gram.c -o obj/gram.o\n",
      "g++ -c -I/home/gisela/SED/CDPP_ExtendedStates-codename-Santi/src/cd++/warped -I/home/gisela/SED/CDPP_ExtendedStates-codename-Santi/src/cd++/warped/notime -I/home/gisela/SED/CDPP_ExtendedStates-codename-Santi/src/cd++/warped/notime/obj -I/home/gisela/SED/CDPP_ExtendedStates-codename-Santi/src/cd++/warped/common -I/home/gisela/SED/CDPP_ExtendedStates-codename-Santi/src/cd++/warped/common/obj -I/home/gisela/SED/CDPP_ExtendedStates-codename-Santi/src/cd++/val -I/home/gisela/SED/CDPP_ExtendedStates-codename-Santi/src/cd++/val/obj -I/home/gisela/SED/CDPP_ExtendedStates-codename-Santi/src/cd++/atomics -I/home/gisela/SED/CDPP_ExtendedStates-codename-Santi/src/cd++/atomics/generator -I/home/gisela/SED/CDPP_ExtendedStates-codename-Santi/src/cd++/atomics/generator/obj -I/home/gisela/SED/CDPP_ExtendedStates-codename-Santi/src/cd++/atomics/generator/.ipynb_checkpoints -I/home/gisela/SED/CDPP_ExtendedStates-codename-Santi/src/cd++/atomics/qss -I/home/gisela/SED/CDPP_ExtendedStates-codename-Santi/src/cd++/atomics/qss/obj -I/home/gisela/SED/CDPP_ExtendedStates-codename-Santi/src/cd++/atomics/transducer -I/home/gisela/SED/CDPP_ExtendedStates-codename-Santi/src/cd++/atomics/transducer/obj -I/home/gisela/SED/CDPP_ExtendedStates-codename-Santi/src/cd++/atomics/cpu -I/home/gisela/SED/CDPP_ExtendedStates-codename-Santi/src/cd++/atomics/cpu/obj -I/home/gisela/SED/CDPP_ExtendedStates-codename-Santi/src/cd++/atomics/queue -I/home/gisela/SED/CDPP_ExtendedStates-codename-Santi/src/cd++/atomics/queue/obj -I/home/gisela/SED/CDPP_ExtendedStates-codename-Santi/src/cd++/atomics/queue/.ipynb_checkpoints -I/home/gisela/SED/CDPP_ExtendedStates-codename-Santi/src/cd++/model -I/home/gisela/SED/CDPP_ExtendedStates-codename-Santi/src/cd++/model/obj -I/home/gisela/SED/CDPP_ExtendedStates-codename-Santi/src/cd++/model/state -I/home/gisela/SED/CDPP_ExtendedStates-codename-Santi/src/cd++/model/state/obj -I/home/gisela/SED/CDPP_ExtendedStates-codename-Santi/src/cd++/proc -I/home/gisela/SED/CDPP_ExtendedStates-codename-Santi/src/cd++/proc/obj -I/home/gisela/SED/CDPP_ExtendedStates-codename-Santi/src/cd++/proc/state -I/home/gisela/SED/CDPP_ExtendedStates-codename-Santi/src/cd++/proc/state/obj -I/home/gisela/SED/CDPP_ExtendedStates-codename-Santi/src/cd++/msg -I/home/gisela/SED/CDPP_ExtendedStates-codename-Santi/src/cd++/msg/obj -I/home/gisela/SED/CDPP_ExtendedStates-codename-Santi/src/cd++/sim -I/home/gisela/SED/CDPP_ExtendedStates-codename-Santi/src/cd++/sim/loader -I/home/gisela/SED/CDPP_ExtendedStates-codename-Santi/src/cd++/sim/loader/obj -I/home/gisela/SED/CDPP_ExtendedStates-codename-Santi/src/cd++/main -I/home/gisela/SED/CDPP_ExtendedStates-codename-Santi/src/cd++/main/obj -I/home/gisela/SED/CDPP_ExtendedStates-codename-Santi/src/cd++/misc -I/home/gisela/SED/CDPP_ExtendedStates-codename-Santi/src/cd++/misc/obj -I/home/gisela/SED/CDPP_ExtendedStates-codename-Santi/src/cd++/misc/math -I/home/gisela/SED/CDPP_ExtendedStates-codename-Santi/src/cd++/misc/math/obj -I/home/gisela/SED/CDPP_ExtendedStates-codename-Santi/src/cd++/utils -I/home/gisela/SED/CDPP_ExtendedStates-codename-Santi/src/cd++/utils/obj -I/home/gisela/SED/CDPP_ExtendedStates-codename-Santi/src/cd++/utils/log -I/home/gisela/SED/CDPP_ExtendedStates-codename-Santi/src/cd++/utils/log/obj -I/home/gisela/SED/CDPP_ExtendedStates-codename-Santi/src/cd++/cell -I/home/gisela/SED/CDPP_ExtendedStates-codename-Santi/src/cd++/cell/obj -I/home/gisela/SED/CDPP_ExtendedStates-codename-Santi/src/cd++/evt -I/home/gisela/SED/CDPP_ExtendedStates-codename-Santi/src/cd++/evt/obj -I/home/gisela/SED/CDPP_ExtendedStates-codename-Santi/src/cd++/parser -I/home/gisela/SED/CDPP_ExtendedStates-codename-Santi/src/cd++/parser/obj -I/home/gisela/SED/CDPP_ExtendedStates-codename-Santi/src/cd++/parser/cdlang -I/home/gisela/SED/CDPP_ExtendedStates-codename-Santi/src/cd++/parser/cdlang/obj  -DREGISTER_ATOMICS -DKERNEL_NOTIME -DUSE_USER_VTIME -DHAS_BOOLEAN -g -O0 -Wall -Wno-deprecated -std=c++11  stdaload.cpp -o obj/stdaload.o\n",
      "make[3]: se sale del directorio '/home/gisela/SED/CDPP_ExtendedStates-codename-Santi/src/cd++/sim/loader'\n",
      "g++ -c -I/home/gisela/SED/CDPP_ExtendedStates-codename-Santi/src/cd++/warped -I/home/gisela/SED/CDPP_ExtendedStates-codename-Santi/src/cd++/warped/notime -I/home/gisela/SED/CDPP_ExtendedStates-codename-Santi/src/cd++/warped/notime/obj -I/home/gisela/SED/CDPP_ExtendedStates-codename-Santi/src/cd++/warped/common -I/home/gisela/SED/CDPP_ExtendedStates-codename-Santi/src/cd++/warped/common/obj -I/home/gisela/SED/CDPP_ExtendedStates-codename-Santi/src/cd++/val -I/home/gisela/SED/CDPP_ExtendedStates-codename-Santi/src/cd++/val/obj -I/home/gisela/SED/CDPP_ExtendedStates-codename-Santi/src/cd++/atomics -I/home/gisela/SED/CDPP_ExtendedStates-codename-Santi/src/cd++/atomics/generator -I/home/gisela/SED/CDPP_ExtendedStates-codename-Santi/src/cd++/atomics/generator/obj -I/home/gisela/SED/CDPP_ExtendedStates-codename-Santi/src/cd++/atomics/generator/.ipynb_checkpoints -I/home/gisela/SED/CDPP_ExtendedStates-codename-Santi/src/cd++/atomics/qss -I/home/gisela/SED/CDPP_ExtendedStates-codename-Santi/src/cd++/atomics/qss/obj -I/home/gisela/SED/CDPP_ExtendedStates-codename-Santi/src/cd++/atomics/transducer -I/home/gisela/SED/CDPP_ExtendedStates-codename-Santi/src/cd++/atomics/transducer/obj -I/home/gisela/SED/CDPP_ExtendedStates-codename-Santi/src/cd++/atomics/cpu -I/home/gisela/SED/CDPP_ExtendedStates-codename-Santi/src/cd++/atomics/cpu/obj -I/home/gisela/SED/CDPP_ExtendedStates-codename-Santi/src/cd++/atomics/queue -I/home/gisela/SED/CDPP_ExtendedStates-codename-Santi/src/cd++/atomics/queue/obj -I/home/gisela/SED/CDPP_ExtendedStates-codename-Santi/src/cd++/atomics/queue/.ipynb_checkpoints -I/home/gisela/SED/CDPP_ExtendedStates-codename-Santi/src/cd++/model -I/home/gisela/SED/CDPP_ExtendedStates-codename-Santi/src/cd++/model/obj -I/home/gisela/SED/CDPP_ExtendedStates-codename-Santi/src/cd++/model/state -I/home/gisela/SED/CDPP_ExtendedStates-codename-Santi/src/cd++/model/state/obj -I/home/gisela/SED/CDPP_ExtendedStates-codename-Santi/src/cd++/proc -I/home/gisela/SED/CDPP_ExtendedStates-codename-Santi/src/cd++/proc/obj -I/home/gisela/SED/CDPP_ExtendedStates-codename-Santi/src/cd++/proc/state -I/home/gisela/SED/CDPP_ExtendedStates-codename-Santi/src/cd++/proc/state/obj -I/home/gisela/SED/CDPP_ExtendedStates-codename-Santi/src/cd++/msg -I/home/gisela/SED/CDPP_ExtendedStates-codename-Santi/src/cd++/msg/obj -I/home/gisela/SED/CDPP_ExtendedStates-codename-Santi/src/cd++/sim -I/home/gisela/SED/CDPP_ExtendedStates-codename-Santi/src/cd++/sim/loader -I/home/gisela/SED/CDPP_ExtendedStates-codename-Santi/src/cd++/sim/loader/obj -I/home/gisela/SED/CDPP_ExtendedStates-codename-Santi/src/cd++/main -I/home/gisela/SED/CDPP_ExtendedStates-codename-Santi/src/cd++/main/obj -I/home/gisela/SED/CDPP_ExtendedStates-codename-Santi/src/cd++/misc -I/home/gisela/SED/CDPP_ExtendedStates-codename-Santi/src/cd++/misc/obj -I/home/gisela/SED/CDPP_ExtendedStates-codename-Santi/src/cd++/misc/math -I/home/gisela/SED/CDPP_ExtendedStates-codename-Santi/src/cd++/misc/math/obj -I/home/gisela/SED/CDPP_ExtendedStates-codename-Santi/src/cd++/utils -I/home/gisela/SED/CDPP_ExtendedStates-codename-Santi/src/cd++/utils/obj -I/home/gisela/SED/CDPP_ExtendedStates-codename-Santi/src/cd++/utils/log -I/home/gisela/SED/CDPP_ExtendedStates-codename-Santi/src/cd++/utils/log/obj -I/home/gisela/SED/CDPP_ExtendedStates-codename-Santi/src/cd++/cell -I/home/gisela/SED/CDPP_ExtendedStates-codename-Santi/src/cd++/cell/obj -I/home/gisela/SED/CDPP_ExtendedStates-codename-Santi/src/cd++/evt -I/home/gisela/SED/CDPP_ExtendedStates-codename-Santi/src/cd++/evt/obj -I/home/gisela/SED/CDPP_ExtendedStates-codename-Santi/src/cd++/parser -I/home/gisela/SED/CDPP_ExtendedStates-codename-Santi/src/cd++/parser/obj -I/home/gisela/SED/CDPP_ExtendedStates-codename-Santi/src/cd++/parser/cdlang -I/home/gisela/SED/CDPP_ExtendedStates-codename-Santi/src/cd++/parser/cdlang/obj  -DREGISTER_ATOMICS -DKERNEL_NOTIME -DUSE_USER_VTIME -DHAS_BOOLEAN -g -O0 -Wall -Wno-deprecated -std=c++11  parsimu.cpp -o obj/parsimu.o\n",
      "make[2]: se sale del directorio '/home/gisela/SED/CDPP_ExtendedStates-codename-Santi/src/cd++/sim'\n",
      "make[3]: se sale del directorio '/home/gisela/SED/CDPP_ExtendedStates-codename-Santi/src/cd++/parser/cdlang'\n",
      "make[2]: se sale del directorio '/home/gisela/SED/CDPP_ExtendedStates-codename-Santi/src/cd++/parser'\n",
      "g++ -L/home/gisela/SED/CDPP_ExtendedStates-codename-Santi/examples/TP1-CentroAtencion/src/bin -o /home/gisela/SED/CDPP_ExtendedStates-codename-Santi/examples/TP1-CentroAtencion/src/bin/cd++ main/obj/main.o warped/notime/obj/InputQueue.o warped/notime/obj/BasicEvent.o warped/notime/obj/BasicNoTime.o warped/notime/obj/FileQueue.o warped/notime/obj/NoTimeObject.o warped/notime/obj/BasicState.o warped/notime/obj/Interactive.o warped/notime/obj/DebugStream.o warped/notime/obj/KernelMsgs.o warped/notime/obj/LogicalProcess.o warped/notime/obj/CommManager.o warped/notime/obj/NoTime.o warped/common/obj/VTime.o /home/gisela/SED/CDPP_ExtendedStates-codename-Santi/examples/TP1-CentroAtencion/src/bin/GeneradorLlamadas.o /home/gisela/SED/CDPP_ExtendedStates-codename-Santi/examples/TP1-CentroAtencion/src/bin/Medidor.o /home/gisela/SED/CDPP_ExtendedStates-codename-Santi/examples/TP1-CentroAtencion/src/bin/Agente.o /home/gisela/SED/CDPP_ExtendedStates-codename-Santi/examples/TP1-CentroAtencion/src/bin/DistribuidorAgentes.o /home/gisela/SED/CDPP_ExtendedStates-codename-Santi/examples/TP1-CentroAtencion/src/bin/ModelTemplate.o /home/gisela/SED/CDPP_ExtendedStates-codename-Santi/examples/TP1-CentroAtencion/src/bin/register.o /home/gisela/SED/CDPP_ExtendedStates-codename-Santi/examples/TP1-CentroAtencion/src/bin/DistribuidorLlamadas.o /home/gisela/SED/CDPP_ExtendedStates-codename-Santi/examples/TP1-CentroAtencion/src/bin/Cola.o -lsimu\n",
      "make[1]: se sale del directorio '/home/gisela/SED/CDPP_ExtendedStates-codename-Santi/src/cd++'\n"
     ]
    },
    {
     "name": "stderr",
     "output_type": "stream",
     "text": [
      "/home/gisela/SED/CDPP_ExtendedStates-codename-Santi/examples/TP1-CentroAtencion/src/bin/libsimu.a(macroexp.o): En la función `macroExpansion::expand[abi:cxx11]()':\n",
      "/home/gisela/SED/CDPP_ExtendedStates-codename-Santi/src/cd++/utils/macroexp.cpp:147: aviso: the use of `tmpnam' is dangerous, better use `mkstemp'\n",
      "warped/notime/obj/DebugStream.o: En la función `DebugStream::interact()':\n",
      "/home/gisela/SED/CDPP_ExtendedStates-codename-Santi/src/cd++/warped/notime/DebugStream.cpp:682: aviso: the `gets' function is dangerous and should not be used.\n"
     ]
    }
   ],
   "source": [
    "%%bash -s \"$CDPP_EXAMPLES\"\n",
    "\n",
    "cd $1/TP1-CentroAtencion/src\n",
    "\n",
    "# make clean\n",
    "\n",
    "# Correr para compilar viendo cada paso\n",
    "make -j4\n"
   ]
  },
  {
   "cell_type": "markdown",
   "id": "59c08a6e-ec83-4c56-83b2-058b567444fa",
   "metadata": {},
   "source": [
    "## Tests\n",
    "### GeneradorLlamadas\n",
    "\n",
    "Primero probamos generar las llamadas con distribución constante en el tiempo."
   ]
  },
  {
   "cell_type": "code",
   "execution_count": 80,
   "id": "2ec5ff98-7361-4f5f-b57a-cb89ad29144b",
   "metadata": {
    "scrolled": true,
    "tags": []
   },
   "outputs": [
    {
     "name": "stdout",
     "output_type": "stream",
     "text": [
      "PCD++: A Tool to Implement n-Dimensional Cell-DEVS models\n",
      "Version 3.0 - March 2003\n",
      "Troccoli A., Rodriguez D., Wainer G., Barylko A., Beyoglonian J., Lopez A.\n",
      "-----------------------------------------------------------------------------\n",
      "PCD++ Extended States: An extended and improved version of CD++ for Cell-DEVS\n",
      "Version 4.1.2 - December 2018\n",
      "Santi L., Castro, R., Pimás, J.\n",
      "-----------------------------------------------------------------------------\n",
      "Discrete Event Simulation Lab\n",
      "Departamento de Computación\n",
      "Facultad de Ciencias Exactas y Naturales\n",
      "Universidad de Buenos Aires, Argentina\n",
      "-----------------------------------------------------------------------------\n",
      "Compiled for standalone simulation\n",
      "\n",
      "\n",
      "Loading models from ../model/test_generador1.ma\n",
      "Loading events from ../model/test_generador1.ev\n",
      "Running parallel simulation. Reading models partition from \n",
      "Model partition details output to: /dev/null*\n",
      "Message log: ../test_generador1.log\n",
      "Output to: ../test_generador1.out\n",
      "Tolerance set to: 1e-08\n",
      "Configuration to show real numbers: Width = 12 - Precision = 5\n",
      "Quantum: Not used\n",
      "Evaluate Debug Mode = OFF\n",
      "Flat Cell Debug Mode = OFF\n",
      "Debug Cell Rules Mode = OFF\n",
      "Temporary File created by Preprocessor = /tmp/file6ZsC9s\n",
      "Printing parser information = OFF\n",
      "\n",
      "Stop at time: Infinity.\n",
      "LP 0: initializing simulation objects\n",
      "00:01:00:000:0 / in / [1]\n",
      "LP 0: starting simulation (NoTime).\n",
      "dint@00:00:00:000:0 - timeleft: 00:00:00:000:0 - elapsed: 00:00:00:000:0 - sigma: 00:00:00:000:0\n",
      "dint@00:00:01:000:0 - timeleft: 00:00:00:000:0 - elapsed: 00:00:01:000:0 - sigma: 00:00:01:000:0\n",
      "dint@00:00:02:000:0 - timeleft: 00:00:00:000:0 - elapsed: 00:00:01:000:0 - sigma: 00:00:01:000:0\n",
      "dint@00:00:03:000:0 - timeleft: 00:00:00:000:0 - elapsed: 00:00:01:000:0 - sigma: 00:00:01:000:0\n",
      "dint@00:00:04:000:0 - timeleft: 00:00:00:000:0 - elapsed: 00:00:01:000:0 - sigma: 00:00:01:000:0\n",
      "dint@00:00:05:000:0 - timeleft: 00:00:00:000:0 - elapsed: 00:00:01:000:0 - sigma: 00:00:01:000:0\n",
      "dint@00:00:06:000:0 - timeleft: 00:00:00:000:0 - elapsed: 00:00:01:000:0 - sigma: 00:00:01:000:0\n",
      "dint@00:00:07:000:0 - timeleft: 00:00:00:000:0 - elapsed: 00:00:01:000:0 - sigma: 00:00:01:000:0\n",
      "dint@00:00:08:000:0 - timeleft: 00:00:00:000:0 - elapsed: 00:00:01:000:0 - sigma: 00:00:01:000:0\n",
      "dint@00:00:09:000:0 - timeleft: 00:00:00:000:0 - elapsed: 00:00:01:000:0 - sigma: 00:00:01:000:0\n",
      "dint@00:00:10:000:0 - timeleft: 00:00:00:000:0 - elapsed: 00:00:01:000:0 - sigma: 00:00:01:000:0\n",
      "dint@00:00:11:000:0 - timeleft: 00:00:00:000:0 - elapsed: 00:00:01:000:0 - sigma: 00:00:01:000:0\n",
      "dint@00:00:12:000:0 - timeleft: 00:00:00:000:0 - elapsed: 00:00:01:000:0 - sigma: 00:00:01:000:0\n",
      "dint@00:00:13:000:0 - timeleft: 00:00:00:000:0 - elapsed: 00:00:01:000:0 - sigma: 00:00:01:000:0\n",
      "dint@00:00:14:000:0 - timeleft: 00:00:00:000:0 - elapsed: 00:00:01:000:0 - sigma: 00:00:01:000:0\n",
      "dint@00:00:15:000:0 - timeleft: 00:00:00:000:0 - elapsed: 00:00:01:000:0 - sigma: 00:00:01:000:0\n",
      "dint@00:00:16:000:0 - timeleft: 00:00:00:000:0 - elapsed: 00:00:01:000:0 - sigma: 00:00:01:000:0\n",
      "dint@00:00:17:000:0 - timeleft: 00:00:00:000:0 - elapsed: 00:00:01:000:0 - sigma: 00:00:01:000:0\n",
      "dint@00:00:18:000:0 - timeleft: 00:00:00:000:0 - elapsed: 00:00:01:000:0 - sigma: 00:00:01:000:0\n",
      "dint@00:00:19:000:0 - timeleft: 00:00:00:000:0 - elapsed: 00:00:01:000:0 - sigma: 00:00:01:000:0\n",
      "dint@00:00:20:000:0 - timeleft: 00:00:00:000:0 - elapsed: 00:00:01:000:0 - sigma: 00:00:01:000:0\n",
      "dint@00:00:21:000:0 - timeleft: 00:00:00:000:0 - elapsed: 00:00:01:000:0 - sigma: 00:00:01:000:0\n",
      "dint@00:00:22:000:0 - timeleft: 00:00:00:000:0 - elapsed: 00:00:01:000:0 - sigma: 00:00:01:000:0\n",
      "dint@00:00:23:000:0 - timeleft: 00:00:00:000:0 - elapsed: 00:00:01:000:0 - sigma: 00:00:01:000:0\n",
      "dint@00:00:24:000:0 - timeleft: 00:00:00:000:0 - elapsed: 00:00:01:000:0 - sigma: 00:00:01:000:0\n",
      "dint@00:00:25:000:0 - timeleft: 00:00:00:000:0 - elapsed: 00:00:01:000:0 - sigma: 00:00:01:000:0\n",
      "dint@00:00:26:000:0 - timeleft: 00:00:00:000:0 - elapsed: 00:00:01:000:0 - sigma: 00:00:01:000:0\n",
      "dint@00:00:27:000:0 - timeleft: 00:00:00:000:0 - elapsed: 00:00:01:000:0 - sigma: 00:00:01:000:0\n",
      "dint@00:00:28:000:0 - timeleft: 00:00:00:000:0 - elapsed: 00:00:01:000:0 - sigma: 00:00:01:000:0\n",
      "dint@00:00:29:000:0 - timeleft: 00:00:00:000:0 - elapsed: 00:00:01:000:0 - sigma: 00:00:01:000:0\n",
      "dint@00:00:30:000:0 - timeleft: 00:00:00:000:0 - elapsed: 00:00:01:000:0 - sigma: 00:00:01:000:0\n",
      "dint@00:00:31:000:0 - timeleft: 00:00:00:000:0 - elapsed: 00:00:01:000:0 - sigma: 00:00:01:000:0\n",
      "dint@00:00:32:000:0 - timeleft: 00:00:00:000:0 - elapsed: 00:00:01:000:0 - sigma: 00:00:01:000:0\n",
      "dint@00:00:33:000:0 - timeleft: 00:00:00:000:0 - elapsed: 00:00:01:000:0 - sigma: 00:00:01:000:0\n",
      "dint@00:00:34:000:0 - timeleft: 00:00:00:000:0 - elapsed: 00:00:01:000:0 - sigma: 00:00:01:000:0\n",
      "dint@00:00:35:000:0 - timeleft: 00:00:00:000:0 - elapsed: 00:00:01:000:0 - sigma: 00:00:01:000:0\n",
      "dint@00:00:36:000:0 - timeleft: 00:00:00:000:0 - elapsed: 00:00:01:000:0 - sigma: 00:00:01:000:0\n",
      "dint@00:00:37:000:0 - timeleft: 00:00:00:000:0 - elapsed: 00:00:01:000:0 - sigma: 00:00:01:000:0\n",
      "dint@00:00:38:000:0 - timeleft: 00:00:00:000:0 - elapsed: 00:00:01:000:0 - sigma: 00:00:01:000:0\n",
      "dint@00:00:39:000:0 - timeleft: 00:00:00:000:0 - elapsed: 00:00:01:000:0 - sigma: 00:00:01:000:0\n",
      "dint@00:00:40:000:0 - timeleft: 00:00:00:000:0 - elapsed: 00:00:01:000:0 - sigma: 00:00:01:000:0\n",
      "dint@00:00:41:000:0 - timeleft: 00:00:00:000:0 - elapsed: 00:00:01:000:0 - sigma: 00:00:01:000:0\n",
      "dint@00:00:42:000:0 - timeleft: 00:00:00:000:0 - elapsed: 00:00:01:000:0 - sigma: 00:00:01:000:0\n",
      "dint@00:00:43:000:0 - timeleft: 00:00:00:000:0 - elapsed: 00:00:01:000:0 - sigma: 00:00:01:000:0\n",
      "dint@00:00:44:000:0 - timeleft: 00:00:00:000:0 - elapsed: 00:00:01:000:0 - sigma: 00:00:01:000:0\n",
      "dint@00:00:45:000:0 - timeleft: 00:00:00:000:0 - elapsed: 00:00:01:000:0 - sigma: 00:00:01:000:0\n",
      "dint@00:00:46:000:0 - timeleft: 00:00:00:000:0 - elapsed: 00:00:01:000:0 - sigma: 00:00:01:000:0\n",
      "dint@00:00:47:000:0 - timeleft: 00:00:00:000:0 - elapsed: 00:00:01:000:0 - sigma: 00:00:01:000:0\n",
      "dint@00:00:48:000:0 - timeleft: 00:00:00:000:0 - elapsed: 00:00:01:000:0 - sigma: 00:00:01:000:0\n",
      "dint@00:00:49:000:0 - timeleft: 00:00:00:000:0 - elapsed: 00:00:01:000:0 - sigma: 00:00:01:000:0\n",
      "dint@00:00:50:000:0 - timeleft: 00:00:00:000:0 - elapsed: 00:00:01:000:0 - sigma: 00:00:01:000:0\n",
      "dint@00:00:51:000:0 - timeleft: 00:00:00:000:0 - elapsed: 00:00:01:000:0 - sigma: 00:00:01:000:0\n",
      "dint@00:00:52:000:0 - timeleft: 00:00:00:000:0 - elapsed: 00:00:01:000:0 - sigma: 00:00:01:000:0\n",
      "dint@00:00:53:000:0 - timeleft: 00:00:00:000:0 - elapsed: 00:00:01:000:0 - sigma: 00:00:01:000:0\n",
      "dint@00:00:54:000:0 - timeleft: 00:00:00:000:0 - elapsed: 00:00:01:000:0 - sigma: 00:00:01:000:0\n",
      "dint@00:00:55:000:0 - timeleft: 00:00:00:000:0 - elapsed: 00:00:01:000:0 - sigma: 00:00:01:000:0\n",
      "dint@00:00:56:000:0 - timeleft: 00:00:00:000:0 - elapsed: 00:00:01:000:0 - sigma: 00:00:01:000:0\n",
      "dint@00:00:57:000:0 - timeleft: 00:00:00:000:0 - elapsed: 00:00:01:000:0 - sigma: 00:00:01:000:0\n",
      "dint@00:00:58:000:0 - timeleft: 00:00:00:000:0 - elapsed: 00:00:01:000:0 - sigma: 00:00:01:000:0\n",
      "dint@00:00:59:000:0 - timeleft: 00:00:00:000:0 - elapsed: 00:00:01:000:0 - sigma: 00:00:01:000:0\n",
      "dint@00:01:00:000:0 - timeleft: 00:00:00:000:0 - elapsed: 00:00:01:000:0 - sigma: 00:00:01:000:0\n",
      "dext@00:01:00:000:0 - timeleft: 00:00:01:000:0 - elapsed: 00:00:00:000:0 - sigma: 00:00:01:000:0\n",
      "Simulation complete!\n",
      "Simulation ended!\n",
      "LP 0 has finished simulation \n"
     ]
    },
    {
     "name": "stderr",
     "output_type": "stream",
     "text": [
      "At 00:01:00:000:0\r"
     ]
    }
   ],
   "source": [
    "%%bash -s \"$CDPP_EXAMPLES\"\n",
    "\n",
    "cd $1/TP1-CentroAtencion/src/\n",
    "\n",
    "bin/cd++ -m ../model/test_generador1.ma  \\\n",
    "         -e ../model/test_generador1.ev  \\\n",
    "         -l ../test_generador1.log \\\n",
    "         -o ../test_generador1.out"
   ]
  },
  {
   "cell_type": "markdown",
   "id": "a64d647b-7edd-4bae-bc6c-b17f60f10f80",
   "metadata": {},
   "source": [
    "Luego probamos con distribución de poisson con media=5."
   ]
  },
  {
   "cell_type": "code",
   "execution_count": 81,
   "id": "ed42f876-bbb2-4988-8d82-df403e77046c",
   "metadata": {
    "scrolled": true,
    "tags": []
   },
   "outputs": [
    {
     "name": "stdout",
     "output_type": "stream",
     "text": [
      "PCD++: A Tool to Implement n-Dimensional Cell-DEVS models\n",
      "Version 3.0 - March 2003\n",
      "Troccoli A., Rodriguez D., Wainer G., Barylko A., Beyoglonian J., Lopez A.\n",
      "-----------------------------------------------------------------------------\n",
      "PCD++ Extended States: An extended and improved version of CD++ for Cell-DEVS\n",
      "Version 4.1.2 - December 2018\n",
      "Santi L., Castro, R., Pimás, J.\n",
      "-----------------------------------------------------------------------------\n",
      "Discrete Event Simulation Lab\n",
      "Departamento de Computación\n",
      "Facultad de Ciencias Exactas y Naturales\n",
      "Universidad de Buenos Aires, Argentina\n",
      "-----------------------------------------------------------------------------\n",
      "Compiled for standalone simulation\n",
      "\n",
      "\n",
      "Loading models from ../model/test_generador2.ma\n",
      "Loading events from ../model/test_generador2.ev\n",
      "Running parallel simulation. Reading models partition from \n",
      "Model partition details output to: /dev/null*\n",
      "Message log: ../test_generador2.log\n",
      "Output to: ../test_generador2.out\n",
      "Tolerance set to: 1e-08\n",
      "Configuration to show real numbers: Width = 12 - Precision = 5\n",
      "Quantum: Not used\n",
      "Evaluate Debug Mode = OFF\n",
      "Flat Cell Debug Mode = OFF\n",
      "Debug Cell Rules Mode = OFF\n",
      "Temporary File created by Preprocessor = /tmp/fileP7H7St\n",
      "Printing parser information = OFF\n",
      "\n",
      "Stop at time: Infinity.\n",
      "LP 0: initializing simulation objects\n",
      "00:05:00:000:0 / in / [1]\n",
      "LP 0: starting simulation (NoTime).\n",
      "dint@00:00:00:000:0 - timeleft: 00:00:00:000:0 - elapsed: 00:00:00:000:0 - sigma: 00:00:00:000:0\n",
      "dint@00:00:03:000:0 - timeleft: 00:00:00:000:0 - elapsed: 00:00:03:000:0 - sigma: 00:00:03:000:0\n",
      "dint@00:00:06:000:0 - timeleft: 00:00:00:000:0 - elapsed: 00:00:03:000:0 - sigma: 00:00:03:000:0\n",
      "dint@00:00:10:000:0 - timeleft: 00:00:00:000:0 - elapsed: 00:00:04:000:0 - sigma: 00:00:04:000:0\n",
      "dint@00:00:17:000:0 - timeleft: 00:00:00:000:0 - elapsed: 00:00:07:000:0 - sigma: 00:00:07:000:0\n",
      "dint@00:00:21:000:0 - timeleft: 00:00:00:000:0 - elapsed: 00:00:04:000:0 - sigma: 00:00:04:000:0\n",
      "dint@00:00:24:000:0 - timeleft: 00:00:00:000:0 - elapsed: 00:00:03:000:0 - sigma: 00:00:03:000:0\n",
      "dint@00:00:30:000:0 - timeleft: 00:00:00:000:0 - elapsed: 00:00:06:000:0 - sigma: 00:00:06:000:0\n",
      "dint@00:00:37:000:0 - timeleft: 00:00:00:000:0 - elapsed: 00:00:07:000:0 - sigma: 00:00:07:000:0\n",
      "dint@00:00:44:000:0 - timeleft: 00:00:00:000:0 - elapsed: 00:00:07:000:0 - sigma: 00:00:07:000:0\n",
      "dint@00:00:52:000:0 - timeleft: 00:00:00:000:0 - elapsed: 00:00:08:000:0 - sigma: 00:00:08:000:0\n",
      "dint@00:00:58:000:0 - timeleft: 00:00:00:000:0 - elapsed: 00:00:06:000:0 - sigma: 00:00:06:000:0\n",
      "dint@00:01:00:000:0 - timeleft: 00:00:00:000:0 - elapsed: 00:00:02:000:0 - sigma: 00:00:02:000:0\n",
      "dint@00:01:03:000:0 - timeleft: 00:00:00:000:0 - elapsed: 00:00:03:000:0 - sigma: 00:00:03:000:0\n",
      "dint@00:01:09:000:0 - timeleft: 00:00:00:000:0 - elapsed: 00:00:06:000:0 - sigma: 00:00:06:000:0\n",
      "dint@00:01:18:000:0 - timeleft: 00:00:00:000:0 - elapsed: 00:00:09:000:0 - sigma: 00:00:09:000:0\n",
      "dint@00:01:25:000:0 - timeleft: 00:00:00:000:0 - elapsed: 00:00:07:000:0 - sigma: 00:00:07:000:0\n",
      "dint@00:01:29:000:0 - timeleft: 00:00:00:000:0 - elapsed: 00:00:04:000:0 - sigma: 00:00:04:000:0\n",
      "dint@00:01:32:000:0 - timeleft: 00:00:00:000:0 - elapsed: 00:00:03:000:0 - sigma: 00:00:03:000:0\n",
      "dint@00:01:40:000:0 - timeleft: 00:00:00:000:0 - elapsed: 00:00:08:000:0 - sigma: 00:00:08:000:0\n",
      "dint@00:01:46:000:0 - timeleft: 00:00:00:000:0 - elapsed: 00:00:06:000:0 - sigma: 00:00:06:000:0\n",
      "dint@00:01:59:000:0 - timeleft: 00:00:00:000:0 - elapsed: 00:00:13:000:0 - sigma: 00:00:13:000:0\n",
      "dint@00:02:07:000:0 - timeleft: 00:00:00:000:0 - elapsed: 00:00:08:000:0 - sigma: 00:00:08:000:0\n",
      "dint@00:02:15:000:0 - timeleft: 00:00:00:000:0 - elapsed: 00:00:08:000:0 - sigma: 00:00:08:000:0\n",
      "dint@00:02:18:000:0 - timeleft: 00:00:00:000:0 - elapsed: 00:00:03:000:0 - sigma: 00:00:03:000:0\n",
      "dint@00:02:21:000:0 - timeleft: 00:00:00:000:0 - elapsed: 00:00:03:000:0 - sigma: 00:00:03:000:0\n",
      "dint@00:02:30:000:0 - timeleft: 00:00:00:000:0 - elapsed: 00:00:09:000:0 - sigma: 00:00:09:000:0\n",
      "dint@00:02:35:000:0 - timeleft: 00:00:00:000:0 - elapsed: 00:00:05:000:0 - sigma: 00:00:05:000:0\n",
      "dint@00:02:41:000:0 - timeleft: 00:00:00:000:0 - elapsed: 00:00:06:000:0 - sigma: 00:00:06:000:0\n",
      "dint@00:02:47:000:0 - timeleft: 00:00:00:000:0 - elapsed: 00:00:06:000:0 - sigma: 00:00:06:000:0\n",
      "dint@00:02:51:000:0 - timeleft: 00:00:00:000:0 - elapsed: 00:00:04:000:0 - sigma: 00:00:04:000:0\n",
      "dint@00:02:54:000:0 - timeleft: 00:00:00:000:0 - elapsed: 00:00:03:000:0 - sigma: 00:00:03:000:0\n",
      "dint@00:02:55:000:0 - timeleft: 00:00:00:000:0 - elapsed: 00:00:01:000:0 - sigma: 00:00:01:000:0\n",
      "dint@00:02:59:000:0 - timeleft: 00:00:00:000:0 - elapsed: 00:00:04:000:0 - sigma: 00:00:04:000:0\n",
      "dint@00:03:04:000:0 - timeleft: 00:00:00:000:0 - elapsed: 00:00:05:000:0 - sigma: 00:00:05:000:0\n",
      "dint@00:03:09:000:0 - timeleft: 00:00:00:000:0 - elapsed: 00:00:05:000:0 - sigma: 00:00:05:000:0\n",
      "dint@00:03:17:000:0 - timeleft: 00:00:00:000:0 - elapsed: 00:00:08:000:0 - sigma: 00:00:08:000:0\n",
      "dint@00:03:23:000:0 - timeleft: 00:00:00:000:0 - elapsed: 00:00:06:000:0 - sigma: 00:00:06:000:0\n",
      "dint@00:03:28:000:0 - timeleft: 00:00:00:000:0 - elapsed: 00:00:05:000:0 - sigma: 00:00:05:000:0\n",
      "dint@00:03:32:000:0 - timeleft: 00:00:00:000:0 - elapsed: 00:00:04:000:0 - sigma: 00:00:04:000:0\n",
      "dint@00:03:34:000:0 - timeleft: 00:00:00:000:0 - elapsed: 00:00:02:000:0 - sigma: 00:00:02:000:0\n",
      "dint@00:03:40:000:0 - timeleft: 00:00:00:000:0 - elapsed: 00:00:06:000:0 - sigma: 00:00:06:000:0\n",
      "dint@00:03:43:000:0 - timeleft: 00:00:00:000:0 - elapsed: 00:00:03:000:0 - sigma: 00:00:03:000:0\n",
      "dint@00:03:50:000:0 - timeleft: 00:00:00:000:0 - elapsed: 00:00:07:000:0 - sigma: 00:00:07:000:0\n",
      "dint@00:03:56:000:0 - timeleft: 00:00:00:000:0 - elapsed: 00:00:06:000:0 - sigma: 00:00:06:000:0\n",
      "dint@00:04:00:000:0 - timeleft: 00:00:00:000:0 - elapsed: 00:00:04:000:0 - sigma: 00:00:04:000:0\n",
      "dint@00:04:05:000:0 - timeleft: 00:00:00:000:0 - elapsed: 00:00:05:000:0 - sigma: 00:00:05:000:0\n",
      "dint@00:04:08:000:0 - timeleft: 00:00:00:000:0 - elapsed: 00:00:03:000:0 - sigma: 00:00:03:000:0\n",
      "dint@00:04:13:000:0 - timeleft: 00:00:00:000:0 - elapsed: 00:00:05:000:0 - sigma: 00:00:05:000:0\n",
      "dint@00:04:21:000:0 - timeleft: 00:00:00:000:0 - elapsed: 00:00:08:000:0 - sigma: 00:00:08:000:0\n",
      "dint@00:04:27:000:0 - timeleft: 00:00:00:000:0 - elapsed: 00:00:06:000:0 - sigma: 00:00:06:000:0\n",
      "dint@00:04:33:000:0 - timeleft: 00:00:00:000:0 - elapsed: 00:00:06:000:0 - sigma: 00:00:06:000:0\n",
      "dint@00:04:37:000:0 - timeleft: 00:00:00:000:0 - elapsed: 00:00:04:000:0 - sigma: 00:00:04:000:0\n",
      "dint@00:04:42:000:0 - timeleft: 00:00:00:000:0 - elapsed: 00:00:05:000:0 - sigma: 00:00:05:000:0\n",
      "dint@00:04:50:000:0 - timeleft: 00:00:00:000:0 - elapsed: 00:00:08:000:0 - sigma: 00:00:08:000:0\n",
      "dint@00:04:55:000:0 - timeleft: 00:00:00:000:0 - elapsed: 00:00:05:000:0 - sigma: 00:00:05:000:0\n",
      "dint@00:04:58:000:0 - timeleft: 00:00:00:000:0 - elapsed: 00:00:03:000:0 - sigma: 00:00:03:000:0\n",
      "dext@00:05:00:000:0 - timeleft: 00:00:01:000:0 - elapsed: 00:00:02:000:0 - sigma: 00:00:03:000:0\n",
      "Guarda, tiempo negativo!\n",
      "Simulation complete!\n",
      "Simulation ended!\n",
      "LP 0 has finished simulation \n"
     ]
    },
    {
     "name": "stderr",
     "output_type": "stream",
     "text": [
      "At 00:04:58:000:0\r"
     ]
    }
   ],
   "source": [
    "%%bash -s \"$CDPP_EXAMPLES\"\n",
    "\n",
    "cd $1/TP1-CentroAtencion/src/\n",
    "\n",
    "bin/cd++ -m ../model/test_generador2.ma  \\\n",
    "         -e ../model/test_generador2.ev  \\\n",
    "         -l ../test_generador2.log \\\n",
    "         -o ../test_generador2.out"
   ]
  },
  {
   "cell_type": "markdown",
   "id": "c9027098-303c-45e6-a9dc-6ad64f04e241",
   "metadata": {},
   "source": [
    "#### Análisis de los resultados de tests para el modelo GeneradorLlamadas"
   ]
  },
  {
   "cell_type": "code",
   "execution_count": 82,
   "id": "c67943a6-fd61-4ea7-8b01-67619b55ce3d",
   "metadata": {},
   "outputs": [
    {
     "data": {
      "text/html": [
       "<div>\n",
       "<style scoped>\n",
       "    .dataframe tbody tr th:only-of-type {\n",
       "        vertical-align: middle;\n",
       "    }\n",
       "\n",
       "    .dataframe tbody tr th {\n",
       "        vertical-align: top;\n",
       "    }\n",
       "\n",
       "    .dataframe thead th {\n",
       "        text-align: right;\n",
       "    }\n",
       "</style>\n",
       "<table border=\"1\" class=\"dataframe\">\n",
       "  <thead>\n",
       "    <tr style=\"text-align: right;\">\n",
       "      <th></th>\n",
       "      <th>time</th>\n",
       "      <th>port</th>\n",
       "      <th>value</th>\n",
       "    </tr>\n",
       "  </thead>\n",
       "  <tbody>\n",
       "    <tr>\n",
       "      <th>0</th>\n",
       "      <td>0.0</td>\n",
       "      <td>out</td>\n",
       "      <td>(0.0, 1.0)</td>\n",
       "    </tr>\n",
       "    <tr>\n",
       "      <th>1</th>\n",
       "      <td>3.0</td>\n",
       "      <td>out</td>\n",
       "      <td>(1.0, 1.0)</td>\n",
       "    </tr>\n",
       "    <tr>\n",
       "      <th>2</th>\n",
       "      <td>6.0</td>\n",
       "      <td>out</td>\n",
       "      <td>(2.0, 1.0)</td>\n",
       "    </tr>\n",
       "    <tr>\n",
       "      <th>3</th>\n",
       "      <td>10.0</td>\n",
       "      <td>out</td>\n",
       "      <td>(3.0, 0.0)</td>\n",
       "    </tr>\n",
       "    <tr>\n",
       "      <th>4</th>\n",
       "      <td>17.0</td>\n",
       "      <td>out</td>\n",
       "      <td>(4.0, 1.0)</td>\n",
       "    </tr>\n",
       "  </tbody>\n",
       "</table>\n",
       "</div>"
      ],
      "text/plain": [
       "   time port       value\n",
       "0   0.0  out  (0.0, 1.0)\n",
       "1   3.0  out  (1.0, 1.0)\n",
       "2   6.0  out  (2.0, 1.0)\n",
       "3  10.0  out  (3.0, 0.0)\n",
       "4  17.0  out  (4.0, 1.0)"
      ]
     },
     "execution_count": 82,
     "metadata": {},
     "output_type": "execute_result"
    }
   ],
   "source": [
    "import numpy as np\n",
    "import pandas as pd\n",
    "import matplotlib.pyplot as plt\n",
    "\n",
    "# definimos los path a los archivos de interés\n",
    "OUT_FILENAME = str(CDPP_EXAMPLES)+\"/TP1-CentroAtencion/test_generador2.out\"\n",
    "\n",
    "# definimos los nombres de las columnas en los dataframes de pandas\n",
    "TIME_COL = 'time'\n",
    "PORT_COL = 'port'\n",
    "VALUE_COL = 'value'\n",
    "MESSAGE_TYPE_COL = 'message_type'\n",
    "MODEL_ORIGIN_COL = 'model_origin'\n",
    "MODEL_DEST_COL = 'model_dest'\n",
    "\n",
    "# parsea cada fila del dataframe\n",
    "def parse_value(value: str):\n",
    "    is_list = value.strip().startswith(\"[\") and value.strip().endswith(\"]\")\n",
    "    if is_list:\n",
    "        return tuple(float(num) for num in value.replace('[', '').replace(']', '').split(', '))\n",
    "    return float(value)\n",
    "\n",
    "# conversion VTime a float\n",
    "def time_to_secs(time):\n",
    "    h, m, s, ms, r = time.split(':')\n",
    "    return float(h)*60*60. + float(m)*60. + float(s) + float(ms)/1000. + float(r)/1000.\n",
    "\n",
    "df_converters = {\n",
    "    VALUE_COL: parse_value,\n",
    "    TIME_COL: time_to_secs\n",
    "}\n",
    "\n",
    "salida = pd.read_csv(OUT_FILENAME,\n",
    "                     delimiter=r'(?<!,)\\s+',\n",
    "                     engine='python',  # C engine doesnt work for regex\n",
    "                     converters=df_converters,\n",
    "                     names=[TIME_COL, PORT_COL, VALUE_COL]\n",
    "                    )\n",
    "\n",
    "# veamos cómo luce el dataframe con los datos de salida\n",
    "salida.head() # filtro por índice"
   ]
  },
  {
   "cell_type": "code",
   "execution_count": 87,
   "id": "701429bc-20c7-49ac-b059-b231b318b439",
   "metadata": {},
   "outputs": [
    {
     "data": {
      "image/png": "[encoded data removed]",
      "text/plain": [
       "<Figure size 720x360 with 1 Axes>"
      ]
     },
     "metadata": {
      "needs_background": "light"
     },
     "output_type": "display_data"
    }
   ],
   "source": [
    "import scipy.stats as sps\n",
    "\n",
    "# tiempo entre eventos de salida\n",
    "x_values = np.diff(salida[TIME_COL])\n",
    "\n",
    "plt.figure(figsize=(10,5))\n",
    "\n",
    "# histograma de los eventos de salida\n",
    "n, bins, patches = plt.hist(x_values, 50, density=True, facecolor='g', alpha=0.75,label='estimada')\n",
    "\n",
    "# probability mass function\n",
    "_mu=5\n",
    "e = sps.poisson.pmf(bins.astype(int), _mu,loc=0)\n",
    "plt.plot(bins,e,'r',linewidth=2,label='teorica')\n",
    "\n",
    "plt.xlabel('Tiempo eventos')\n",
    "plt.ylabel('Frecuencia')\n",
    "plt.title('Histograma del tiempo entre eventos de salida')\n",
    "plt.grid(True)\n",
    "plt.legend();"
   ]
  },
  {
   "cell_type": "markdown",
   "id": "dfed537a-e6c3-4752-8e0e-a5b161863594",
   "metadata": {},
   "source": [
    "## Experimentos"
   ]
  },
  {
   "cell_type": "markdown",
   "id": "91996483-e772-4974-9eca-128221f07578",
   "metadata": {},
   "source": [
    "Corremos la simulacion con la disposición estandar"
   ]
  },
  {
   "cell_type": "code",
   "execution_count": 53,
   "id": "768c1819-f6ed-4941-8435-ade56f1eb60b",
   "metadata": {},
   "outputs": [
    {
     "name": "stdout",
     "output_type": "stream",
     "text": [
      "PCD++: A Tool to Implement n-Dimensional Cell-DEVS models\n",
      "Version 3.0 - March 2003\n",
      "Troccoli A., Rodriguez D., Wainer G., Barylko A., Beyoglonian J., Lopez A.\n",
      "-----------------------------------------------------------------------------\n",
      "PCD++ Extended States: An extended and improved version of CD++ for Cell-DEVS\n",
      "Version 4.1.2 - December 2018\n",
      "Santi L., Castro, R., Pimás, J.\n",
      "-----------------------------------------------------------------------------\n",
      "Discrete Event Simulation Lab\n",
      "Departamento de Computación\n",
      "Facultad de Ciencias Exactas y Naturales\n",
      "Universidad de Buenos Aires, Argentina\n",
      "-----------------------------------------------------------------------------\n",
      "Compiled for standalone simulation\n",
      "\n",
      "\n",
      "Loading models from ../model/centro_atencion.ma\n",
      "Loading events from ../model/centro_atencion.ev\n",
      "Running parallel simulation. Reading models partition from \n",
      "Model partition details output to: /dev/null*\n",
      "Message log: ../centro_atencion.log\n",
      "Output to: ../centro_atencion.out\n",
      "Tolerance set to: 1e-08\n",
      "Configuration to show real numbers: Width = 12 - Precision = 5\n",
      "Quantum: Not used\n",
      "Evaluate Debug Mode = OFF\n",
      "Flat Cell Debug Mode = OFF\n",
      "Debug Cell Rules Mode = OFF\n",
      "Temporary File created by Preprocessor = /tmp/fileJVoGlw\n",
      "Printing parser information = OFF\n",
      "\n",
      "Stop at time: Infinity.\n",
      "Aborting simulation...\n"
     ]
    },
    {
     "name": "stderr",
     "output_type": "stream",
     "text": [
      "Exception MException thrown!\n",
      "Description: Data not found!!!\n",
      "R(etry), I(gnore), P(anic)?\n",
      "Thrown in: \n",
      "\tFile: ini.cpp - Method: definition - Line: 55\n",
      "\tFile: GeneradorLlamadas.cpp - Method: GeneradorLlamadas - Line: 68\n",
      "Description: \n",
      "\tgenerador/distribution Not Found!\n"
     ]
    }
   ],
   "source": [
    "%%bash -s \"$CDPP_EXAMPLES\"\n",
    "\n",
    "cd $1/TP1-CentroAtencion/src/\n",
    "\n",
    "bin/cd++ -m ../model/centro_atencion.ma  \\\n",
    "         -e ../model/centro_atencion.ev  \\\n",
    "         -l ../centro_atencion.log \\\n",
    "         -o ../centro_atencion.out"
   ]
  },
  {
   "cell_type": "code",
   "execution_count": null,
   "id": "2ce77591-cf2c-4c90-903f-ec59f69348ed",
   "metadata": {},
   "outputs": [],
   "source": []
  }
 ],
 "metadata": {
  "kernelspec": {
   "display_name": "Python 3",
   "language": "python",
   "name": "python3"
  },
  "language_info": {
   "codemirror_mode": {
    "name": "ipython",
    "version": 3
   },
   "file_extension": ".py",
   "mimetype": "text/x-python",
   "name": "python",
   "nbconvert_exporter": "python",
   "pygments_lexer": "ipython3",
   "version": "3.7.10"
  }
 },
 "nbformat": 4,
 "nbformat_minor": 5
}
