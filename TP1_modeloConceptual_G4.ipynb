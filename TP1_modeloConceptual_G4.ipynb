{
 "cells": [
  {
   "cell_type": "markdown",
   "id": "f4791d75-e264-4861-84b8-7533dde720fe",
   "metadata": {
    "slideshow": {
     "slide_type": "slide"
    },
    "tags": []
   },
   "source": [
    "  \n",
    "# Trabajo Práctico 1\n",
    "\n",
    "## Simulación de Eventos Discretos\n",
    "\n",
    "#### Departamento de Computación - Facultad de Ciencias Exactas y Naturales - Universidad de Buenos Aires\n",
    "\n",
    "20 de Septiembre de 2021\n",
    "\n",
    "**Grupo 04:** Confalonieri, Gisela - Lucero, Emiliano\n",
    "    \n",
    "\n",
    "----"
   ]
  },
  {
   "cell_type": "markdown",
   "id": "aa288c24-2938-4673-92ac-e927530afd6f",
   "metadata": {
    "slideshow": {
     "slide_type": "slide"
    },
    "tags": []
   },
   "source": [
    "# Modelo conceptual\n",
    "\n",
    "En el presente trabajo modelaremos un **sistema de evaluación de un centro de atención telefónica de una entidad bancaria**. \n",
    "\n",
    "Una **simplificación** de este tipo de sistemas podría ser la siguiente:\n",
    "\n",
    "* Una persona llama a la central telefónica de la entidad bancaria.\n",
    "* Una contestadora automática solicita datos a la persona para derivarla al área correspondiente a su solicitud.\n",
    "* El llamado es colocado en espera para ser atendido por un agente del área correspondiente.\n",
    "* El agente atiende la llamada y resuelve la solicitud.\n",
    "* Durante el recorrido de la llamada a través del sistema, se recopilan datos que serán utilizados en la generación de métricas de calidad de servicio.\n",
    "\n",
    "El objetivo de nuestro modelo es **comparar posibles configuraciones en cuanto a la disposición de los agentes en cada una de las áreas de atención, para evaluar los cambios de performance (tiempo de demora en resolver una solicitud) según las métricas obtenidas**. Las posteriores simulaciones permitirían **analizar distintos escenarios en los que se observen mejoras en el servicio.**"
   ]
  },
  {
   "cell_type": "markdown",
   "id": "0f7e79a6-8199-4fd7-926a-58c947cb31d1",
   "metadata": {
    "slideshow": {
     "slide_type": "slide"
    },
    "tags": []
   },
   "source": [
    "## Estructura del modelo\n",
    "\n",
    "Nuestro modelo comprenderá:\n",
    "\n",
    "* Un **generador de las llamadas** que ingresan al centro de atención\n",
    "* Una **mesa de entrada** que redirigirá las llamadas al área correspondiente\n",
    "* Dos **áreas de atención específicas**, una para clientes y otra para no clientes\n",
    "* Un **medidor de métricas de calidad**\n",
    "\n",
    "Por lo tanto, un primer bosquejo de la estructura de nuestro modelo comprende los siguientes componentes:"
   ]
  },
  {
   "cell_type": "markdown",
   "id": "4c6741fa-be85-4758-8047-acdc0b743fe8",
   "metadata": {
    "slideshow": {
     "slide_type": "subslide"
    },
    "tags": []
   },
   "source": [
    "*Esquema general del modelo*\n",
    "\n",
    "![esquema general](https://raw.githubusercontent.com/giselabelen/SED2021/master/imgs/SED2021-TP1-General.png)"
   ]
  },
  {
   "cell_type": "markdown",
   "id": "c9642a3e-9604-499e-924f-266924adf348",
   "metadata": {
    "slideshow": {
     "slide_type": "slide"
    },
    "tags": []
   },
   "source": [
    "### Generador de llamadas\n",
    "\n",
    "* Representa las llamadas que recibe el centro de atención.\n",
    "* Su único input corresponde a un evento que indica cuándo dejar de generar llamados.\n",
    "* Periódicamente genera llamadas según alguna distribución.\n",
    "* Cada llamada generada corresponde a un cliente o a una persona que aún no es cliente."
   ]
  },
  {
   "cell_type": "markdown",
   "id": "629fbb64-f8d8-466d-a2d2-ab47b838bbd8",
   "metadata": {
    "slideshow": {
     "slide_type": "subslide"
    },
    "tags": []
   },
   "source": [
    "*Esquema del generador de llamadas*\n",
    "  \n",
    "![esquema general](https://raw.githubusercontent.com/giselabelen/SED2021/master/imgs/SED2021-TP1-Generador.png)"
   ]
  },
  {
   "cell_type": "markdown",
   "id": "f9e3b2a2-891a-41e8-bab4-bae27488a9b1",
   "metadata": {},
   "source": [
    "#### **Especificación formal**\n",
    "\n",
    "$ generadorDeLlamadas = <X,Y,S,\\delta_{int},\\delta_{ext},\\lambda,ta> $\n",
    "\n",
    "$X = \\{parar\\}$\n",
    "\n",
    "$Y = \\{llamada\\}$\n",
    "\n",
    "$S = \\{G\\}$\n",
    "\n",
    "$\\delta_{int}(G) = G$\n",
    "\n",
    "$\\delta_{ext}(G,e,parar) =$ ```passivate```\n",
    "\n",
    "$\\lambda(s) =$ \n",
    "```c++\n",
    "id <- número entero identificatorio //único para cada llamada generada en una simulación\n",
    "es_cliente <- booleano aleatorio //true si es llamada de cliente, false para no cliente\n",
    "enviar como output la tupla [id,es_cliente]\n",
    "```\n",
    "\n",
    "$ta(G) = $ frecuencia_generacion"
   ]
  },
  {
   "cell_type": "markdown",
   "id": "24eb3427-8b42-4516-b915-fd039cab825f",
   "metadata": {
    "slideshow": {
     "slide_type": "slide"
    },
    "tags": []
   },
   "source": [
    "### Mesa de entrada\n",
    "\n",
    "* Recibe las llamadas como input, y las redirige al área correspondiente.\n",
    "  * Las llamadas ingresan a una cola de espera.\n",
    "  * Un subcomponente va desencolando las llamadas y enviándolas al área correspondiente."
   ]
  },
  {
   "cell_type": "markdown",
   "id": "09fee31a-cdbb-4e34-b543-2da713eec9c3",
   "metadata": {
    "slideshow": {
     "slide_type": "subslide"
    },
    "tags": []
   },
   "source": [
    "*Esquema de la mesa de entrada*\n",
    "  \n",
    "![esquema general](https://raw.githubusercontent.com/giselabelen/SED2021/master/imgs/SED2021-TP1-mesa_de_entrada.png)"
   ]
  },
  {
   "cell_type": "markdown",
   "id": "a935c4b8-207e-4a47-8a47-6adb9847c546",
   "metadata": {},
   "source": [
    "#### Especificación\n",
    "##### **Distribuidor llamadas**\n",
    "\n",
    "$ Distribuidor Llamadas = <X,Y,S,\\delta_{int},\\delta_{ext},\\lambda,ta> $\n",
    "\n",
    "$X = \\{entrante\\}$\n",
    "\n",
    "$Y = \\{descolar, clientes, noClientes\\}$\n",
    "\n",
    "$S = \\{requesting, waiting, sending\\}$\n",
    "\n",
    "$\\delta_{int}(requesting) = waiting$\n",
    "\n",
    "$\\delta_{int}(sending) = requesting$\n",
    "\n",
    "$\\delta_{ext}(waiting, e, entrante) = sending$\n",
    "\n",
    "$\\delta_{ext}(s, e, x) =$ \n",
    "\n",
    "```\n",
    " if waiting {\n",
    "      Preparo para enviarle una llamada a un área\n",
    " }\n",
    " else {\n",
    "     // No puedo recibir si no pedi antes\n",
    "     error\n",
    " }\n",
    "\n",
    "```\n",
    "\n",
    "$\\lambda(s) =$ \n",
    "```\n",
    "case s:\n",
    "     requesting:\n",
    "         Send 1 to descolar\n",
    "     Waiting:\n",
    "         // No hacer nada, sigo esperando a la cola\n",
    "     sending:\n",
    "         // Recibi una llamada de la cola\n",
    "         send llamada to área correspondiente\n",
    "     otherwise:\n",
    "         error\n",
    "         \n",
    "```\n",
    "\n",
    "$ta(waiting) =$ Infinity\n",
    "\n",
    "$ta(requesting) =$ 0\n",
    "\n",
    "$ta(sending) =$ delay"
   ]
  },
  {
   "cell_type": "markdown",
   "id": "d5238c0d-4c00-4504-9774-248e7e619f27",
   "metadata": {
    "slideshow": {
     "slide_type": "slide"
    },
    "tags": []
   },
   "source": [
    "### Áreas de atención específica\n",
    "\n",
    "* Cada una de las áreas recibe como input las llamadas que llegan desde la mesa de entrada.\n",
    "* Estas llamadas ingresan a una cola de espera.\n",
    "* Un distrbuidor va desencolando las llamadas y asignándolas a los agentes que se encuentren disponibles.\n",
    "* Cada agente atiende una llamada y resuelve la solicitud. \n",
    "* Cada área comunica, a través de sus outputs, el momento en que cada llamada es atendida por un agente y el momento en que cada agente resuelve la solicitud de una llamada y la misma finaliza."
   ]
  },
  {
   "cell_type": "markdown",
   "id": "ba61c647-880b-487b-b5d3-35aae2e57f67",
   "metadata": {
    "slideshow": {
     "slide_type": "subslide"
    },
    "tags": []
   },
   "source": [
    "*Esquema de las áreas de atención específica*\n",
    "  \n",
    "![esquema general](https://raw.githubusercontent.com/giselabelen/SED2021/master/imgs/SED2021-TP1-areas_especificas.png)"
   ]
  },
  {
   "cell_type": "markdown",
   "id": "7eed34c2-f9de-4026-a709-ff36b8724eee",
   "metadata": {},
   "source": [
    "#### Especificación\n",
    "##### **Distribuidor agentes**\n",
    "\n",
    "$ Distribuidor Agentes = <X,Y,S,\\delta_{int},\\delta_{ext},\\lambda,ta> $\n",
    "\n",
    "$X = \\{peticion, entrante\\}$\n",
    "\n",
    "$Y = \\{descolar, agente1, agente2\\}$\n",
    "\n",
    "$S = \\{idle, requesting, waiting, sending\\}$\n",
    "\n",
    "$\\delta_{int}(idle) = idle$\n",
    "\n",
    "$\\delta_{int}(idle) =$\n",
    "```\n",
    "if no hay pedidos encolador {\n",
    "     passivate\n",
    " } else {\n",
    "     paso al estado requesting\n",
    "     ta = 0\\}$\n",
    " }\n",
    "```\n",
    "\n",
    "$\\delta_{int}(requesting) = waiting$\n",
    "\n",
    "$\\delta_{int}(sending) = idle$\n",
    "\n",
    "$\\delta_{ext}(idle, e, peticion) = requesting$\n",
    "\n",
    "$\\delta_{ext}(waiting, e, entrante) = sending$\n",
    "\n",
    "$\\delta_{ext}(s, e, x) =$ \n",
    "\n",
    "```\n",
    "case port:\n",
    "     peticion:\n",
    "         Encolo pedido de llamada para el agente i\n",
    "         if idle {\n",
    "            // Empiezo a realizar pedidos\n",
    "         } \n",
    "         else {\n",
    "            // Ya estoy realizando pedidos, no hago nada\n",
    "            Encolo el pedido\n",
    "            Mantengo estado y ta\n",
    "         }\n",
    "     entrante:\n",
    "         if waiting {\n",
    "              Preparo para enviarle una llamada a un agente i\n",
    "              Desecolo pedido del agente i ya que llego la llamada\n",
    "         }\n",
    "         else {\n",
    "             // No puedo recibir si no pedi antes\n",
    "             error\n",
    "         }\n",
    "\n",
    "```\n",
    "\n",
    "$\\lambda(s) =$ \n",
    "```\n",
    "case s:\n",
    "     idle:\n",
    "         // No hacer nada\n",
    "         \n",
    "     requesting:\n",
    "         send 1 to descolar\n",
    "     waiting:\n",
    "         // No hacer nada, sigo esperando a la cola\n",
    "     sending:\n",
    "         // Recibi una llamada de la cola\n",
    "         send llamada to agente i\n",
    "     otherwise:\n",
    "         error\n",
    "         \n",
    "```\n",
    "\n",
    "$ta(passive) =$ Infinity\n",
    "\n",
    "$ta(active) =$ frecuenciaDistribuidor\n",
    "\n",
    "##### **Agente**\n",
    "\n",
    "$ Agente = <X,Y,S,\\delta_{int},\\delta_{ext},\\lambda,ta> $\n",
    "\n",
    "$X = \\{entrante\\}$\n",
    "\n",
    "$Y = \\{pedido, finalizada\\}$\n",
    "\n",
    "$S = \\{atendiendo, pidiendo\\}$\n",
    "\n",
    "$\\delta_{int}(atendiendo) = pidiendo$\n",
    "\n",
    "$\\delta_{ext}(pidiendo, e, entrante) = atendiendo$\n",
    "\n",
    "$\\delta_{ext}(s, e, x) =$ \n",
    "\n",
    "```\n",
    "// No puede pasar que me llegue una llamada mientras atiendo otra\n",
    "if atendiendo {\n",
    "   error\n",
    "}\n",
    "\n",
    "// Estaba libre, atiendo\n",
    "if pidiendo {\n",
    "   frecuenciaAgente = valor aleatorio dado por la distribución elegida\n",
    "}\n",
    "```\n",
    "\n",
    "$\\lambda(active) =$ \n",
    "```\n",
    "// Estaba atendiendo y ya transcurrió ta, por lo que terminé de atender la llamada\n",
    "// La libero y aviso que estoy libre, pidiendo que me pasen otra llamada\n",
    "send idAgente to pedido\n",
    "if termine llamada {\n",
    "     send llamada to finalizada\n",
    "}\n",
    "```\n",
    "\n",
    "$ta(pidiendo) =$ Infinity\n",
    "\n",
    "$ta(atendiendo) =$ frecuenciaAgente"
   ]
  },
  {
   "cell_type": "markdown",
   "id": "5ec755ec-729b-42ce-97f6-50237d748371",
   "metadata": {
    "slideshow": {
     "slide_type": "slide"
    },
    "tags": []
   },
   "source": [
    "### Medidor de métricas\n",
    "\n",
    "* Comprende diversos subcomponentes que evaluarán distintas métricas de calidad cada uno, a partir de los datos recibidos a lo largo del recorrido de la llamada por el centro de atención telefónica, a saber:\n",
    "  * Momento en que arriba una llamada al servicio\n",
    "  * Momento en que la llamada es atendida por un agente\n",
    "  * Momento en que la solicitud es resuelta por un agente\n",
    "* Nuestro primer bosquejo comprende las siguientes métricas:\n",
    "  * Tiempo promedio que una llamada está aguardando ser atendida (es decir, desde que llega hasta que es atendida por un agente)\n",
    "  * Tiempo máximo que una llamada estuvo aguardando ser atendida (es decir, desde que llega hasta que es atendida por un agente)\n",
    "  * Tiempo promedio que una llamada consume dentro del centro de atención (es decir, desde que llega hasta que su solicitud se resuelve)\n",
    "  * Tiempo máximo que una llamada consumió dentro del centro de atención (es decir, desde que llega hasta que su solicitud se resuelve)"
   ]
  },
  {
   "cell_type": "markdown",
   "id": "d23d13ce-135f-4671-8211-c41ae06c3135",
   "metadata": {
    "slideshow": {
     "slide_type": "subslide"
    },
    "tags": []
   },
   "source": [
    "*Esquema de los medidores de métricas*\n",
    "  \n",
    "![esquema general](https://raw.githubusercontent.com/giselabelen/SED2021/master/imgs/SED2021-TP1-Medidor.png)"
   ]
  },
  {
   "cell_type": "markdown",
   "id": "08484030-99ad-4f0b-9e09-59bc810c7682",
   "metadata": {},
   "source": [
    "#### Especificación\n",
    "\n",
    "$ Medidor = <X,Y,S,\\delta_{int},\\delta_{ext},\\lambda,ta> $\n",
    "\n",
    "$X = \\{entrante, atendida, finalizada\\}$\n",
    "\n",
    "$Y = \\{mediciones\\}$\n",
    "\n",
    "$S = \\{midiendo\\}$\n",
    "\n",
    "$\\delta_{int}(midiendo) = midiendo$\n",
    "\n",
    "$\\delta_{ext}(midiendo, e, entrante) = midiendo$\n",
    "\n",
    "$\\delta_{ext}(midiendo, e, atendida) = midiendo$\n",
    "\n",
    "$\\delta_{ext}(midiendo, e, finalizada) = midiendo$\n",
    "\n",
    "$\\delta_{ext}(s, e, x) =$ \n",
    "\n",
    "```\n",
    "case port:\n",
    "     entrante:\n",
    "         Guardamos el timestamp de entrada segun el id de la llamada\n",
    "         Sumamos 1 al contador de llamadas totales\n",
    "     atendida:\n",
    "         Guardamos el timestamp de atencion segun el id de la llamada\n",
    "         Sumamos 1 al contador de llamadas atendidas\n",
    "         Calculamos promedio y máximo de tiempos de llamadas atendidas (PAtendidas y MaxAtendidas)\n",
    "     finalizada:\n",
    "         Guardamos el timestamp de finalizacion segun el id de la llamada\n",
    "         Sumamos 1 al contador de llamadas finalizadas\n",
    "         Calculamos promedio y máximo de tiempos de llamadas finalizadas (PFinalizadas y MaxFinalizadas)\n",
    "     otherwise:\n",
    "         Error\n",
    "```\n",
    "\n",
    "$\\lambda(midiendo) =$ \n",
    "```\n",
    "m = <#Total, #atendidas, #finalizadas, PAtendidas, MaxAtendidas, PFinalizadas, MaxFinalizadas>\n",
    "Send m to mediciones\n",
    "\n",
    "```\n",
    "\n",
    "$ta(midiendo) =$ frecuencia_reporte"
   ]
  },
  {
   "cell_type": "code",
   "execution_count": null,
   "id": "69b9670d-ecff-4c41-8363-832f81abbc42",
   "metadata": {},
   "outputs": [],
   "source": []
  }
 ],
 "metadata": {
  "kernelspec": {
   "display_name": "Python 3 (ipykernel)",
   "language": "python",
   "name": "python3"
  },
  "language_info": {
   "codemirror_mode": {
    "name": "ipython",
    "version": 3
   },
   "file_extension": ".py",
   "mimetype": "text/x-python",
   "name": "python",
   "nbconvert_exporter": "python",
   "pygments_lexer": "ipython3",
   "version": "3.9.5"
  }
 },
 "nbformat": 4,
 "nbformat_minor": 5
}
