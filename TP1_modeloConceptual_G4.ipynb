{
 "cells": [
  {
   "cell_type": "markdown",
   "id": "f4791d75-e264-4861-84b8-7533dde720fe",
   "metadata": {
    "slideshow": {
     "slide_type": "slide"
    },
    "tags": []
   },
   "source": [
    "  \n",
    "# Trabajo Práctico 1\n",
    "\n",
    "## Simulación de Eventos Discretos\n",
    "\n",
    "#### Departamento de Computación - Facultad de Ciencias Exactas y Naturales - Universidad de Buenos Aires\n",
    "\n",
    "20 de Septiembre de 2021\n",
    "\n",
    "**Grupo 04:** Confalonieri, Gisela - Lucero, Emiliano\n",
    "    \n",
    "\n",
    "----"
   ]
  },
  {
   "cell_type": "markdown",
   "id": "aa288c24-2938-4673-92ac-e927530afd6f",
   "metadata": {
    "slideshow": {
     "slide_type": "slide"
    },
    "tags": []
   },
   "source": [
    "# Modelo conceptual\n",
    "\n",
    "En el presente trabajo modelaremos un **sistema de evaluación de un centro de atención telefónica de una entidad bancaria**. \n",
    "\n",
    "Una **simplificación** de este tipo de sistemas podría ser la siguiente:\n",
    "\n",
    "* Una persona llama a la central telefónica de la entidad bancaria.\n",
    "* Una contestadora automática solicita datos a la persona para derivarla al área correspondiente a su solicitud.\n",
    "* El llamado es colocado en espera para ser atendido por un agente del área correspondiente.\n",
    "* El agente atiende la llamada y resuelve la solicitud.\n",
    "* Durante el recorrido de la llamada a través del sistema, se recopilan datos que serán utilizados en la generación de métricas de calidad de servicio.\n",
    "\n",
    "El objetivo de nuestro modelo es **comparar posibles configuraciones en cuanto a la disposición de los agentes en cada una de las áreas de atención, para evaluar los cambios de performance (tiempo de demora en resolver una solicitud) según las métricas obtenidas**. Las posteriores simulaciones permitirían **analizar distintos escenarios en los que se observen mejoras en el servicio.**"
   ]
  },
  {
   "cell_type": "markdown",
   "id": "0f7e79a6-8199-4fd7-926a-58c947cb31d1",
   "metadata": {
    "slideshow": {
     "slide_type": "slide"
    },
    "tags": []
   },
   "source": [
    "## Estructura del modelo\n",
    "\n",
    "Nuestro modelo comprenderá:\n",
    "\n",
    "* Un **generador de las llamadas** que ingresan al centro de atención\n",
    "* Una **mesa de entrada** que redirigirá las llamadas al área correspondiente\n",
    "* Dos **áreas de atención específicas**, una para clientes y otra para no clientes\n",
    "* Un **medidor de métricas de calidad**\n",
    "\n",
    "Por lo tanto, un primer bosquejo de la estructura de nuestro modelo comprende los siguientes componentes:"
   ]
  },
  {
   "cell_type": "markdown",
   "id": "4c6741fa-be85-4758-8047-acdc0b743fe8",
   "metadata": {
    "slideshow": {
     "slide_type": "subslide"
    },
    "tags": []
   },
   "source": [
    "### **Esquema conceptual general del modelo**\n",
    "\n",
    "![esquema general](https://raw.githubusercontent.com/giselabelen/SED2021/master/imgs/SED2021-TP1-General.png)"
   ]
  },
  {
   "cell_type": "markdown",
   "id": "cf8a409e-6e68-436c-a669-f1ad66f150f6",
   "metadata": {},
   "source": [
    "A continuación presentaremos cada componente del sistema, con una descripción breve, un esquema conceptual, y su especificación formal DEVS."
   ]
  },
  {
   "cell_type": "markdown",
   "id": "c9642a3e-9604-499e-924f-266924adf348",
   "metadata": {
    "slideshow": {
     "slide_type": "slide"
    },
    "tags": []
   },
   "source": [
    "### Generador de llamadas\n",
    "\n",
    "* Representa las llamadas que recibe el centro de atención.\n",
    "* Su único input corresponde a un evento que indica cuándo dejar de generar llamados.\n",
    "* Periódicamente genera llamadas según alguna distribución.\n",
    "* Cada llamada generada corresponde a un cliente o a una persona que aún no es cliente."
   ]
  },
  {
   "cell_type": "markdown",
   "id": "629fbb64-f8d8-466d-a2d2-ab47b838bbd8",
   "metadata": {
    "slideshow": {
     "slide_type": "subslide"
    },
    "tags": []
   },
   "source": [
    "#### **Esquema conceptual del generador de llamadas**\n",
    "  \n",
    "![esquema generador](https://raw.githubusercontent.com/giselabelen/SED2021/master/imgs/SED2021-TP1-Generador.png)"
   ]
  },
  {
   "cell_type": "markdown",
   "id": "f9e3b2a2-891a-41e8-bab4-bae27488a9b1",
   "metadata": {},
   "source": [
    "#### **Especificación formal del generador de llamadas**\n",
    "\n",
    "$ generadorDeLlamadas = <X,Y,S,\\delta_{int},\\delta_{ext},\\lambda,ta> $\n",
    "\n",
    "$X = \\{parar\\}$\n",
    "\n",
    "$Y = \\{llamada\\}$\n",
    "\n",
    "$S = \\{generando,parado\\}$\n",
    "\n",
    "$\\delta_{int}(generando) = generando$\n",
    "\n",
    "$\\delta_{ext}(generando,e,parar) = parado$\n",
    "\n",
    "$\\lambda(generando) =$ \n",
    "```c++\n",
    "id <- número entero identificatorio //único para cada llamada generada en una simulación\n",
    "es_cliente <- booleano aleatorio //true si es llamada de cliente, false para no cliente\n",
    "enviar como output la tupla <id,es_cliente> //esta tupla representa la llamada\n",
    "```\n",
    "\n",
    "$ta(generando) = $ ```valor aleatorio según distirbuciónLlamada```\n",
    "\n",
    "$ta(parado) = inf$"
   ]
  },
  {
   "cell_type": "markdown",
   "id": "ec650196-c1f9-48e2-998b-c6731f7aee97",
   "metadata": {},
   "source": [
    "#### **Representación de estados y transiciones del generador de llamadas**\n",
    "  \n",
    "![estados_generador](./imgs/generador_estados.png)"
   ]
  },
  {
   "cell_type": "markdown",
   "id": "24eb3427-8b42-4516-b915-fd039cab825f",
   "metadata": {
    "slideshow": {
     "slide_type": "slide"
    },
    "tags": []
   },
   "source": [
    "### Mesa de entrada\n",
    "\n",
    "* Recibe las llamadas como input, y las redirige al área correspondiente.\n",
    "  * Las llamadas ingresan a una cola de espera.\n",
    "  * Un subcomponente va desencolando las llamadas y enviándolas al área correspondiente."
   ]
  },
  {
   "cell_type": "markdown",
   "id": "09fee31a-cdbb-4e34-b543-2da713eec9c3",
   "metadata": {
    "slideshow": {
     "slide_type": "subslide"
    },
    "tags": []
   },
   "source": [
    "#### **Esquema conceptual de la mesa de entrada**\n",
    "  \n",
    "![esquema mesa](https://raw.githubusercontent.com/giselabelen/SED2021/master/imgs/SED2021-TP1-mesa_de_entrada.png)"
   ]
  },
  {
   "cell_type": "markdown",
   "id": "948f6238-25fc-4dfe-8372-ecab4fb1fd83",
   "metadata": {},
   "source": [
    "#### **Especificación formal de la mesa de entrada y sus subcomponentes**"
   ]
  },
  {
   "cell_type": "markdown",
   "id": "7b96a91a-17f1-4a48-8de2-5542bd3d9462",
   "metadata": {},
   "source": [
    "##### **Cola**\n",
    "\n",
    "$Cola = <X,Y,S,\\delta_{int},\\delta_{ext},\\lambda,ta>$\n",
    "\n",
    "$X = \\{entrada, liberar\\}$\n",
    "\n",
    "$Y = \\{salida\\}$\n",
    "\n",
    "$S = \\{estado \\in \\{encolando,vacia,liberando\\},llamadasEncoladas,sigEstado,hayPedido\\}$\n",
    "\n",
    "$\\delta_{int}((liberando,llE,0,hayP)) = (vacia,llE,0,hayP)$\n",
    "\n",
    "$\\delta_{int}((liberando,llE,1,hayP)) = (encolando,llE,1,hayP)$\n",
    "\n",
    "$\\delta_{ext}(s,e,x) =$\n",
    "\n",
    "```c++\n",
    "case port:\n",
    "    entrada:\n",
    "        s.llamadasEncoladas.push(x) //agrego la nueva llamada a la cola\n",
    "        if s.hayPedido // si tengo un pedido esperando le doy esta llamada\n",
    "            pasar a (liberando,s.llamadasEncoladas,s.sigEstado,false)\n",
    "        else // si no me pidieron nada sigo encolando\n",
    "            pasar a (encolando,s.llamadasEncoladas,s.sigEstado,s.hayPedido)\n",
    "    liberar:\n",
    "        if s.estado == encolando\n",
    "            pasar a (liberando,s.llamadasEncoladas,s.sigEstado,s.hayPedido)\n",
    "        if s.estado == vacia //no tengo llamadas asi que anoto para cuando entre una\n",
    "            s.hayPedido <- true\n",
    "```\n",
    "\n",
    "$\\lambda((liberando,llE,sigE,hayP)) =$\n",
    "\n",
    "```c++\n",
    "llam = llE.pop\n",
    "if llE.empty\n",
    "    sigE <- 0 // si es la ultima llamada encolada, luego me voy a vacia\n",
    "else\n",
    "    sigE <- 1 // si todavia hay mas llamadas, luego me voy a encolando\n",
    "enviar llam por salida\n",
    "```\n",
    "\n",
    "$ta(encolando) = inf$\n",
    "\n",
    "$ta(vacia) = inf$\n",
    "\n",
    "$ta(liberando) = 0$\n",
    "\n",
    "#### **Representación de estados y transiciones del generador de llamadas**\n",
    "  \n",
    "![estados_cola](./imgs/Cola.png)"
   ]
  },
  {
   "cell_type": "markdown",
   "id": "a935c4b8-207e-4a47-8a47-6adb9847c546",
   "metadata": {
    "jp-MarkdownHeadingCollapsed": true,
    "tags": []
   },
   "source": [
    "##### **Distribuidor de llamadas**\n",
    "\n",
    "$ Distribuidor Llamadas = <X,Y,S,\\delta_{int},\\delta_{ext},\\lambda,ta> $\n",
    "\n",
    "$X = \\{entrante\\}$\n",
    "\n",
    "$Y = \\{pedirLlamada, clientes, noClientes\\}$\n",
    "\n",
    "$S = \\{pidiendo, esperando, enviando\\}$\n",
    "\n",
    "$\\delta_{int}(pidiendo) = esperando$\n",
    "\n",
    "$\\delta_{int}(enviando) = pidiendo$\n",
    "\n",
    "$\\delta_{ext}(esperando, e, entrante) = enviando$\n",
    "\n",
    "$\\lambda(s) =$ \n",
    "```c++\n",
    "case s:\n",
    "    pidiendo:\n",
    "        enviar 1 por pedirLlamada\n",
    "    enviando:\n",
    "        // Recibi una llamada de la cola\n",
    "        if es llamada de cliente\n",
    "            enviar llamada por clientes\n",
    "        else\n",
    "            enviar llamada por noClientes\n",
    "    otherwise:\n",
    "        error   \n",
    "```\n",
    "\n",
    "$ta(esperando) = inf$\n",
    "\n",
    "$ta(pidiendo) = 0$\n",
    "\n",
    "$ta(enviando) =$ ```valor de retardo aleatorio```\n",
    "\n",
    "**Representación de estados y transiciones del generador de llamadas**\n",
    "  \n",
    "![estados_generador](./imgs/mesadeentrada_estados.png)"
   ]
  },
  {
   "cell_type": "markdown",
   "id": "51790a5b-f8ff-4951-a0ca-59fda3957229",
   "metadata": {},
   "source": [
    "##### **Mesa de entrada**\n",
    "\n",
    "$ Mesa De Entrada = <X,Y, \\{Cola, DistribuidorLlamadas\\},EIC,EOC,IC,Select> $\n",
    "\n",
    "$X = \\{entrante\\}$\n",
    "\n",
    "$Y = \\{llamadaCliente, llamadaNoCliente\\}$\n",
    "\n",
    "$EIC = \\{(MesaDeEntrada.entrante, Cola.entrada)\\}$\n",
    "\n",
    "$EOC$ = $\\{ \n",
    "         (DistribuidorLlamadas.clientes, MesaDeEntrada.llamadaCliente),\\\\\n",
    "         (DistribuidorLlamadas.noClientes, MesaDeEntrada.llamadaNoCliente)\\}$\n",
    "\n",
    "$IC$ = $\\{\n",
    "        (Cola.salida, DistribuidorLlamadas.entrante),\\\\\n",
    "        (DistribuidorLlamadas.pedirLLamada, Cola.liberar)\\}$\n",
    "\n",
    "$Select: (\\{ Cola, DistribuidorLlamadas \\}) = DistribuidorLlamadas$ ```TODO: Ver bien que va aca```"
   ]
  },
  {
   "cell_type": "markdown",
   "id": "d5238c0d-4c00-4504-9774-248e7e619f27",
   "metadata": {
    "slideshow": {
     "slide_type": "slide"
    },
    "tags": []
   },
   "source": [
    " ### Áreas de atención específica\n",
    "\n",
    "* Cada una de las áreas recibe como input las llamadas que llegan desde la mesa de entrada.\n",
    "* Estas llamadas ingresan a una cola de espera.\n",
    "* Un distrbuidor va desencolando las llamadas y asignándolas a los agentes que se encuentren disponibles.\n",
    "* Cada agente atiende una llamada y resuelve la solicitud. \n",
    "* Cada área comunica, a través de sus outputs, el momento en que cada llamada es atendida por un agente y el momento en que cada agente resuelve la solicitud de una llamada y la misma finaliza."
   ]
  },
  {
   "cell_type": "markdown",
   "id": "ba61c647-880b-487b-b5d3-35aae2e57f67",
   "metadata": {
    "slideshow": {
     "slide_type": "subslide"
    },
    "tags": []
   },
   "source": [
    "#### **Esquema conceptual de las áreas de atención específica**\n",
    "  \n",
    "![esquema areas](https://raw.githubusercontent.com/giselabelen/SED2021/master/imgs/SED2021-TP1-areas_especificas.png)"
   ]
  },
  {
   "cell_type": "markdown",
   "id": "d56ae54f-5c0a-40c4-b2b3-63784d02de3e",
   "metadata": {},
   "source": [
    "#### **Especificación formal del área de atención y sus subcomponentes**"
   ]
  },
  {
   "cell_type": "markdown",
   "id": "7eed34c2-f9de-4026-a709-ff36b8724eee",
   "metadata": {},
   "source": [
    "##### **Distribuidor agentes**\n",
    "\n",
    "$ Distribuidor Agentes = <X,Y,S,\\delta_{int},\\delta_{ext},\\lambda,ta> $\n",
    "\n",
    "$X = \\{pedido, entrante\\}$\n",
    "\n",
    "$Y = \\{pedirLlamada, agente1, agente2\\}$\n",
    "\n",
    "$S = \\{estado\\in\\{desocupado, pidiendo, esperando, enviando\\},pedidosEnEspera,luegoDeEnviar\\}$\n",
    "\n",
    "$\\delta_{int}((pidiendo,p,l))= (esperando,p,l)$\n",
    "\n",
    "$\\delta_{int}((enviando,p,0)) = (desocupado,p,0)$\n",
    "\n",
    "$\\delta_{int}((enviando,p,1)) = (pidiendo,p,1)$\n",
    "\n",
    "$\\delta_{ext}(s,e,x) =$\n",
    "\n",
    "```c++\n",
    "case s.estado:\n",
    "    desocupado:\n",
    "        if x == pedido\n",
    "            s.pedidosEnEspera.push(x) //agrego el pedido a los pedidos en espera\n",
    "            pasar a (pidiendo,s.pedidosEnEspera,s.luegoDeEnviar)\n",
    "    esperando:\n",
    "        if x == entrante\n",
    "            pasar a (pidiendo,s.pedidosEnEspera,s.luegoDeEnviar)\n",
    "```\n",
    "\n",
    "$\\lambda(s) =$ \n",
    "\n",
    "```c++\n",
    "case s.estado:\n",
    "    pidiendo:\n",
    "        enviar 1 por pedirLlamada\n",
    "    enviando:\n",
    "        // Recibi una llamada de la cola\n",
    "        desencolar s.pedidosEnEspera\n",
    "        enviar llamada por puerto correspondiente al pedido desencolado\n",
    "        if s.pedidosEnEspera.emtpy //si ya no hay pedidos encolados\n",
    "            luegoDeEnviar = 0 // proximo estado desocupado\n",
    "        else \n",
    "            luegoDeEnviar = 1 // proximo estado pidiendo\n",
    "    otherwise:\n",
    "        error\n",
    "```\n",
    "\n",
    "$ta(desocupado,p,l) = inf$\n",
    "\n",
    "$ta(pidiendo,p,l) = 0$\n",
    "\n",
    "$ta(esperando,p,l) = inf$\n",
    "\n",
    "$ta(enviando,p,l) = 0$\n",
    "\n",
    "**Representación de estados y transiciones del distribuidor a agentes**\n",
    "  \n",
    "![estados_distribuidoragentes](./imgs/distribuidoragentes_estados.png)"
   ]
  },
  {
   "cell_type": "markdown",
   "id": "dea5638b-a5f5-4ca2-a2b1-449839352693",
   "metadata": {},
   "source": [
    "##### **Agente**\n",
    "\n",
    "$ Agente = <X,Y,S,\\delta_{int},\\delta_{ext},\\lambda,ta> $\n",
    "\n",
    "$X = \\{entrante\\}$\n",
    "\n",
    "$Y = \\{pedido, finalizada\\}$\n",
    "\n",
    "$S = \\{estado \\in \\{atendiendo, pidiendo\\}, T, llamada,id\\}$\n",
    "\n",
    "$\\delta_{int}((atendiendo,t,l,i)) = (pidiendo,t,l,i)$\n",
    "\n",
    "$\\delta_{ext}((pidiendo,t,l,id), e, x) =$ \n",
    "\n",
    "``` C++\n",
    "T <- valor aleatorio dado por la distribución elegida\n",
    "pasar a (atendiendo,T,x,id) //x es la llamada entrante\n",
    "```\n",
    "\n",
    "$\\lambda((atendiendo,t,llam,id) =$ \n",
    "\n",
    "``` C++\n",
    "// Estaba atendiendo y ya transcurrió ta, por lo que terminé de atender la llamada\n",
    "// La libero y aviso que estoy libre, pidiendo que me pasen otra llamada\n",
    "enviar llam por finalizada\n",
    "enviar id por pedido\n",
    "```\n",
    "\n",
    "$ta((pidiendo,t,l,i)) = inf $\n",
    "\n",
    "$ta((atendiendo,t,l,i)) = t$\n",
    "\n",
    "\n",
    "**Representación de estados y transiciones del agente**\n",
    "\n",
    "![estados_agente](./imgs/agente_estados.png)"
   ]
  },
  {
   "cell_type": "markdown",
   "id": "2f031ee9-ab73-4ba3-8335-f8796a63abe0",
   "metadata": {},
   "source": [
    "##### **Area de atención**\n",
    "\n",
    "$ AreaAtencion = <X,Y, \\{Cola, DistribuidorAgentes, Agente1, Agente2\\},EIC,EOC,IC,Select> $\n",
    "\n",
    "$X = \\{entrante\\}$\n",
    "\n",
    "$Y = \\{llamadaAtendida, llamadaFinalizada\\}$\n",
    "\n",
    "$EIC = \\{(AreaAtencion.entrante, Cola.entrada)\\}$\n",
    "\n",
    "$EOC$ = $\\{ \n",
    "        (DistribuidorAgentes.agente1, AreaAtencion.llamadaAtendida),\\\\\n",
    "        (DistribuidorAgentes.agente2, AreaAtencion.llamadaAtendida),\\\\\n",
    "        (Agente1.finalizada, AreaAtencion.llamadaFinalizada),\\\\\n",
    "        (Agente2.finalizada, AreaAtencion.llamadaFinalizada)\n",
    "        \\}$\n",
    "\n",
    "$IC$ = $\\{\n",
    "        (Cola.salida, DistribuidorAgentes.entrante),\\\\\n",
    "        (DistribuidorAgentes.pedirLLamada, Cola.liberar),\\\\\n",
    "        (DistribuidorAgentes.agente1, Agente1.entrante),\\\\\n",
    "        (DistribuidorAgentes.agente2, Agente2.entrante),\\\\\n",
    "        (Agente1.pedido, DistribuidorAgentes.pedido),\\\\\n",
    "        (Agente2.pedido, DistribuidorAgentes.pedido)\n",
    "        \\}$\n",
    "\n",
    "$Select: (\\{ Cola, DistribuidorAgentes, Agente1, Agente2 \\}) = DistribuidorLlamadas$ ```TODO: Ver bien que va aca```"
   ]
  },
  {
   "cell_type": "markdown",
   "id": "5ec755ec-729b-42ce-97f6-50237d748371",
   "metadata": {
    "slideshow": {
     "slide_type": "slide"
    },
    "tags": []
   },
   "source": [
    "### Medidor de métricas\n",
    "\n",
    "* Comprende diversos subcomponentes que evaluarán distintas métricas de calidad cada uno, a partir de los datos recibidos a lo largo del recorrido de la llamada por el centro de atención telefónica, a saber:\n",
    "  * Momento en que arriba una llamada al servicio\n",
    "  * Momento en que la llamada es atendida por un agente\n",
    "  * Momento en que la solicitud es resuelta por un agente\n",
    "* Nuestro primer bosquejo comprende las siguientes métricas:\n",
    "  * Tiempo promedio que una llamada está aguardando ser atendida (es decir, desde que llega hasta que es atendida por un agente)\n",
    "  * Tiempo máximo que una llamada estuvo aguardando ser atendida (es decir, desde que llega hasta que es atendida por un agente)\n",
    "  * Tiempo promedio que una llamada consume dentro del centro de atención (es decir, desde que llega hasta que su solicitud se resuelve)\n",
    "  * Tiempo máximo que una llamada consumió dentro del centro de atención (es decir, desde que llega hasta que su solicitud se resuelve)"
   ]
  },
  {
   "cell_type": "markdown",
   "id": "d23d13ce-135f-4671-8211-c41ae06c3135",
   "metadata": {
    "slideshow": {
     "slide_type": "subslide"
    },
    "tags": []
   },
   "source": [
    "#### **Esquema conceptual del medidor**\n",
    "  \n",
    "![esquema medidor](https://raw.githubusercontent.com/giselabelen/SED2021/master/imgs/SED2021-TP1-Medidor.png)"
   ]
  },
  {
   "cell_type": "markdown",
   "id": "08484030-99ad-4f0b-9e09-59bc810c7682",
   "metadata": {},
   "source": [
    "#### **Especificación formal del medidor**\n",
    "\n",
    "$ Medidor = <X,Y,S,\\delta_{int},\\delta_{ext},\\lambda,ta> $\n",
    "\n",
    "$X = \\{entrante, atendida, finalizada\\}$\n",
    "\n",
    "$Y = \\{mediciones\\}$\n",
    "\n",
    "$S = \\{midiendo, frecuencia, entrantesXTiempo, atendidasXTiempo, finalizadasXTiempo\\}$\n",
    "\n",
    "$\\delta_{int}((m,f,eXT,aXT,fXT)) = (m,f,[],[],[])$ ```reseteo las variables cada vez que vence ta```\n",
    "\n",
    "$\\delta_{ext}(s, e, x) =$ \n",
    "\n",
    "``` C++\n",
    "case port:\n",
    "    entrante:\n",
    "        s.entrantesXTiempo[x.id] <- <timestamp, x.esCliente>\n",
    "        pasar a s\n",
    "    atendida:\n",
    "        s.atendidasXTiempo[x.id] <- <timestamp, x.esCliente>\n",
    "        pasar a s\n",
    "    finalizada:\n",
    "        s.finalizadasXTiempo[x.id] <- <timestamp, x.esCliente>\n",
    "        pasar a s\n",
    "    otherwise:\n",
    "        Error\n",
    "```\n",
    "\n",
    "$\\lambda(s) =$ \n",
    "```c++\n",
    "//tiempo promedio y maximo en atender llamada\n",
    "tAtender <- 0\n",
    "maxAtender <- 0\n",
    "para cada id en s.atendidasXTiempo\n",
    "    t <- s.atendidasXTiempo[id][timestamp] - s.entrantesXTiempo[id][timestamp]\n",
    "    tAtender += t\n",
    "    if maxAtender < t\n",
    "        maxAtender <- t\n",
    "promAtender <- tAtender/s.atendidasXTiempo.length\n",
    "\n",
    "//tiempo promedio y maximo en resolver llamada\n",
    "tFin <- 0\n",
    "maxFin <- 0\n",
    "para cada id en s.finalizadasXTiempo\n",
    "    t <- s.finalizadasXTiempo[id][timestamp] - s.entrantesXTiempo[id][timestamp]\n",
    "    tFin += t\n",
    "    if maxFin < t\n",
    "        maxFin <- t\n",
    "promFin <- tFin/s.finalizadasXTiempo.length\n",
    "\n",
    "//armo la tupla para output\n",
    "m = <promAtender,maxAtender,promFin,maxFin>\n",
    "enviar m por mediciones\n",
    "```\n",
    "\n",
    "$ta(s) = s.frecuencia$\n",
    "\n",
    "# TODO ver qué pasa acá con el ta, creo que hay que actualizarlo cada vez que viene un deltaext "
   ]
  },
  {
   "cell_type": "markdown",
   "id": "b90ba549-6840-4413-b319-5469f51a8405",
   "metadata": {},
   "source": [
    "Luego de haber especificado detalladamente cada componente del sistema, presentamos a continuación la especificación DEVS del acoplado final."
   ]
  },
  {
   "cell_type": "markdown",
   "id": "e72fbc32-ae35-425c-b246-4df6bb8a8b7e",
   "metadata": {},
   "source": [
    "#### **Especificación formal del centro de atención telefónica**\n",
    "\n",
    "$ CentroAtencion$ = $<X,Y, \\{GeneradorLlamadas, MesaDeEntrada, AreaClientes, AreaNoClientes, Medidor\\},EIC,EOC,IC,Select>$\n",
    "\n",
    "$X = \\{parar\\}$\n",
    "\n",
    "$Y = \\{metricas\\}$\n",
    "\n",
    "$EIC = \\{ (CentroAtencion.parar, GeneradorLlamadas.parar) \\}$\n",
    "\n",
    "$EOC$ = $\\{ (Medidor.medicion, CentroAtencion.metricas)\\}$\n",
    "\n",
    "$IC$ = $\\{\n",
    "        (GeneradorLLamadas.llamada, MesaDeEntrada.entrante),\\\\\n",
    "        (GeneradorLLamadas.llamada, Medidor.entrante),\\\\\n",
    "        (MesaDeEntrada.clientes, AreaClientes.entrante),\\\\\n",
    "        (MesaDeEntrada.noClientes, AreaNoClientes.entrante),\\\\\n",
    "        (AreaClientes.atendida, Medidor.atendida),\\\\\n",
    "        (AreaClientes.finalizada, Medidor.finalizada),\\\\\n",
    "        (AreaNoClientes.atendida, Medidor.atendida),\\\\\n",
    "        (AreaNoClientes.finalizada, Medidor.finalizada),\\\\\n",
    "        \\}$\n",
    "\n",
    "$Select: (\\{ GeneradorLlamadas, MesaDeEntrada, AreaClientes, AreaNoClientes, Medidor \\}) = Medidor$ ```TODO: Ver bien que va aca```"
   ]
  },
  {
   "cell_type": "markdown",
   "id": "f95459e9-f7d6-4d66-a980-3c82c8e4a26d",
   "metadata": {},
   "source": [
    "# Simulación"
   ]
  },
  {
   "cell_type": "markdown",
   "id": "d94b497f-9aa4-43be-b464-d1500c4632b5",
   "metadata": {},
   "source": [
    "Preparamos el entorno"
   ]
  },
  {
   "cell_type": "code",
   "execution_count": 9,
   "id": "ea0e2dd9-6834-4ab3-9e3c-ceec1c8bb5cf",
   "metadata": {},
   "outputs": [],
   "source": [
    "from pathlib import Path\n",
    "\n",
    "SED_HOME = Path.home().joinpath('SED')\n",
    "\n",
    "#Directorio base donde está instalado el siumulador\n",
    "CDPP_DIR = SED_HOME.joinpath('CDPP_ExtendedStates-codename-Santi')\n",
    "\n",
    "CDPP_SRC = CDPP_DIR.joinpath('src')\n",
    "CDPP_EXAMPLES = CDPP_DIR.joinpath('examples')\n",
    "CDPP_SCRIPTS = CDPP_DIR.joinpath('scripts')\n",
    "BASE_BIN = CDPP_SRC.joinpath('bin')\n",
    "CDPP_ATOMICS = CDPP_SRC.joinpath('cd++/atomics')"
   ]
  },
  {
   "cell_type": "markdown",
   "id": "f8f83caa-c3c6-46ef-b8ae-c6cbdde9c236",
   "metadata": {},
   "source": [
    "Copiamos los archivos del modelo a la carpeta examples de CD++"
   ]
  },
  {
   "cell_type": "code",
   "execution_count": 13,
   "id": "21f7712b-b985-4a58-a5ee-35ee9fcab01b",
   "metadata": {},
   "outputs": [],
   "source": [
    "%%bash -s \"$CDPP_EXAMPLES\"\n",
    "\n",
    "cp -r TP1-CentroAtencion $1/"
   ]
  },
  {
   "cell_type": "markdown",
   "id": "9b2d5963-e7a0-4510-b0d2-66d6b9582931",
   "metadata": {},
   "source": [
    "Compilamos el simulador"
   ]
  },
  {
   "cell_type": "code",
   "execution_count": 26,
   "id": "ffd130f3-9f19-477d-a072-aad09a0ed6ad",
   "metadata": {
    "scrolled": true,
    "tags": []
   },
   "outputs": [
    {
     "name": "stdout",
     "output_type": "stream",
     "text": [
      "make -C ../../../src/cd++ cd++ OUT_DIR=/home/lucero/SED/CDPP_ExtendedStates-codename-Santi/examples/TP1-CentroAtencion/src/bin MODEL_FLAGS=-DREGISTER_ATOMICS\n",
      "make[1]: Entering directory '/home/lucero/SED/CDPP_ExtendedStates-codename-Santi/src/cd++'\n",
      "make -C /home/lucero/SED/CDPP_ExtendedStates-codename-Santi/src/cd++/atomics OBJ_DIR=obj SRC_DIR=/home/lucero/SED/CDPP_ExtendedStates-codename-Santi/src/cd++ MODEL_FLAGS=-DREGISTER_ATOMICS\n",
      "make -C /home/lucero/SED/CDPP_ExtendedStates-codename-Santi/src/cd++/cell OBJ_DIR=obj SRC_DIR=/home/lucero/SED/CDPP_ExtendedStates-codename-Santi/src/cd++ MODEL_FLAGS=-DREGISTER_ATOMICS\n",
      "make[2]: Entering directory '/home/lucero/SED/CDPP_ExtendedStates-codename-Santi/src/cd++/atomics'\n",
      "make -C cpu OBJ_DIR=obj SRC_DIR=/home/lucero/SED/CDPP_ExtendedStates-codename-Santi/src/cd++\n",
      "make -C queue OBJ_DIR=obj SRC_DIR=/home/lucero/SED/CDPP_ExtendedStates-codename-Santi/src/cd++\n",
      "make -C qss OBJ_DIR=obj SRC_DIR=/home/lucero/SED/CDPP_ExtendedStates-codename-Santi/src/cd++\n",
      "make[3]: Entering directory '/home/lucero/SED/CDPP_ExtendedStates-codename-Santi/src/cd++/atomics/cpu'\n",
      "make[3]: Nothing to be done for 'all'.\n",
      "make[3]: Leaving directory '/home/lucero/SED/CDPP_ExtendedStates-codename-Santi/src/cd++/atomics/cpu'\n",
      "make[3]: Entering directory '/home/lucero/SED/CDPP_ExtendedStates-codename-Santi/src/cd++/atomics/queue'\n",
      "make[3]: Nothing to be done for 'all'.\n",
      "make[3]: Leaving directory '/home/lucero/SED/CDPP_ExtendedStates-codename-Santi/src/cd++/atomics/queue'\n",
      "make -C generator OBJ_DIR=obj SRC_DIR=/home/lucero/SED/CDPP_ExtendedStates-codename-Santi/src/cd++\n",
      "make -C /home/lucero/SED/CDPP_ExtendedStates-codename-Santi/src/cd++/evt OBJ_DIR=obj SRC_DIR=/home/lucero/SED/CDPP_ExtendedStates-codename-Santi/src/cd++ MODEL_FLAGS=-DREGISTER_ATOMICS\n",
      "make[3]: Entering directory '/home/lucero/SED/CDPP_ExtendedStates-codename-Santi/src/cd++/atomics/generator'\n",
      "make[3]: Nothing to be done for 'all'.\n",
      "make[3]: Leaving directory '/home/lucero/SED/CDPP_ExtendedStates-codename-Santi/src/cd++/atomics/generator'\n",
      "make[2]: Entering directory '/home/lucero/SED/CDPP_ExtendedStates-codename-Santi/src/cd++/cell'\n",
      "make[2]: Nothing to be done for 'all'.\n",
      "make[2]: Leaving directory '/home/lucero/SED/CDPP_ExtendedStates-codename-Santi/src/cd++/cell'\n",
      "make -C transducer OBJ_DIR=obj SRC_DIR=/home/lucero/SED/CDPP_ExtendedStates-codename-Santi/src/cd++\n",
      "make -C /home/lucero/SED/CDPP_ExtendedStates-codename-Santi/src/cd++/misc OBJ_DIR=obj SRC_DIR=/home/lucero/SED/CDPP_ExtendedStates-codename-Santi/src/cd++ MODEL_FLAGS=-DREGISTER_ATOMICS\n",
      "make[3]: Entering directory '/home/lucero/SED/CDPP_ExtendedStates-codename-Santi/src/cd++/atomics/qss'\n",
      "make[3]: Nothing to be done for 'all'.\n",
      "make[3]: Leaving directory '/home/lucero/SED/CDPP_ExtendedStates-codename-Santi/src/cd++/atomics/qss'\n",
      "make[3]: Entering directory '/home/lucero/SED/CDPP_ExtendedStates-codename-Santi/src/cd++/atomics/transducer'\n",
      "make[3]: Nothing to be done for 'all'.\n",
      "make[3]: Leaving directory '/home/lucero/SED/CDPP_ExtendedStates-codename-Santi/src/cd++/atomics/transducer'\n",
      "make[2]: Leaving directory '/home/lucero/SED/CDPP_ExtendedStates-codename-Santi/src/cd++/atomics'\n",
      "make[2]: Entering directory '/home/lucero/SED/CDPP_ExtendedStates-codename-Santi/src/cd++/evt'\n",
      "make[2]: Nothing to be done for 'all'.\n",
      "make[2]: Leaving directory '/home/lucero/SED/CDPP_ExtendedStates-codename-Santi/src/cd++/evt'\n",
      "make -C /home/lucero/SED/CDPP_ExtendedStates-codename-Santi/src/cd++/model OBJ_DIR=obj SRC_DIR=/home/lucero/SED/CDPP_ExtendedStates-codename-Santi/src/cd++ MODEL_FLAGS=-DREGISTER_ATOMICS\n",
      "make[2]: Entering directory '/home/lucero/SED/CDPP_ExtendedStates-codename-Santi/src/cd++/misc'\n",
      "make -C math OBJ_DIR=obj SRC_DIR=/home/lucero/SED/CDPP_ExtendedStates-codename-Santi/src/cd++\n",
      "make -C /home/lucero/SED/CDPP_ExtendedStates-codename-Santi/src/cd++/msg OBJ_DIR=obj SRC_DIR=/home/lucero/SED/CDPP_ExtendedStates-codename-Santi/src/cd++ MODEL_FLAGS=-DREGISTER_ATOMICS\n",
      "make[3]: Entering directory '/home/lucero/SED/CDPP_ExtendedStates-codename-Santi/src/cd++/misc/math'\n",
      "make[3]: Nothing to be done for 'all'.\n",
      "make[3]: Leaving directory '/home/lucero/SED/CDPP_ExtendedStates-codename-Santi/src/cd++/misc/math'\n",
      "make[2]: Leaving directory '/home/lucero/SED/CDPP_ExtendedStates-codename-Santi/src/cd++/misc'\n",
      "make -C /home/lucero/SED/CDPP_ExtendedStates-codename-Santi/src/cd++/parser OBJ_DIR=obj SRC_DIR=/home/lucero/SED/CDPP_ExtendedStates-codename-Santi/src/cd++ MODEL_FLAGS=-DREGISTER_ATOMICS\n",
      "make -C /home/lucero/SED/CDPP_ExtendedStates-codename-Santi/src/cd++/proc OBJ_DIR=obj SRC_DIR=/home/lucero/SED/CDPP_ExtendedStates-codename-Santi/src/cd++ MODEL_FLAGS=-DREGISTER_ATOMICS\n",
      "make[2]: Entering directory '/home/lucero/SED/CDPP_ExtendedStates-codename-Santi/src/cd++/model'\n",
      "make -C state OBJ_DIR=obj SRC_DIR=/home/lucero/SED/CDPP_ExtendedStates-codename-Santi/src/cd++\n",
      "make[2]: Entering directory '/home/lucero/SED/CDPP_ExtendedStates-codename-Santi/src/cd++/msg'\n",
      "make[2]: Nothing to be done for 'all'.\n",
      "make[2]: Leaving directory '/home/lucero/SED/CDPP_ExtendedStates-codename-Santi/src/cd++/msg'\n",
      "make[2]: Entering directory '/home/lucero/SED/CDPP_ExtendedStates-codename-Santi/src/cd++/parser'\n",
      "make -C cdlang OBJ_DIR=obj SRC_DIR=/home/lucero/SED/CDPP_ExtendedStates-codename-Santi/src/cd++\n",
      "make[3]: Entering directory '/home/lucero/SED/CDPP_ExtendedStates-codename-Santi/src/cd++/model/state'\n",
      "make[3]: Nothing to be done for 'all'.\n",
      "make[3]: Leaving directory '/home/lucero/SED/CDPP_ExtendedStates-codename-Santi/src/cd++/model/state'\n",
      "make[2]: Leaving directory '/home/lucero/SED/CDPP_ExtendedStates-codename-Santi/src/cd++/model'\n",
      "make -C /home/lucero/SED/CDPP_ExtendedStates-codename-Santi/src/cd++/sim OBJ_DIR=obj SRC_DIR=/home/lucero/SED/CDPP_ExtendedStates-codename-Santi/src/cd++ MODEL_FLAGS=-DREGISTER_ATOMICS\n",
      "make -C /home/lucero/SED/CDPP_ExtendedStates-codename-Santi/src/cd++/utils OBJ_DIR=obj SRC_DIR=/home/lucero/SED/CDPP_ExtendedStates-codename-Santi/src/cd++ MODEL_FLAGS=-DREGISTER_ATOMICS\n",
      "make[3]: Entering directory '/home/lucero/SED/CDPP_ExtendedStates-codename-Santi/src/cd++/parser/cdlang'\n",
      "make[2]: Entering directory '/home/lucero/SED/CDPP_ExtendedStates-codename-Santi/src/cd++/sim'\n",
      "make[2]: Entering directory '/home/lucero/SED/CDPP_ExtendedStates-codename-Santi/src/cd++/proc'\n",
      "make -C state OBJ_DIR=obj SRC_DIR=/home/lucero/SED/CDPP_ExtendedStates-codename-Santi/src/cd++\n",
      "make[3]: Entering directory '/home/lucero/SED/CDPP_ExtendedStates-codename-Santi/src/cd++/proc/state'\n",
      "make[3]: Nothing to be done for 'all'.\n",
      "make[3]: Leaving directory '/home/lucero/SED/CDPP_ExtendedStates-codename-Santi/src/cd++/proc/state'\n",
      "make[2]: Leaving directory '/home/lucero/SED/CDPP_ExtendedStates-codename-Santi/src/cd++/proc'\n",
      "make -C /home/lucero/SED/CDPP_ExtendedStates-codename-Santi/src/cd++/val OBJ_DIR=obj SRC_DIR=/home/lucero/SED/CDPP_ExtendedStates-codename-Santi/src/cd++ MODEL_FLAGS=-DREGISTER_ATOMICS\n",
      "make[2]: Entering directory '/home/lucero/SED/CDPP_ExtendedStates-codename-Santi/src/cd++/utils'\n",
      "make -C log OBJ_DIR=obj SRC_DIR=/home/lucero/SED/CDPP_ExtendedStates-codename-Santi/src/cd++\n",
      "make[2]: Entering directory '/home/lucero/SED/CDPP_ExtendedStates-codename-Santi/src/cd++/val'\n",
      "make[2]: Nothing to be done for 'all'.\n",
      "make[2]: Leaving directory '/home/lucero/SED/CDPP_ExtendedStates-codename-Santi/src/cd++/val'\n",
      "make -C /home/lucero/SED/CDPP_ExtendedStates-codename-Santi/src/cd++/main OBJ_DIR=obj SRC_DIR=/home/lucero/SED/CDPP_ExtendedStates-codename-Santi/src/cd++ MODEL_FLAGS=-DREGISTER_ATOMICS\n",
      "make[3]: Entering directory '/home/lucero/SED/CDPP_ExtendedStates-codename-Santi/src/cd++/utils/log'\n",
      "make[3]: Nothing to be done for 'all'.\n",
      "make[3]: Leaving directory '/home/lucero/SED/CDPP_ExtendedStates-codename-Santi/src/cd++/utils/log'\n",
      "make[2]: Leaving directory '/home/lucero/SED/CDPP_ExtendedStates-codename-Santi/src/cd++/utils'\n",
      "make[2]: Entering directory '/home/lucero/SED/CDPP_ExtendedStates-codename-Santi/src/cd++/main'\n",
      "make[2]: Nothing to be done for 'all'.\n",
      "make[2]: Leaving directory '/home/lucero/SED/CDPP_ExtendedStates-codename-Santi/src/cd++/main'\n",
      "make -C /home/lucero/SED/CDPP_ExtendedStates-codename-Santi/src/cd++/warped OBJ_DIR=obj SRC_DIR=/home/lucero/SED/CDPP_ExtendedStates-codename-Santi/src/cd++ MODEL_FLAGS=-DREGISTER_ATOMICS\n",
      "make[2]: Entering directory '/home/lucero/SED/CDPP_ExtendedStates-codename-Santi/src/cd++/warped'\n",
      "make -C common OBJ_DIR=obj SRC_DIR=/home/lucero/SED/CDPP_ExtendedStates-codename-Santi/src/cd++\n",
      "make[3]: Entering directory '/home/lucero/SED/CDPP_ExtendedStates-codename-Santi/src/cd++/warped/common'\n",
      "make[3]: Nothing to be done for 'all'.\n",
      "make[3]: Leaving directory '/home/lucero/SED/CDPP_ExtendedStates-codename-Santi/src/cd++/warped/common'\n",
      "make -C notime OBJ_DIR=obj SRC_DIR=/home/lucero/SED/CDPP_ExtendedStates-codename-Santi/src/cd++\n",
      "make[3]: Entering directory '/home/lucero/SED/CDPP_ExtendedStates-codename-Santi/src/cd++/warped/notime'\n",
      "make[3]: Nothing to be done for 'all'.\n",
      "make[3]: Leaving directory '/home/lucero/SED/CDPP_ExtendedStates-codename-Santi/src/cd++/warped/notime'\n",
      "make[2]: Leaving directory '/home/lucero/SED/CDPP_ExtendedStates-codename-Santi/src/cd++/warped'\n",
      "g++ -c -I/home/lucero/SED/CDPP_ExtendedStates-codename-Santi/src/cd++/warped -I/home/lucero/SED/CDPP_ExtendedStates-codename-Santi/src/cd++/warped/common -I/home/lucero/SED/CDPP_ExtendedStates-codename-Santi/src/cd++/warped/common/obj -I/home/lucero/SED/CDPP_ExtendedStates-codename-Santi/src/cd++/warped/notime -I/home/lucero/SED/CDPP_ExtendedStates-codename-Santi/src/cd++/warped/notime/obj -I/home/lucero/SED/CDPP_ExtendedStates-codename-Santi/src/cd++/misc -I/home/lucero/SED/CDPP_ExtendedStates-codename-Santi/src/cd++/misc/math -I/home/lucero/SED/CDPP_ExtendedStates-codename-Santi/src/cd++/misc/math/obj -I/home/lucero/SED/CDPP_ExtendedStates-codename-Santi/src/cd++/misc/obj -I/home/lucero/SED/CDPP_ExtendedStates-codename-Santi/src/cd++/val -I/home/lucero/SED/CDPP_ExtendedStates-codename-Santi/src/cd++/val/obj -I/home/lucero/SED/CDPP_ExtendedStates-codename-Santi/src/cd++/proc -I/home/lucero/SED/CDPP_ExtendedStates-codename-Santi/src/cd++/proc/state -I/home/lucero/SED/CDPP_ExtendedStates-codename-Santi/src/cd++/proc/state/obj -I/home/lucero/SED/CDPP_ExtendedStates-codename-Santi/src/cd++/proc/obj -I/home/lucero/SED/CDPP_ExtendedStates-codename-Santi/src/cd++/main -I/home/lucero/SED/CDPP_ExtendedStates-codename-Santi/src/cd++/main/obj -I/home/lucero/SED/CDPP_ExtendedStates-codename-Santi/src/cd++/sim -I/home/lucero/SED/CDPP_ExtendedStates-codename-Santi/src/cd++/sim/loader -I/home/lucero/SED/CDPP_ExtendedStates-codename-Santi/src/cd++/sim/loader/obj -I/home/lucero/SED/CDPP_ExtendedStates-codename-Santi/src/cd++/sim/obj -I/home/lucero/SED/CDPP_ExtendedStates-codename-Santi/src/cd++/cell -I/home/lucero/SED/CDPP_ExtendedStates-codename-Santi/src/cd++/cell/obj -I/home/lucero/SED/CDPP_ExtendedStates-codename-Santi/src/cd++/parser -I/home/lucero/SED/CDPP_ExtendedStates-codename-Santi/src/cd++/parser/cdlang -I/home/lucero/SED/CDPP_ExtendedStates-codename-Santi/src/cd++/parser/cdlang/obj -I/home/lucero/SED/CDPP_ExtendedStates-codename-Santi/src/cd++/parser/obj -I/home/lucero/SED/CDPP_ExtendedStates-codename-Santi/src/cd++/evt -I/home/lucero/SED/CDPP_ExtendedStates-codename-Santi/src/cd++/evt/obj -I/home/lucero/SED/CDPP_ExtendedStates-codename-Santi/src/cd++/msg -I/home/lucero/SED/CDPP_ExtendedStates-codename-Santi/src/cd++/msg/obj -I/home/lucero/SED/CDPP_ExtendedStates-codename-Santi/src/cd++/atomics -I/home/lucero/SED/CDPP_ExtendedStates-codename-Santi/src/cd++/atomics/generator -I/home/lucero/SED/CDPP_ExtendedStates-codename-Santi/src/cd++/atomics/generator/obj -I/home/lucero/SED/CDPP_ExtendedStates-codename-Santi/src/cd++/atomics/transducer -I/home/lucero/SED/CDPP_ExtendedStates-codename-Santi/src/cd++/atomics/transducer/obj -I/home/lucero/SED/CDPP_ExtendedStates-codename-Santi/src/cd++/atomics/queue -I/home/lucero/SED/CDPP_ExtendedStates-codename-Santi/src/cd++/atomics/queue/obj -I/home/lucero/SED/CDPP_ExtendedStates-codename-Santi/src/cd++/atomics/cpu -I/home/lucero/SED/CDPP_ExtendedStates-codename-Santi/src/cd++/atomics/cpu/obj -I/home/lucero/SED/CDPP_ExtendedStates-codename-Santi/src/cd++/atomics/qss -I/home/lucero/SED/CDPP_ExtendedStates-codename-Santi/src/cd++/atomics/qss/obj -I/home/lucero/SED/CDPP_ExtendedStates-codename-Santi/src/cd++/model -I/home/lucero/SED/CDPP_ExtendedStates-codename-Santi/src/cd++/model/state -I/home/lucero/SED/CDPP_ExtendedStates-codename-Santi/src/cd++/model/state/obj -I/home/lucero/SED/CDPP_ExtendedStates-codename-Santi/src/cd++/model/obj -I/home/lucero/SED/CDPP_ExtendedStates-codename-Santi/src/cd++/utils -I/home/lucero/SED/CDPP_ExtendedStates-codename-Santi/src/cd++/utils/log -I/home/lucero/SED/CDPP_ExtendedStates-codename-Santi/src/cd++/utils/log/obj -I/home/lucero/SED/CDPP_ExtendedStates-codename-Santi/src/cd++/utils/obj  -DREGISTER_ATOMICS -DKERNEL_NOTIME -DUSE_USER_VTIME -DHAS_BOOLEAN -g -O0 -Wall -Wno-deprecated -std=c++11  parser.cpp -o obj/parser.o\n",
      "make clean\n",
      "make[3]: Entering directory '/home/lucero/SED/CDPP_ExtendedStates-codename-Santi/src/cd++/sim'\n",
      "make -C loader clean OBJ_DIR=obj SRC_DIR=/home/lucero/SED/CDPP_ExtendedStates-codename-Santi/src/cd++\n",
      "make[4]: Entering directory '/home/lucero/SED/CDPP_ExtendedStates-codename-Santi/src/cd++/sim/loader'\n",
      "make[4]: Leaving directory '/home/lucero/SED/CDPP_ExtendedStates-codename-Santi/src/cd++/sim/loader'\n",
      "make[3]: Leaving directory '/home/lucero/SED/CDPP_ExtendedStates-codename-Santi/src/cd++/sim'\n",
      "make -C loader OBJ_DIR=obj SRC_DIR=/home/lucero/SED/CDPP_ExtendedStates-codename-Santi/src/cd++\n",
      "make[3]: Entering directory '/home/lucero/SED/CDPP_ExtendedStates-codename-Santi/src/cd++/sim/loader'\n",
      "g++ -c -I/home/lucero/SED/CDPP_ExtendedStates-codename-Santi/src/cd++/warped -I/home/lucero/SED/CDPP_ExtendedStates-codename-Santi/src/cd++/warped/common -I/home/lucero/SED/CDPP_ExtendedStates-codename-Santi/src/cd++/warped/common/obj -I/home/lucero/SED/CDPP_ExtendedStates-codename-Santi/src/cd++/warped/notime -I/home/lucero/SED/CDPP_ExtendedStates-codename-Santi/src/cd++/warped/notime/obj -I/home/lucero/SED/CDPP_ExtendedStates-codename-Santi/src/cd++/misc -I/home/lucero/SED/CDPP_ExtendedStates-codename-Santi/src/cd++/misc/math -I/home/lucero/SED/CDPP_ExtendedStates-codename-Santi/src/cd++/misc/math/obj -I/home/lucero/SED/CDPP_ExtendedStates-codename-Santi/src/cd++/misc/obj -I/home/lucero/SED/CDPP_ExtendedStates-codename-Santi/src/cd++/val -I/home/lucero/SED/CDPP_ExtendedStates-codename-Santi/src/cd++/val/obj -I/home/lucero/SED/CDPP_ExtendedStates-codename-Santi/src/cd++/proc -I/home/lucero/SED/CDPP_ExtendedStates-codename-Santi/src/cd++/proc/state -I/home/lucero/SED/CDPP_ExtendedStates-codename-Santi/src/cd++/proc/state/obj -I/home/lucero/SED/CDPP_ExtendedStates-codename-Santi/src/cd++/proc/obj -I/home/lucero/SED/CDPP_ExtendedStates-codename-Santi/src/cd++/main -I/home/lucero/SED/CDPP_ExtendedStates-codename-Santi/src/cd++/main/obj -I/home/lucero/SED/CDPP_ExtendedStates-codename-Santi/src/cd++/sim -I/home/lucero/SED/CDPP_ExtendedStates-codename-Santi/src/cd++/sim/loader -I/home/lucero/SED/CDPP_ExtendedStates-codename-Santi/src/cd++/sim/loader/obj -I/home/lucero/SED/CDPP_ExtendedStates-codename-Santi/src/cd++/sim/obj -I/home/lucero/SED/CDPP_ExtendedStates-codename-Santi/src/cd++/cell -I/home/lucero/SED/CDPP_ExtendedStates-codename-Santi/src/cd++/cell/obj -I/home/lucero/SED/CDPP_ExtendedStates-codename-Santi/src/cd++/parser -I/home/lucero/SED/CDPP_ExtendedStates-codename-Santi/src/cd++/parser/cdlang -I/home/lucero/SED/CDPP_ExtendedStates-codename-Santi/src/cd++/parser/cdlang/obj -I/home/lucero/SED/CDPP_ExtendedStates-codename-Santi/src/cd++/parser/obj -I/home/lucero/SED/CDPP_ExtendedStates-codename-Santi/src/cd++/evt -I/home/lucero/SED/CDPP_ExtendedStates-codename-Santi/src/cd++/evt/obj -I/home/lucero/SED/CDPP_ExtendedStates-codename-Santi/src/cd++/msg -I/home/lucero/SED/CDPP_ExtendedStates-codename-Santi/src/cd++/msg/obj -I/home/lucero/SED/CDPP_ExtendedStates-codename-Santi/src/cd++/atomics -I/home/lucero/SED/CDPP_ExtendedStates-codename-Santi/src/cd++/atomics/generator -I/home/lucero/SED/CDPP_ExtendedStates-codename-Santi/src/cd++/atomics/generator/obj -I/home/lucero/SED/CDPP_ExtendedStates-codename-Santi/src/cd++/atomics/transducer -I/home/lucero/SED/CDPP_ExtendedStates-codename-Santi/src/cd++/atomics/transducer/obj -I/home/lucero/SED/CDPP_ExtendedStates-codename-Santi/src/cd++/atomics/queue -I/home/lucero/SED/CDPP_ExtendedStates-codename-Santi/src/cd++/atomics/queue/obj -I/home/lucero/SED/CDPP_ExtendedStates-codename-Santi/src/cd++/atomics/cpu -I/home/lucero/SED/CDPP_ExtendedStates-codename-Santi/src/cd++/atomics/cpu/obj -I/home/lucero/SED/CDPP_ExtendedStates-codename-Santi/src/cd++/atomics/qss -I/home/lucero/SED/CDPP_ExtendedStates-codename-Santi/src/cd++/atomics/qss/obj -I/home/lucero/SED/CDPP_ExtendedStates-codename-Santi/src/cd++/model -I/home/lucero/SED/CDPP_ExtendedStates-codename-Santi/src/cd++/model/state -I/home/lucero/SED/CDPP_ExtendedStates-codename-Santi/src/cd++/model/state/obj -I/home/lucero/SED/CDPP_ExtendedStates-codename-Santi/src/cd++/model/obj -I/home/lucero/SED/CDPP_ExtendedStates-codename-Santi/src/cd++/utils -I/home/lucero/SED/CDPP_ExtendedStates-codename-Santi/src/cd++/utils/log -I/home/lucero/SED/CDPP_ExtendedStates-codename-Santi/src/cd++/utils/log/obj -I/home/lucero/SED/CDPP_ExtendedStates-codename-Santi/src/cd++/utils/obj  -DREGISTER_ATOMICS -DKERNEL_NOTIME -DUSE_USER_VTIME -DHAS_BOOLEAN -g -O0 -Wall -Wno-deprecated -std=c++11  stdaload.cpp -o obj/stdaload.o\n",
      "g++ -c -I/home/lucero/SED/CDPP_ExtendedStates-codename-Santi/src/cd++/warped -I/home/lucero/SED/CDPP_ExtendedStates-codename-Santi/src/cd++/warped/common -I/home/lucero/SED/CDPP_ExtendedStates-codename-Santi/src/cd++/warped/common/obj -I/home/lucero/SED/CDPP_ExtendedStates-codename-Santi/src/cd++/warped/notime -I/home/lucero/SED/CDPP_ExtendedStates-codename-Santi/src/cd++/warped/notime/obj -I/home/lucero/SED/CDPP_ExtendedStates-codename-Santi/src/cd++/misc -I/home/lucero/SED/CDPP_ExtendedStates-codename-Santi/src/cd++/misc/math -I/home/lucero/SED/CDPP_ExtendedStates-codename-Santi/src/cd++/misc/math/obj -I/home/lucero/SED/CDPP_ExtendedStates-codename-Santi/src/cd++/misc/obj -I/home/lucero/SED/CDPP_ExtendedStates-codename-Santi/src/cd++/val -I/home/lucero/SED/CDPP_ExtendedStates-codename-Santi/src/cd++/val/obj -I/home/lucero/SED/CDPP_ExtendedStates-codename-Santi/src/cd++/proc -I/home/lucero/SED/CDPP_ExtendedStates-codename-Santi/src/cd++/proc/state -I/home/lucero/SED/CDPP_ExtendedStates-codename-Santi/src/cd++/proc/state/obj -I/home/lucero/SED/CDPP_ExtendedStates-codename-Santi/src/cd++/proc/obj -I/home/lucero/SED/CDPP_ExtendedStates-codename-Santi/src/cd++/main -I/home/lucero/SED/CDPP_ExtendedStates-codename-Santi/src/cd++/main/obj -I/home/lucero/SED/CDPP_ExtendedStates-codename-Santi/src/cd++/sim -I/home/lucero/SED/CDPP_ExtendedStates-codename-Santi/src/cd++/sim/loader -I/home/lucero/SED/CDPP_ExtendedStates-codename-Santi/src/cd++/sim/loader/obj -I/home/lucero/SED/CDPP_ExtendedStates-codename-Santi/src/cd++/sim/obj -I/home/lucero/SED/CDPP_ExtendedStates-codename-Santi/src/cd++/cell -I/home/lucero/SED/CDPP_ExtendedStates-codename-Santi/src/cd++/cell/obj -I/home/lucero/SED/CDPP_ExtendedStates-codename-Santi/src/cd++/parser -I/home/lucero/SED/CDPP_ExtendedStates-codename-Santi/src/cd++/parser/cdlang -I/home/lucero/SED/CDPP_ExtendedStates-codename-Santi/src/cd++/parser/cdlang/obj -I/home/lucero/SED/CDPP_ExtendedStates-codename-Santi/src/cd++/parser/obj -I/home/lucero/SED/CDPP_ExtendedStates-codename-Santi/src/cd++/evt -I/home/lucero/SED/CDPP_ExtendedStates-codename-Santi/src/cd++/evt/obj -I/home/lucero/SED/CDPP_ExtendedStates-codename-Santi/src/cd++/msg -I/home/lucero/SED/CDPP_ExtendedStates-codename-Santi/src/cd++/msg/obj -I/home/lucero/SED/CDPP_ExtendedStates-codename-Santi/src/cd++/atomics -I/home/lucero/SED/CDPP_ExtendedStates-codename-Santi/src/cd++/atomics/generator -I/home/lucero/SED/CDPP_ExtendedStates-codename-Santi/src/cd++/atomics/generator/obj -I/home/lucero/SED/CDPP_ExtendedStates-codename-Santi/src/cd++/atomics/transducer -I/home/lucero/SED/CDPP_ExtendedStates-codename-Santi/src/cd++/atomics/transducer/obj -I/home/lucero/SED/CDPP_ExtendedStates-codename-Santi/src/cd++/atomics/queue -I/home/lucero/SED/CDPP_ExtendedStates-codename-Santi/src/cd++/atomics/queue/obj -I/home/lucero/SED/CDPP_ExtendedStates-codename-Santi/src/cd++/atomics/cpu -I/home/lucero/SED/CDPP_ExtendedStates-codename-Santi/src/cd++/atomics/cpu/obj -I/home/lucero/SED/CDPP_ExtendedStates-codename-Santi/src/cd++/atomics/qss -I/home/lucero/SED/CDPP_ExtendedStates-codename-Santi/src/cd++/atomics/qss/obj -I/home/lucero/SED/CDPP_ExtendedStates-codename-Santi/src/cd++/model -I/home/lucero/SED/CDPP_ExtendedStates-codename-Santi/src/cd++/model/state -I/home/lucero/SED/CDPP_ExtendedStates-codename-Santi/src/cd++/model/state/obj -I/home/lucero/SED/CDPP_ExtendedStates-codename-Santi/src/cd++/model/obj -I/home/lucero/SED/CDPP_ExtendedStates-codename-Santi/src/cd++/utils -I/home/lucero/SED/CDPP_ExtendedStates-codename-Santi/src/cd++/utils/log -I/home/lucero/SED/CDPP_ExtendedStates-codename-Santi/src/cd++/utils/log/obj -I/home/lucero/SED/CDPP_ExtendedStates-codename-Santi/src/cd++/utils/obj  -DREGISTER_ATOMICS -DKERNEL_NOTIME -DUSE_USER_VTIME -DHAS_BOOLEAN -g -O0 -Wall -Wno-deprecated -std=c++11  gram.c -o obj/gram.o\n",
      "make[3]: Leaving directory '/home/lucero/SED/CDPP_ExtendedStates-codename-Santi/src/cd++/sim/loader'\n",
      "make[2]: Leaving directory '/home/lucero/SED/CDPP_ExtendedStates-codename-Santi/src/cd++/sim'\n",
      "make[3]: Leaving directory '/home/lucero/SED/CDPP_ExtendedStates-codename-Santi/src/cd++/parser/cdlang'\n",
      "make[2]: Leaving directory '/home/lucero/SED/CDPP_ExtendedStates-codename-Santi/src/cd++/parser'\n",
      "g++ -L/home/lucero/SED/CDPP_ExtendedStates-codename-Santi/examples/TP1-CentroAtencion/src/bin -o /home/lucero/SED/CDPP_ExtendedStates-codename-Santi/examples/TP1-CentroAtencion/src/bin/cd++ main/obj/main.o warped/common/obj/VTime.o warped/notime/obj/FileQueue.o warped/notime/obj/NoTimeObject.o warped/notime/obj/NoTime.o warped/notime/obj/CommManager.o warped/notime/obj/KernelMsgs.o warped/notime/obj/Interactive.o warped/notime/obj/BasicState.o warped/notime/obj/BasicNoTime.o warped/notime/obj/BasicEvent.o warped/notime/obj/DebugStream.o warped/notime/obj/InputQueue.o warped/notime/obj/LogicalProcess.o /home/lucero/SED/CDPP_ExtendedStates-codename-Santi/examples/TP1-CentroAtencion/src/bin/Medidor.o /home/lucero/SED/CDPP_ExtendedStates-codename-Santi/examples/TP1-CentroAtencion/src/bin/DistribuidorLlamadas.o /home/lucero/SED/CDPP_ExtendedStates-codename-Santi/examples/TP1-CentroAtencion/src/bin/DistribuidorAgentes.o /home/lucero/SED/CDPP_ExtendedStates-codename-Santi/examples/TP1-CentroAtencion/src/bin/Cola.o /home/lucero/SED/CDPP_ExtendedStates-codename-Santi/examples/TP1-CentroAtencion/src/bin/ModelTemplate.o /home/lucero/SED/CDPP_ExtendedStates-codename-Santi/examples/TP1-CentroAtencion/src/bin/GeneradorLlamadas.o /home/lucero/SED/CDPP_ExtendedStates-codename-Santi/examples/TP1-CentroAtencion/src/bin/Agente.o /home/lucero/SED/CDPP_ExtendedStates-codename-Santi/examples/TP1-CentroAtencion/src/bin/register.o -lsimu\n",
      "make[1]: Leaving directory '/home/lucero/SED/CDPP_ExtendedStates-codename-Santi/src/cd++'\n"
     ]
    },
    {
     "name": "stderr",
     "output_type": "stream",
     "text": [
      "/usr/bin/ld: /home/lucero/SED/CDPP_ExtendedStates-codename-Santi/examples/TP1-CentroAtencion/src/bin/libsimu.a(macroexp.o): in function `macroExpansion::expand[abi:cxx11]()':\n",
      "/home/lucero/SED/CDPP_ExtendedStates-codename-Santi/src/cd++/utils/macroexp.cpp:147: warning: the use of `tmpnam' is dangerous, better use `mkstemp'\n",
      "/usr/bin/ld: warped/notime/obj/DebugStream.o: in function `DebugStream::interact()':\n",
      "/home/lucero/SED/CDPP_ExtendedStates-codename-Santi/src/cd++/warped/notime/DebugStream.cpp:682: warning: the `gets' function is dangerous and should not be used.\n"
     ]
    }
   ],
   "source": [
    "%%bash -s \"$CDPP_EXAMPLES\"\n",
    "\n",
    "cd $1/TP1-CentroAtencion/src\n",
    "\n",
    "# make clean\n",
    "\n",
    "# Correr para compilar viendo cada paso\n",
    "make -j4\n"
   ]
  },
  {
   "cell_type": "markdown",
   "id": "91996483-e772-4974-9eca-128221f07578",
   "metadata": {},
   "source": [
    "Corremos la simulacion"
   ]
  },
  {
   "cell_type": "code",
   "execution_count": null,
   "id": "768c1819-f6ed-4941-8435-ade56f1eb60b",
   "metadata": {},
   "outputs": [],
   "source": [
    "%%bash -s \"$CDPP_EXAMPLES\"\n",
    "\n",
    "cd $1/TP1-CentroAtencion/src/\n",
    "\n",
    "bin/cd++ -m ../model/centro_atencion.ma  \\\n",
    "         -e ../model/centro_atencion.ev  \\\n",
    "         -l ../centro_atencion.log \\\n",
    "         -o ../centro_atencion.out"
   ]
  }
 ],
 "metadata": {
  "kernelspec": {
   "display_name": "Python 3",
   "language": "python",
   "name": "python3"
  },
  "language_info": {
   "codemirror_mode": {
    "name": "ipython",
    "version": 3
   },
   "file_extension": ".py",
   "mimetype": "text/x-python",
   "name": "python",
   "nbconvert_exporter": "python",
   "pygments_lexer": "ipython3",
   "version": "3.7.10"
  }
 },
 "nbformat": 4,
 "nbformat_minor": 5
}
